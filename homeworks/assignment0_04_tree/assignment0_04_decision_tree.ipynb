{
 "cells": [
  {
   "cell_type": "markdown",
   "metadata": {},
   "source": [
    "## assignment 04: Decision Tree construction"
   ]
  },
  {
   "cell_type": "code",
   "execution_count": null,
   "metadata": {},
   "outputs": [],
   "source": [
    "# If working in colab, uncomment the following line\n",
    "# ! wget https://raw.githubusercontent.com/girafe-ai/ml-course/22f_basic/homeworks/assignment0_04_tree/tree.py -nc"
   ]
  },
  {
   "cell_type": "code",
   "execution_count": 1,
   "metadata": {
    "tags": []
   },
   "outputs": [],
   "source": [
    "import numpy as np\n",
    "np.seterr(divide='ignore', invalid='ignore')\n",
    "from matplotlib import pyplot as plt\n",
    "%matplotlib inline\n",
    "from sklearn.base import BaseEstimator\n",
    "from sklearn.datasets import make_classification, make_regression, load_digits\n",
    "from sklearn.model_selection import train_test_split, GridSearchCV\n",
    "from sklearn.metrics import accuracy_score, mean_squared_error\n",
    "import pandas as pd\n",
    "data_url = \"http://lib.stat.cmu.edu/datasets/boston\"\n",
    "raw_df = pd.read_csv(data_url, sep=\"\\s+\", skiprows=22, header=None)\n",
    "data_boston = np.hstack([raw_df.values[::2, :], raw_df.values[1::2, :2]])\n",
    "target_boston = raw_df.values[1::2, 2]\n",
    "\n",
    "%load_ext autoreload\n",
    "%autoreload 2"
   ]
  },
  {
   "cell_type": "markdown",
   "metadata": {},
   "source": [
    "Let's fix the `random_state` (a.k.a. random seed)."
   ]
  },
  {
   "cell_type": "code",
   "execution_count": 2,
   "metadata": {
    "tags": []
   },
   "outputs": [],
   "source": [
    "RANDOM_STATE = 42"
   ]
  },
  {
   "cell_type": "markdown",
   "metadata": {},
   "source": [
    "__Your ultimate task for today is to impement the `DecisionTree` class and use it to solve classification and regression problems.__\n",
    "\n",
    "__Specifications:__\n",
    "- The class inherits from `sklearn.BaseEstimator`;\n",
    "- Constructor is implemented for you. It has the following parameters:\n",
    "    * `max_depth` - maximum depth of the tree; `np.inf` by default\n",
    "    * `min_samples_split` - minimal number of samples in the leaf to make a split; `2` by default;\n",
    "    * `criterion` - criterion to select the best split; in classification one of `['gini', 'entropy']`, default `gini`; in regression `variance`;\n",
    "\n",
    "- `fit` method takes `X` (`numpy.array` of type `float` shaped `(n_objects, n_features)`) and `y` (`numpy.array` of type float shaped `(n_objects, 1)` in regression; `numpy.array` of type int shaped `(n_objects, 1)` with class labels in classification). It works inplace and fits the `DecisionTree` class instance to the provided data from scratch.\n",
    "\n",
    "- `predict` method takes `X` (`numpy.array` of type `float` shaped `(n_objects, n_features)`) and returns the predicted $\\hat{y}$ values. In classification it is a class label for every object (the most frequent in the leaf; if several classes meet this requirement select the one with the smallest class index). In regression it is the desired constant (e.g. mean value for `variance` criterion)\n",
    "\n",
    "- `predict_proba` method (works only for classification (`gini` or `entropy` criterion). It takes `X` (`numpy.array` of type `float` shaped `(n_objects, n_features)`) and returns the `numpy.array` of type `float` shaped `(n_objects, n_features)` with class probabilities for every object from `X`. Class $i$ probability equals the ratio of $i$ class objects that got in this node in the training set.\n",
    "\n",
    "    \n",
    "__Small recap:__\n",
    "\n",
    "To find the optimal split the following functional is evaluated:\n",
    "    \n",
    "$$G(j, t) = H(Q) - \\dfrac{|L|}{|Q|} H(L) - \\dfrac{|R|}{|Q|} H(R),$$\n",
    "    where $Q$ is the dataset from the current node, $L$ and $R$ are left and right subsets defined by the split $x^{(j)} < t$.\n",
    "\n",
    "\n",
    "\n",
    "1. Classification. Let $p_i$ be the probability of $i$ class in subset $X$ (ratio of the $i$ class objects in the dataset). The criterions are defined as:\n",
    "    \n",
    "    * `gini`: Gini impurity $$H(R) = 1 -\\sum_{i = 1}^K p_i^2$$\n",
    "    \n",
    "    * `entropy`: Entropy $$H(R) = -\\sum_{i = 1}^K p_i \\log(p_i)$$ (One might use the natural logarithm).\n",
    "    \n",
    "2. Regression. Let $y_l$ be the target value for the $R$, $\\mathbf{y} = (y_1, \\dots, y_N)$ – all targets for the selected dataset $X$.\n",
    "    \n",
    "    * `variance`: $$H(R) = \\dfrac{1}{|R|} \\sum_{y_j \\in R}(y_j - \\text{mean}(\\mathbf{y}))^2$$\n",
    "    \n",
    "    * `mad_median`: $$H(R) = \\dfrac{1}{|R|} \\sum_{y_j \\in R}|y_j - \\text{median}(\\mathbf{y})|$$\n",
    "        \n"
   ]
  },
  {
   "cell_type": "markdown",
   "metadata": {},
   "source": [
    "**Hints and comments**:\n",
    "\n",
    "* No need to deal with categorical features, they will not be present.\n",
    "* Siple greedy recursive procedure is enough. However, you can speed it up somehow (e.g. using percentiles).\n",
    "* Please, do not copy implementations available online. You are supposed to build very simple example of the Decision Tree."
   ]
  },
  {
   "cell_type": "markdown",
   "metadata": {},
   "source": [
    "File `tree.py` is waiting for you. Implement all the needed methods in that file."
   ]
  },
  {
   "cell_type": "markdown",
   "metadata": {},
   "source": [
    "### Check yourself"
   ]
  },
  {
   "cell_type": "code",
   "execution_count": 3,
   "metadata": {},
   "outputs": [],
   "source": [
    "from tree import entropy, gini, variance, mad_median, DecisionTree"
   ]
  },
  {
   "cell_type": "markdown",
   "metadata": {},
   "source": [
    "#### Simple check"
   ]
  },
  {
   "cell_type": "code",
   "execution_count": 4,
   "metadata": {},
   "outputs": [],
   "source": [
    "X = np.ones((4, 5), dtype=float) * np.arange(4)[:, None]\n",
    "y = np.arange(4)[:, None] + np.asarray([0.2, -0.3, 0.1, 0.4])[:, None]\n",
    "class_estimator = DecisionTree(max_depth=10, criterion_name='gini')\n",
    "\n",
    "(X_l, y_l), (X_r, y_r) = class_estimator.make_split(1, 1., X, y)\n",
    "\n",
    "assert np.array_equal(X[:1], X_l)\n",
    "assert np.array_equal(X[1:], X_r)\n",
    "assert np.array_equal(y[:1], y_l)\n",
    "assert np.array_equal(y[1:], y_r)"
   ]
  },
  {
   "cell_type": "markdown",
   "metadata": {},
   "source": [
    "#### Classification problem"
   ]
  },
  {
   "cell_type": "code",
   "execution_count": 5,
   "metadata": {},
   "outputs": [],
   "source": [
    "digits_data = load_digits().data\n",
    "digits_target = load_digits().target[:, None] # to make the targets consistent with our model interfaces\n",
    "X_train, X_test, y_train, y_test = train_test_split(digits_data, digits_target, test_size=0.2, random_state=RANDOM_STATE)"
   ]
  },
  {
   "cell_type": "code",
   "execution_count": 6,
   "metadata": {},
   "outputs": [],
   "source": [
    "assert len(y_train.shape) == 2 and y_train.shape[0] == len(X_train)"
   ]
  },
  {
   "cell_type": "code",
   "execution_count": 7,
   "metadata": {
    "tags": []
   },
   "outputs": [
    {
     "data": {
      "text/plain": [
       "(1437, 1)"
      ]
     },
     "execution_count": 7,
     "metadata": {},
     "output_type": "execute_result"
    }
   ],
   "source": [
    "y_train.shape"
   ]
  },
  {
   "cell_type": "code",
   "execution_count": 8,
   "metadata": {},
   "outputs": [],
   "source": [
    "class_estimator = DecisionTree(max_depth=10, criterion_name='gini')\n",
    "class_estimator.fit(X_train, y_train)"
   ]
  },
  {
   "cell_type": "code",
   "execution_count": 9,
   "metadata": {
    "tags": []
   },
   "outputs": [
    {
     "data": {
      "text/plain": [
       "10"
      ]
     },
     "execution_count": 9,
     "metadata": {},
     "output_type": "execute_result"
    }
   ],
   "source": [
    "class_estimator.depth"
   ]
  },
  {
   "cell_type": "code",
   "execution_count": 10,
   "metadata": {
    "tags": []
   },
   "outputs": [],
   "source": [
    "ans = class_estimator.predict(X_test)"
   ]
  },
  {
   "cell_type": "code",
   "execution_count": 11,
   "metadata": {
    "tags": []
   },
   "outputs": [
    {
     "name": "stdout",
     "output_type": "stream",
     "text": [
      "0.8638888888888889\n"
     ]
    }
   ],
   "source": [
    "accuracy_gini = accuracy_score(y_test, ans)\n",
    "print(accuracy_gini)"
   ]
  },
  {
   "cell_type": "code",
   "execution_count": 12,
   "metadata": {},
   "outputs": [],
   "source": [
    "reference = np.array([0.09027778, 0.09236111, 0.08333333, 0.09583333, 0.11944444,\n",
    "       0.13888889, 0.09930556, 0.09444444, 0.08055556, 0.10555556])"
   ]
  },
  {
   "cell_type": "code",
   "execution_count": 13,
   "metadata": {},
   "outputs": [
    {
     "name": "stdout",
     "output_type": "stream",
     "text": [
      "0.8805555555555555\n"
     ]
    }
   ],
   "source": [
    "class_estimator = DecisionTree(max_depth=10, criterion_name='entropy')\n",
    "class_estimator.fit(X_train, y_train)\n",
    "ans = class_estimator.predict(X_test)\n",
    "accuracy_entropy = accuracy_score(y_test, ans)\n",
    "print(accuracy_entropy)"
   ]
  },
  {
   "cell_type": "code",
   "execution_count": 14,
   "metadata": {
    "tags": []
   },
   "outputs": [
    {
     "data": {
      "text/plain": [
       "10"
      ]
     },
     "execution_count": 14,
     "metadata": {},
     "output_type": "execute_result"
    }
   ],
   "source": [
    "class_estimator.depth"
   ]
  },
  {
   "cell_type": "code",
   "execution_count": 15,
   "metadata": {},
   "outputs": [],
   "source": [
    "assert  0.84 < accuracy_gini < 0.9\n",
    "assert  0.86 < accuracy_entropy < 0.9"
   ]
  },
  {
   "cell_type": "code",
   "execution_count": 16,
   "metadata": {
    "tags": []
   },
   "outputs": [
    {
     "data": {
      "text/plain": [
       "1.1102230246251565e-16"
      ]
     },
     "execution_count": 16,
     "metadata": {},
     "output_type": "execute_result"
    }
   ],
   "source": [
    "np.sum(np.abs(class_estimator.predict_proba(X_test).mean(axis=0))) -np.sum(reference)"
   ]
  },
  {
   "cell_type": "code",
   "execution_count": 17,
   "metadata": {
    "tags": []
   },
   "outputs": [
    {
     "data": {
      "text/plain": [
       "0.024999993333333317"
      ]
     },
     "execution_count": 17,
     "metadata": {},
     "output_type": "execute_result"
    }
   ],
   "source": [
    "np.sum(np.abs(class_estimator.predict_proba(X_test).mean(axis=0) - reference))"
   ]
  },
  {
   "cell_type": "code",
   "execution_count": null,
   "metadata": {},
   "outputs": [],
   "source": []
  },
  {
   "cell_type": "code",
   "execution_count": 18,
   "metadata": {
    "tags": []
   },
   "outputs": [
    {
     "ename": "AssertionError",
     "evalue": "",
     "output_type": "error",
     "traceback": [
      "\u001b[0;31m---------------------------------------------------------------------------\u001b[0m",
      "\u001b[0;31mAssertionError\u001b[0m                            Traceback (most recent call last)",
      "Cell \u001b[0;32mIn[18], line 1\u001b[0m\n\u001b[0;32m----> 1\u001b[0m \u001b[38;5;28;01massert\u001b[39;00m np\u001b[38;5;241m.\u001b[39msum(np\u001b[38;5;241m.\u001b[39mabs(class_estimator\u001b[38;5;241m.\u001b[39mpredict_proba(X_test)\u001b[38;5;241m.\u001b[39mmean(axis\u001b[38;5;241m=\u001b[39m\u001b[38;5;241m0\u001b[39m) \u001b[38;5;241m-\u001b[39m reference)) \u001b[38;5;241m<\u001b[39m \u001b[38;5;241m1e-4\u001b[39m\n",
      "\u001b[0;31mAssertionError\u001b[0m: "
     ]
    }
   ],
   "source": [
    "assert np.sum(np.abs(class_estimator.predict_proba(X_test).mean(axis=0) - reference)) < 1e-4"
   ]
  },
  {
   "cell_type": "markdown",
   "metadata": {},
   "source": [
    "Let's use 5-fold cross validation (`GridSearchCV`) to find optimal values for `max_depth` and `criterion` hyperparameters."
   ]
  },
  {
   "cell_type": "code",
   "execution_count": 19,
   "metadata": {},
   "outputs": [],
   "source": [
    "param_grid = {'max_depth': range(3,11), 'criterion_name': ['gini', 'entropy']}\n",
    "gs = GridSearchCV(DecisionTree(), param_grid=param_grid, cv=5, scoring='accuracy', n_jobs=-2)"
   ]
  },
  {
   "cell_type": "code",
   "execution_count": 20,
   "metadata": {},
   "outputs": [
    {
     "name": "stderr",
     "output_type": "stream",
     "text": [
      "/home/evgen/mlcourse/ml-course/homeworks/assignment0_04_tree/tree.py:42: RuntimeWarning: invalid value encountered in divide\n",
      "  p = np.sum(y, axis=0) / y.shape[0]\n",
      "/home/evgen/mlcourse/ml-course/homeworks/assignment0_04_tree/tree.py:42: RuntimeWarning: invalid value encountered in divide\n",
      "  p = np.sum(y, axis=0) / y.shape[0]\n",
      "/home/evgen/mlcourse/ml-course/homeworks/assignment0_04_tree/tree.py:42: RuntimeWarning: invalid value encountered in divide\n",
      "  p = np.sum(y, axis=0) / y.shape[0]\n",
      "/home/evgen/mlcourse/ml-course/homeworks/assignment0_04_tree/tree.py:42: RuntimeWarning: invalid value encountered in divide\n",
      "  p = np.sum(y, axis=0) / y.shape[0]\n",
      "/home/evgen/mlcourse/ml-course/homeworks/assignment0_04_tree/tree.py:42: RuntimeWarning: invalid value encountered in divide\n",
      "  p = np.sum(y, axis=0) / y.shape[0]\n",
      "/home/evgen/mlcourse/ml-course/homeworks/assignment0_04_tree/tree.py:42: RuntimeWarning: invalid value encountered in divide\n",
      "  p = np.sum(y, axis=0) / y.shape[0]\n",
      "/home/evgen/mlcourse/ml-course/homeworks/assignment0_04_tree/tree.py:42: RuntimeWarning: invalid value encountered in divide\n",
      "  p = np.sum(y, axis=0) / y.shape[0]\n",
      "/home/evgen/mlcourse/ml-course/homeworks/assignment0_04_tree/tree.py:42: RuntimeWarning: invalid value encountered in divide\n",
      "  p = np.sum(y, axis=0) / y.shape[0]\n",
      "/home/evgen/mlcourse/ml-course/homeworks/assignment0_04_tree/tree.py:42: RuntimeWarning: invalid value encountered in divide\n",
      "  p = np.sum(y, axis=0) / y.shape[0]\n",
      "/home/evgen/mlcourse/ml-course/homeworks/assignment0_04_tree/tree.py:42: RuntimeWarning: invalid value encountered in divide\n",
      "  p = np.sum(y, axis=0) / y.shape[0]\n",
      "/home/evgen/mlcourse/ml-course/homeworks/assignment0_04_tree/tree.py:42: RuntimeWarning: invalid value encountered in divide\n",
      "  p = np.sum(y, axis=0) / y.shape[0]\n",
      "/home/evgen/mlcourse/ml-course/homeworks/assignment0_04_tree/tree.py:42: RuntimeWarning: invalid value encountered in divide\n",
      "  p = np.sum(y, axis=0) / y.shape[0]\n",
      "/home/evgen/mlcourse/ml-course/homeworks/assignment0_04_tree/tree.py:42: RuntimeWarning: invalid value encountered in divide\n",
      "  p = np.sum(y, axis=0) / y.shape[0]\n",
      "/home/evgen/mlcourse/ml-course/homeworks/assignment0_04_tree/tree.py:42: RuntimeWarning: invalid value encountered in divide\n",
      "  p = np.sum(y, axis=0) / y.shape[0]\n",
      "/home/evgen/mlcourse/ml-course/homeworks/assignment0_04_tree/tree.py:42: RuntimeWarning: invalid value encountered in divide\n",
      "  p = np.sum(y, axis=0) / y.shape[0]\n",
      "/home/evgen/mlcourse/ml-course/homeworks/assignment0_04_tree/tree.py:42: RuntimeWarning: invalid value encountered in divide\n",
      "  p = np.sum(y, axis=0) / y.shape[0]\n",
      "/home/evgen/mlcourse/ml-course/homeworks/assignment0_04_tree/tree.py:42: RuntimeWarning: invalid value encountered in divide\n",
      "  p = np.sum(y, axis=0) / y.shape[0]\n",
      "/home/evgen/mlcourse/ml-course/homeworks/assignment0_04_tree/tree.py:42: RuntimeWarning: invalid value encountered in divide\n",
      "  p = np.sum(y, axis=0) / y.shape[0]\n",
      "/home/evgen/mlcourse/ml-course/homeworks/assignment0_04_tree/tree.py:42: RuntimeWarning: invalid value encountered in divide\n",
      "  p = np.sum(y, axis=0) / y.shape[0]\n",
      "/home/evgen/mlcourse/ml-course/homeworks/assignment0_04_tree/tree.py:42: RuntimeWarning: invalid value encountered in divide\n",
      "  p = np.sum(y, axis=0) / y.shape[0]\n",
      "/home/evgen/mlcourse/ml-course/homeworks/assignment0_04_tree/tree.py:42: RuntimeWarning: invalid value encountered in divide\n",
      "  p = np.sum(y, axis=0) / y.shape[0]\n",
      "/home/evgen/mlcourse/ml-course/homeworks/assignment0_04_tree/tree.py:42: RuntimeWarning: invalid value encountered in divide\n",
      "  p = np.sum(y, axis=0) / y.shape[0]\n",
      "/home/evgen/mlcourse/ml-course/homeworks/assignment0_04_tree/tree.py:42: RuntimeWarning: invalid value encountered in divide\n",
      "  p = np.sum(y, axis=0) / y.shape[0]\n",
      "/home/evgen/mlcourse/ml-course/homeworks/assignment0_04_tree/tree.py:42: RuntimeWarning: invalid value encountered in divide\n",
      "  p = np.sum(y, axis=0) / y.shape[0]\n",
      "/home/evgen/mlcourse/ml-course/homeworks/assignment0_04_tree/tree.py:42: RuntimeWarning: invalid value encountered in divide\n",
      "  p = np.sum(y, axis=0) / y.shape[0]\n",
      "/home/evgen/mlcourse/ml-course/homeworks/assignment0_04_tree/tree.py:42: RuntimeWarning: invalid value encountered in divide\n",
      "  p = np.sum(y, axis=0) / y.shape[0]\n",
      "/home/evgen/mlcourse/ml-course/homeworks/assignment0_04_tree/tree.py:42: RuntimeWarning: invalid value encountered in divide\n",
      "  p = np.sum(y, axis=0) / y.shape[0]\n",
      "/home/evgen/mlcourse/ml-course/homeworks/assignment0_04_tree/tree.py:42: RuntimeWarning: invalid value encountered in divide\n",
      "  p = np.sum(y, axis=0) / y.shape[0]\n",
      "/home/evgen/mlcourse/ml-course/homeworks/assignment0_04_tree/tree.py:42: RuntimeWarning: invalid value encountered in divide\n",
      "  p = np.sum(y, axis=0) / y.shape[0]\n",
      "/home/evgen/mlcourse/ml-course/homeworks/assignment0_04_tree/tree.py:42: RuntimeWarning: invalid value encountered in divide\n",
      "  p = np.sum(y, axis=0) / y.shape[0]\n",
      "/home/evgen/mlcourse/ml-course/homeworks/assignment0_04_tree/tree.py:42: RuntimeWarning: invalid value encountered in divide\n",
      "  p = np.sum(y, axis=0) / y.shape[0]\n",
      "/home/evgen/mlcourse/ml-course/homeworks/assignment0_04_tree/tree.py:42: RuntimeWarning: invalid value encountered in divide\n",
      "  p = np.sum(y, axis=0) / y.shape[0]\n",
      "/home/evgen/mlcourse/ml-course/homeworks/assignment0_04_tree/tree.py:42: RuntimeWarning: invalid value encountered in divide\n",
      "  p = np.sum(y, axis=0) / y.shape[0]\n",
      "/home/evgen/mlcourse/ml-course/homeworks/assignment0_04_tree/tree.py:42: RuntimeWarning: invalid value encountered in divide\n",
      "  p = np.sum(y, axis=0) / y.shape[0]\n",
      "/home/evgen/mlcourse/ml-course/homeworks/assignment0_04_tree/tree.py:42: RuntimeWarning: invalid value encountered in divide\n",
      "  p = np.sum(y, axis=0) / y.shape[0]\n",
      "/home/evgen/mlcourse/ml-course/homeworks/assignment0_04_tree/tree.py:42: RuntimeWarning: invalid value encountered in divide\n",
      "  p = np.sum(y, axis=0) / y.shape[0]\n",
      "/home/evgen/mlcourse/ml-course/homeworks/assignment0_04_tree/tree.py:42: RuntimeWarning: invalid value encountered in divide\n",
      "  p = np.sum(y, axis=0) / y.shape[0]\n",
      "/home/evgen/mlcourse/ml-course/homeworks/assignment0_04_tree/tree.py:42: RuntimeWarning: invalid value encountered in divide\n",
      "  p = np.sum(y, axis=0) / y.shape[0]\n",
      "/home/evgen/mlcourse/ml-course/homeworks/assignment0_04_tree/tree.py:42: RuntimeWarning: invalid value encountered in divide\n",
      "  p = np.sum(y, axis=0) / y.shape[0]\n",
      "/home/evgen/mlcourse/ml-course/homeworks/assignment0_04_tree/tree.py:42: RuntimeWarning: invalid value encountered in divide\n",
      "  p = np.sum(y, axis=0) / y.shape[0]\n",
      "/home/evgen/mlcourse/ml-course/homeworks/assignment0_04_tree/tree.py:22: RuntimeWarning: invalid value encountered in divide\n",
      "  p = np.sum(y, axis=0) / y.shape[0]\n",
      "/home/evgen/mlcourse/ml-course/homeworks/assignment0_04_tree/tree.py:22: RuntimeWarning: invalid value encountered in divide\n",
      "  p = np.sum(y, axis=0) / y.shape[0]\n",
      "/home/evgen/mlcourse/ml-course/homeworks/assignment0_04_tree/tree.py:22: RuntimeWarning: invalid value encountered in divide\n",
      "  p = np.sum(y, axis=0) / y.shape[0]\n",
      "/home/evgen/mlcourse/ml-course/homeworks/assignment0_04_tree/tree.py:22: RuntimeWarning: invalid value encountered in divide\n",
      "  p = np.sum(y, axis=0) / y.shape[0]\n",
      "/home/evgen/mlcourse/ml-course/homeworks/assignment0_04_tree/tree.py:22: RuntimeWarning: invalid value encountered in divide\n",
      "  p = np.sum(y, axis=0) / y.shape[0]\n",
      "/home/evgen/mlcourse/ml-course/homeworks/assignment0_04_tree/tree.py:22: RuntimeWarning: invalid value encountered in divide\n",
      "  p = np.sum(y, axis=0) / y.shape[0]\n",
      "/home/evgen/mlcourse/ml-course/homeworks/assignment0_04_tree/tree.py:22: RuntimeWarning: invalid value encountered in divide\n",
      "  p = np.sum(y, axis=0) / y.shape[0]\n",
      "/home/evgen/mlcourse/ml-course/homeworks/assignment0_04_tree/tree.py:22: RuntimeWarning: invalid value encountered in divide\n",
      "  p = np.sum(y, axis=0) / y.shape[0]\n",
      "/home/evgen/mlcourse/ml-course/homeworks/assignment0_04_tree/tree.py:22: RuntimeWarning: invalid value encountered in divide\n",
      "  p = np.sum(y, axis=0) / y.shape[0]\n",
      "/home/evgen/mlcourse/ml-course/homeworks/assignment0_04_tree/tree.py:22: RuntimeWarning: invalid value encountered in divide\n",
      "  p = np.sum(y, axis=0) / y.shape[0]\n",
      "/home/evgen/mlcourse/ml-course/homeworks/assignment0_04_tree/tree.py:22: RuntimeWarning: invalid value encountered in divide\n",
      "  p = np.sum(y, axis=0) / y.shape[0]\n",
      "/home/evgen/mlcourse/ml-course/homeworks/assignment0_04_tree/tree.py:22: RuntimeWarning: invalid value encountered in divide\n",
      "  p = np.sum(y, axis=0) / y.shape[0]\n",
      "/home/evgen/mlcourse/ml-course/homeworks/assignment0_04_tree/tree.py:22: RuntimeWarning: invalid value encountered in divide\n",
      "  p = np.sum(y, axis=0) / y.shape[0]\n",
      "/home/evgen/mlcourse/ml-course/homeworks/assignment0_04_tree/tree.py:22: RuntimeWarning: invalid value encountered in divide\n",
      "  p = np.sum(y, axis=0) / y.shape[0]\n",
      "/home/evgen/mlcourse/ml-course/homeworks/assignment0_04_tree/tree.py:22: RuntimeWarning: invalid value encountered in divide\n",
      "  p = np.sum(y, axis=0) / y.shape[0]\n",
      "/home/evgen/mlcourse/ml-course/homeworks/assignment0_04_tree/tree.py:22: RuntimeWarning: invalid value encountered in divide\n",
      "  p = np.sum(y, axis=0) / y.shape[0]\n",
      "/home/evgen/mlcourse/ml-course/homeworks/assignment0_04_tree/tree.py:22: RuntimeWarning: invalid value encountered in divide\n",
      "  p = np.sum(y, axis=0) / y.shape[0]\n",
      "/home/evgen/mlcourse/ml-course/homeworks/assignment0_04_tree/tree.py:22: RuntimeWarning: invalid value encountered in divide\n",
      "  p = np.sum(y, axis=0) / y.shape[0]\n",
      "/home/evgen/mlcourse/ml-course/homeworks/assignment0_04_tree/tree.py:22: RuntimeWarning: invalid value encountered in divide\n",
      "  p = np.sum(y, axis=0) / y.shape[0]\n",
      "/home/evgen/mlcourse/ml-course/homeworks/assignment0_04_tree/tree.py:22: RuntimeWarning: invalid value encountered in divide\n",
      "  p = np.sum(y, axis=0) / y.shape[0]\n",
      "/home/evgen/mlcourse/ml-course/homeworks/assignment0_04_tree/tree.py:22: RuntimeWarning: invalid value encountered in divide\n",
      "  p = np.sum(y, axis=0) / y.shape[0]\n",
      "/home/evgen/mlcourse/ml-course/homeworks/assignment0_04_tree/tree.py:22: RuntimeWarning: invalid value encountered in divide\n",
      "  p = np.sum(y, axis=0) / y.shape[0]\n",
      "/home/evgen/mlcourse/ml-course/homeworks/assignment0_04_tree/tree.py:22: RuntimeWarning: invalid value encountered in divide\n",
      "  p = np.sum(y, axis=0) / y.shape[0]\n",
      "/home/evgen/mlcourse/ml-course/homeworks/assignment0_04_tree/tree.py:22: RuntimeWarning: invalid value encountered in divide\n",
      "  p = np.sum(y, axis=0) / y.shape[0]\n",
      "/home/evgen/mlcourse/ml-course/homeworks/assignment0_04_tree/tree.py:22: RuntimeWarning: invalid value encountered in divide\n",
      "  p = np.sum(y, axis=0) / y.shape[0]\n",
      "/home/evgen/mlcourse/ml-course/homeworks/assignment0_04_tree/tree.py:22: RuntimeWarning: invalid value encountered in divide\n",
      "  p = np.sum(y, axis=0) / y.shape[0]\n",
      "/home/evgen/mlcourse/ml-course/homeworks/assignment0_04_tree/tree.py:22: RuntimeWarning: invalid value encountered in divide\n",
      "  p = np.sum(y, axis=0) / y.shape[0]\n",
      "/home/evgen/mlcourse/ml-course/homeworks/assignment0_04_tree/tree.py:22: RuntimeWarning: invalid value encountered in divide\n",
      "  p = np.sum(y, axis=0) / y.shape[0]\n",
      "/home/evgen/mlcourse/ml-course/homeworks/assignment0_04_tree/tree.py:22: RuntimeWarning: invalid value encountered in divide\n",
      "  p = np.sum(y, axis=0) / y.shape[0]\n",
      "/home/evgen/mlcourse/ml-course/homeworks/assignment0_04_tree/tree.py:22: RuntimeWarning: invalid value encountered in divide\n",
      "  p = np.sum(y, axis=0) / y.shape[0]\n",
      "/home/evgen/mlcourse/ml-course/homeworks/assignment0_04_tree/tree.py:22: RuntimeWarning: invalid value encountered in divide\n",
      "  p = np.sum(y, axis=0) / y.shape[0]\n",
      "/home/evgen/mlcourse/ml-course/homeworks/assignment0_04_tree/tree.py:22: RuntimeWarning: invalid value encountered in divide\n",
      "  p = np.sum(y, axis=0) / y.shape[0]\n",
      "/home/evgen/mlcourse/ml-course/homeworks/assignment0_04_tree/tree.py:22: RuntimeWarning: invalid value encountered in divide\n",
      "  p = np.sum(y, axis=0) / y.shape[0]\n",
      "/home/evgen/mlcourse/ml-course/homeworks/assignment0_04_tree/tree.py:22: RuntimeWarning: invalid value encountered in divide\n",
      "  p = np.sum(y, axis=0) / y.shape[0]\n",
      "/home/evgen/mlcourse/ml-course/homeworks/assignment0_04_tree/tree.py:22: RuntimeWarning: invalid value encountered in divide\n",
      "  p = np.sum(y, axis=0) / y.shape[0]\n",
      "/home/evgen/mlcourse/ml-course/homeworks/assignment0_04_tree/tree.py:22: RuntimeWarning: invalid value encountered in divide\n",
      "  p = np.sum(y, axis=0) / y.shape[0]\n",
      "/home/evgen/mlcourse/ml-course/homeworks/assignment0_04_tree/tree.py:22: RuntimeWarning: invalid value encountered in divide\n",
      "  p = np.sum(y, axis=0) / y.shape[0]\n",
      "/home/evgen/mlcourse/ml-course/homeworks/assignment0_04_tree/tree.py:22: RuntimeWarning: invalid value encountered in divide\n",
      "  p = np.sum(y, axis=0) / y.shape[0]\n",
      "/home/evgen/mlcourse/ml-course/homeworks/assignment0_04_tree/tree.py:22: RuntimeWarning: invalid value encountered in divide\n",
      "  p = np.sum(y, axis=0) / y.shape[0]\n",
      "/home/evgen/mlcourse/ml-course/homeworks/assignment0_04_tree/tree.py:22: RuntimeWarning: invalid value encountered in divide\n",
      "  p = np.sum(y, axis=0) / y.shape[0]\n"
     ]
    },
    {
     "name": "stdout",
     "output_type": "stream",
     "text": [
      "CPU times: user 53.4 s, sys: 190 ms, total: 53.6 s\n",
      "Wall time: 31min 12s\n"
     ]
    },
    {
     "data": {
      "text/html": [
       "<style>#sk-container-id-1 {color: black;}#sk-container-id-1 pre{padding: 0;}#sk-container-id-1 div.sk-toggleable {background-color: white;}#sk-container-id-1 label.sk-toggleable__label {cursor: pointer;display: block;width: 100%;margin-bottom: 0;padding: 0.3em;box-sizing: border-box;text-align: center;}#sk-container-id-1 label.sk-toggleable__label-arrow:before {content: \"▸\";float: left;margin-right: 0.25em;color: #696969;}#sk-container-id-1 label.sk-toggleable__label-arrow:hover:before {color: black;}#sk-container-id-1 div.sk-estimator:hover label.sk-toggleable__label-arrow:before {color: black;}#sk-container-id-1 div.sk-toggleable__content {max-height: 0;max-width: 0;overflow: hidden;text-align: left;background-color: #f0f8ff;}#sk-container-id-1 div.sk-toggleable__content pre {margin: 0.2em;color: black;border-radius: 0.25em;background-color: #f0f8ff;}#sk-container-id-1 input.sk-toggleable__control:checked~div.sk-toggleable__content {max-height: 200px;max-width: 100%;overflow: auto;}#sk-container-id-1 input.sk-toggleable__control:checked~label.sk-toggleable__label-arrow:before {content: \"▾\";}#sk-container-id-1 div.sk-estimator input.sk-toggleable__control:checked~label.sk-toggleable__label {background-color: #d4ebff;}#sk-container-id-1 div.sk-label input.sk-toggleable__control:checked~label.sk-toggleable__label {background-color: #d4ebff;}#sk-container-id-1 input.sk-hidden--visually {border: 0;clip: rect(1px 1px 1px 1px);clip: rect(1px, 1px, 1px, 1px);height: 1px;margin: -1px;overflow: hidden;padding: 0;position: absolute;width: 1px;}#sk-container-id-1 div.sk-estimator {font-family: monospace;background-color: #f0f8ff;border: 1px dotted black;border-radius: 0.25em;box-sizing: border-box;margin-bottom: 0.5em;}#sk-container-id-1 div.sk-estimator:hover {background-color: #d4ebff;}#sk-container-id-1 div.sk-parallel-item::after {content: \"\";width: 100%;border-bottom: 1px solid gray;flex-grow: 1;}#sk-container-id-1 div.sk-label:hover label.sk-toggleable__label {background-color: #d4ebff;}#sk-container-id-1 div.sk-serial::before {content: \"\";position: absolute;border-left: 1px solid gray;box-sizing: border-box;top: 0;bottom: 0;left: 50%;z-index: 0;}#sk-container-id-1 div.sk-serial {display: flex;flex-direction: column;align-items: center;background-color: white;padding-right: 0.2em;padding-left: 0.2em;position: relative;}#sk-container-id-1 div.sk-item {position: relative;z-index: 1;}#sk-container-id-1 div.sk-parallel {display: flex;align-items: stretch;justify-content: center;background-color: white;position: relative;}#sk-container-id-1 div.sk-item::before, #sk-container-id-1 div.sk-parallel-item::before {content: \"\";position: absolute;border-left: 1px solid gray;box-sizing: border-box;top: 0;bottom: 0;left: 50%;z-index: -1;}#sk-container-id-1 div.sk-parallel-item {display: flex;flex-direction: column;z-index: 1;position: relative;background-color: white;}#sk-container-id-1 div.sk-parallel-item:first-child::after {align-self: flex-end;width: 50%;}#sk-container-id-1 div.sk-parallel-item:last-child::after {align-self: flex-start;width: 50%;}#sk-container-id-1 div.sk-parallel-item:only-child::after {width: 0;}#sk-container-id-1 div.sk-dashed-wrapped {border: 1px dashed gray;margin: 0 0.4em 0.5em 0.4em;box-sizing: border-box;padding-bottom: 0.4em;background-color: white;}#sk-container-id-1 div.sk-label label {font-family: monospace;font-weight: bold;display: inline-block;line-height: 1.2em;}#sk-container-id-1 div.sk-label-container {text-align: center;}#sk-container-id-1 div.sk-container {/* jupyter's `normalize.less` sets `[hidden] { display: none; }` but bootstrap.min.css set `[hidden] { display: none !important; }` so we also need the `!important` here to be able to override the default hidden behavior on the sphinx rendered scikit-learn.org. See: https://github.com/scikit-learn/scikit-learn/issues/21755 */display: inline-block !important;position: relative;}#sk-container-id-1 div.sk-text-repr-fallback {display: none;}</style><div id=\"sk-container-id-1\" class=\"sk-top-container\"><div class=\"sk-text-repr-fallback\"><pre>GridSearchCV(cv=5, estimator=DecisionTree(), n_jobs=-2,\n",
       "             param_grid={&#x27;criterion_name&#x27;: [&#x27;gini&#x27;, &#x27;entropy&#x27;],\n",
       "                         &#x27;max_depth&#x27;: range(3, 11)},\n",
       "             scoring=&#x27;accuracy&#x27;)</pre><b>In a Jupyter environment, please rerun this cell to show the HTML representation or trust the notebook. <br />On GitHub, the HTML representation is unable to render, please try loading this page with nbviewer.org.</b></div><div class=\"sk-container\" hidden><div class=\"sk-item sk-dashed-wrapped\"><div class=\"sk-label-container\"><div class=\"sk-label sk-toggleable\"><input class=\"sk-toggleable__control sk-hidden--visually\" id=\"sk-estimator-id-1\" type=\"checkbox\" ><label for=\"sk-estimator-id-1\" class=\"sk-toggleable__label sk-toggleable__label-arrow\">GridSearchCV</label><div class=\"sk-toggleable__content\"><pre>GridSearchCV(cv=5, estimator=DecisionTree(), n_jobs=-2,\n",
       "             param_grid={&#x27;criterion_name&#x27;: [&#x27;gini&#x27;, &#x27;entropy&#x27;],\n",
       "                         &#x27;max_depth&#x27;: range(3, 11)},\n",
       "             scoring=&#x27;accuracy&#x27;)</pre></div></div></div><div class=\"sk-parallel\"><div class=\"sk-parallel-item\"><div class=\"sk-item\"><div class=\"sk-label-container\"><div class=\"sk-label sk-toggleable\"><input class=\"sk-toggleable__control sk-hidden--visually\" id=\"sk-estimator-id-2\" type=\"checkbox\" ><label for=\"sk-estimator-id-2\" class=\"sk-toggleable__label sk-toggleable__label-arrow\">estimator: DecisionTree</label><div class=\"sk-toggleable__content\"><pre>DecisionTree()</pre></div></div></div><div class=\"sk-serial\"><div class=\"sk-item\"><div class=\"sk-estimator sk-toggleable\"><input class=\"sk-toggleable__control sk-hidden--visually\" id=\"sk-estimator-id-3\" type=\"checkbox\" ><label for=\"sk-estimator-id-3\" class=\"sk-toggleable__label sk-toggleable__label-arrow\">DecisionTree</label><div class=\"sk-toggleable__content\"><pre>DecisionTree()</pre></div></div></div></div></div></div></div></div></div></div>"
      ],
      "text/plain": [
       "GridSearchCV(cv=5, estimator=DecisionTree(), n_jobs=-2,\n",
       "             param_grid={'criterion_name': ['gini', 'entropy'],\n",
       "                         'max_depth': range(3, 11)},\n",
       "             scoring='accuracy')"
      ]
     },
     "execution_count": 20,
     "metadata": {},
     "output_type": "execute_result"
    }
   ],
   "source": [
    "%%time\n",
    "gs.fit(X_train, y_train)"
   ]
  },
  {
   "cell_type": "code",
   "execution_count": 21,
   "metadata": {},
   "outputs": [
    {
     "data": {
      "text/plain": [
       "{'criterion_name': 'entropy', 'max_depth': 8}"
      ]
     },
     "execution_count": 21,
     "metadata": {},
     "output_type": "execute_result"
    }
   ],
   "source": [
    "gs.best_params_"
   ]
  },
  {
   "cell_type": "code",
   "execution_count": 22,
   "metadata": {},
   "outputs": [],
   "source": [
    "assert gs.best_params_['criterion_name'] == 'entropy'\n",
    "assert 6 < gs.best_params_['max_depth'] < 9"
   ]
  },
  {
   "cell_type": "code",
   "execution_count": 23,
   "metadata": {},
   "outputs": [
    {
     "data": {
      "image/png": "[encoded data removed]",
      "text/plain": [
       "<Figure size 1000x800 with 1 Axes>"
      ]
     },
     "metadata": {},
     "output_type": "display_data"
    }
   ],
   "source": [
    "plt.figure(figsize=(10, 8))\n",
    "plt.title(\"The dependence of quality on the depth of the tree\")\n",
    "plt.plot(np.arange(3,11), gs.cv_results_['mean_test_score'][:8], label='Gini')\n",
    "plt.plot(np.arange(3,11), gs.cv_results_['mean_test_score'][8:], label='Entropy')\n",
    "plt.legend(fontsize=11, loc=1)\n",
    "plt.xlabel(\"max_depth\")\n",
    "plt.ylabel('accuracy')\n",
    "plt.show()"
   ]
  },
  {
   "cell_type": "markdown",
   "metadata": {},
   "source": [
    "#### Regression problem"
   ]
  },
  {
   "cell_type": "code",
   "execution_count": 24,
   "metadata": {},
   "outputs": [],
   "source": [
    "regr_data = data_boston\n",
    "regr_target = target_boston[:, None] # to make the targets consistent with our model interfaces\n",
    "RX_train, RX_test, Ry_train, Ry_test = train_test_split(regr_data, regr_target, test_size=0.2, random_state=RANDOM_STATE)"
   ]
  },
  {
   "cell_type": "code",
   "execution_count": 25,
   "metadata": {},
   "outputs": [
    {
     "name": "stderr",
     "output_type": "stream",
     "text": [
      "/home/evgen/anaconda3/lib/python3.11/site-packages/numpy/core/fromnumeric.py:3464: RuntimeWarning: Mean of empty slice.\n",
      "  return _methods._mean(a, axis=axis, dtype=dtype,\n"
     ]
    },
    {
     "name": "stdout",
     "output_type": "stream",
     "text": [
      "19.70720588235294\n"
     ]
    }
   ],
   "source": [
    "regressor = DecisionTree(max_depth=10, criterion_name='mad_median')\n",
    "regressor.fit(RX_train, Ry_train)\n",
    "predictions_mad = regressor.predict(RX_test)\n",
    "mse_mad = mean_squared_error(Ry_test, predictions_mad)\n",
    "print(mse_mad)"
   ]
  },
  {
   "cell_type": "code",
   "execution_count": 26,
   "metadata": {},
   "outputs": [
    {
     "name": "stderr",
     "output_type": "stream",
     "text": [
      "/home/evgen/anaconda3/lib/python3.11/site-packages/numpy/core/fromnumeric.py:3464: RuntimeWarning: Mean of empty slice.\n",
      "  return _methods._mean(a, axis=axis, dtype=dtype,\n"
     ]
    },
    {
     "name": "stdout",
     "output_type": "stream",
     "text": [
      "10.322185651177042\n"
     ]
    }
   ],
   "source": [
    "regressor = DecisionTree(max_depth=10, criterion_name='variance')\n",
    "regressor.fit(RX_train, Ry_train)\n",
    "predictions_mad = regressor.predict(RX_test)\n",
    "mse_var = mean_squared_error(Ry_test, predictions_mad)\n",
    "print(mse_var)"
   ]
  },
  {
   "cell_type": "code",
   "execution_count": 27,
   "metadata": {},
   "outputs": [],
   "source": [
    "assert 9 < mse_mad < 20\n",
    "assert 8 < mse_var < 12"
   ]
  },
  {
   "cell_type": "code",
   "execution_count": 28,
   "metadata": {},
   "outputs": [],
   "source": [
    "param_grid_R = {'max_depth': range(2,9), 'criterion_name': ['variance', 'mad_median']}"
   ]
  },
  {
   "cell_type": "code",
   "execution_count": 29,
   "metadata": {},
   "outputs": [
    {
     "name": "stderr",
     "output_type": "stream",
     "text": [
      "/home/evgen/anaconda3/lib/python3.11/site-packages/numpy/core/fromnumeric.py:3464: RuntimeWarning: Mean of empty slice.\n",
      "  return _methods._mean(a, axis=axis, dtype=dtype,\n",
      "/home/evgen/anaconda3/lib/python3.11/site-packages/numpy/core/_methods.py:184: RuntimeWarning: invalid value encountered in divide\n",
      "  ret = um.true_divide(\n",
      "/home/evgen/mlcourse/ml-course/homeworks/assignment0_04_tree/tree.py:62: RuntimeWarning: invalid value encountered in scalar divide\n",
      "  variance = np.sum((y - np.mean(y, axis=0))**2) / np.shape(y)[0]\n",
      "/home/evgen/anaconda3/lib/python3.11/site-packages/numpy/core/fromnumeric.py:3464: RuntimeWarning: Mean of empty slice.\n",
      "  return _methods._mean(a, axis=axis, dtype=dtype,\n",
      "/home/evgen/anaconda3/lib/python3.11/site-packages/numpy/core/_methods.py:184: RuntimeWarning: invalid value encountered in divide\n",
      "  ret = um.true_divide(\n",
      "/home/evgen/mlcourse/ml-course/homeworks/assignment0_04_tree/tree.py:62: RuntimeWarning: invalid value encountered in scalar divide\n",
      "  variance = np.sum((y - np.mean(y, axis=0))**2) / np.shape(y)[0]\n",
      "/home/evgen/anaconda3/lib/python3.11/site-packages/numpy/core/fromnumeric.py:3464: RuntimeWarning: Mean of empty slice.\n",
      "  return _methods._mean(a, axis=axis, dtype=dtype,\n",
      "/home/evgen/anaconda3/lib/python3.11/site-packages/numpy/core/_methods.py:184: RuntimeWarning: invalid value encountered in divide\n",
      "  ret = um.true_divide(\n",
      "/home/evgen/mlcourse/ml-course/homeworks/assignment0_04_tree/tree.py:62: RuntimeWarning: invalid value encountered in scalar divide\n",
      "  variance = np.sum((y - np.mean(y, axis=0))**2) / np.shape(y)[0]\n",
      "/home/evgen/anaconda3/lib/python3.11/site-packages/numpy/core/fromnumeric.py:3464: RuntimeWarning: Mean of empty slice.\n",
      "  return _methods._mean(a, axis=axis, dtype=dtype,\n",
      "/home/evgen/anaconda3/lib/python3.11/site-packages/numpy/core/_methods.py:184: RuntimeWarning: invalid value encountered in divide\n",
      "  ret = um.true_divide(\n",
      "/home/evgen/mlcourse/ml-course/homeworks/assignment0_04_tree/tree.py:62: RuntimeWarning: invalid value encountered in scalar divide\n",
      "  variance = np.sum((y - np.mean(y, axis=0))**2) / np.shape(y)[0]\n",
      "/home/evgen/anaconda3/lib/python3.11/site-packages/numpy/core/fromnumeric.py:3464: RuntimeWarning: Mean of empty slice.\n",
      "  return _methods._mean(a, axis=axis, dtype=dtype,\n",
      "/home/evgen/anaconda3/lib/python3.11/site-packages/numpy/core/_methods.py:184: RuntimeWarning: invalid value encountered in divide\n",
      "  ret = um.true_divide(\n",
      "/home/evgen/mlcourse/ml-course/homeworks/assignment0_04_tree/tree.py:62: RuntimeWarning: invalid value encountered in scalar divide\n",
      "  variance = np.sum((y - np.mean(y, axis=0))**2) / np.shape(y)[0]\n",
      "/home/evgen/anaconda3/lib/python3.11/site-packages/numpy/core/fromnumeric.py:3464: RuntimeWarning: Mean of empty slice.\n",
      "  return _methods._mean(a, axis=axis, dtype=dtype,\n",
      "/home/evgen/anaconda3/lib/python3.11/site-packages/numpy/core/_methods.py:184: RuntimeWarning: invalid value encountered in divide\n",
      "  ret = um.true_divide(\n",
      "/home/evgen/mlcourse/ml-course/homeworks/assignment0_04_tree/tree.py:62: RuntimeWarning: invalid value encountered in scalar divide\n",
      "  variance = np.sum((y - np.mean(y, axis=0))**2) / np.shape(y)[0]\n",
      "/home/evgen/anaconda3/lib/python3.11/site-packages/numpy/core/fromnumeric.py:3464: RuntimeWarning: Mean of empty slice.\n",
      "  return _methods._mean(a, axis=axis, dtype=dtype,\n",
      "/home/evgen/anaconda3/lib/python3.11/site-packages/numpy/core/_methods.py:184: RuntimeWarning: invalid value encountered in divide\n",
      "  ret = um.true_divide(\n",
      "/home/evgen/mlcourse/ml-course/homeworks/assignment0_04_tree/tree.py:62: RuntimeWarning: invalid value encountered in scalar divide\n",
      "  variance = np.sum((y - np.mean(y, axis=0))**2) / np.shape(y)[0]\n",
      "/home/evgen/anaconda3/lib/python3.11/site-packages/numpy/core/fromnumeric.py:3464: RuntimeWarning: Mean of empty slice.\n",
      "  return _methods._mean(a, axis=axis, dtype=dtype,\n",
      "/home/evgen/anaconda3/lib/python3.11/site-packages/numpy/core/_methods.py:184: RuntimeWarning: invalid value encountered in divide\n",
      "  ret = um.true_divide(\n",
      "/home/evgen/mlcourse/ml-course/homeworks/assignment0_04_tree/tree.py:62: RuntimeWarning: invalid value encountered in scalar divide\n",
      "  variance = np.sum((y - np.mean(y, axis=0))**2) / np.shape(y)[0]\n",
      "/home/evgen/anaconda3/lib/python3.11/site-packages/numpy/core/fromnumeric.py:3464: RuntimeWarning: Mean of empty slice.\n",
      "  return _methods._mean(a, axis=axis, dtype=dtype,\n",
      "/home/evgen/anaconda3/lib/python3.11/site-packages/numpy/core/_methods.py:184: RuntimeWarning: invalid value encountered in divide\n",
      "  ret = um.true_divide(\n",
      "/home/evgen/mlcourse/ml-course/homeworks/assignment0_04_tree/tree.py:62: RuntimeWarning: invalid value encountered in scalar divide\n",
      "  variance = np.sum((y - np.mean(y, axis=0))**2) / np.shape(y)[0]\n",
      "/home/evgen/anaconda3/lib/python3.11/site-packages/numpy/core/fromnumeric.py:3464: RuntimeWarning: Mean of empty slice.\n",
      "  return _methods._mean(a, axis=axis, dtype=dtype,\n",
      "/home/evgen/anaconda3/lib/python3.11/site-packages/numpy/core/_methods.py:184: RuntimeWarning: invalid value encountered in divide\n",
      "  ret = um.true_divide(\n",
      "/home/evgen/mlcourse/ml-course/homeworks/assignment0_04_tree/tree.py:62: RuntimeWarning: invalid value encountered in scalar divide\n",
      "  variance = np.sum((y - np.mean(y, axis=0))**2) / np.shape(y)[0]\n",
      "/home/evgen/anaconda3/lib/python3.11/site-packages/numpy/core/fromnumeric.py:3464: RuntimeWarning: Mean of empty slice.\n",
      "  return _methods._mean(a, axis=axis, dtype=dtype,\n",
      "/home/evgen/anaconda3/lib/python3.11/site-packages/numpy/core/_methods.py:184: RuntimeWarning: invalid value encountered in divide\n",
      "  ret = um.true_divide(\n",
      "/home/evgen/mlcourse/ml-course/homeworks/assignment0_04_tree/tree.py:62: RuntimeWarning: invalid value encountered in scalar divide\n",
      "  variance = np.sum((y - np.mean(y, axis=0))**2) / np.shape(y)[0]\n",
      "/home/evgen/anaconda3/lib/python3.11/site-packages/numpy/core/fromnumeric.py:3464: RuntimeWarning: Mean of empty slice.\n",
      "  return _methods._mean(a, axis=axis, dtype=dtype,\n",
      "/home/evgen/anaconda3/lib/python3.11/site-packages/numpy/core/_methods.py:184: RuntimeWarning: invalid value encountered in divide\n",
      "  ret = um.true_divide(\n",
      "/home/evgen/mlcourse/ml-course/homeworks/assignment0_04_tree/tree.py:62: RuntimeWarning: invalid value encountered in scalar divide\n",
      "  variance = np.sum((y - np.mean(y, axis=0))**2) / np.shape(y)[0]\n",
      "/home/evgen/anaconda3/lib/python3.11/site-packages/numpy/core/fromnumeric.py:3464: RuntimeWarning: Mean of empty slice.\n",
      "  return _methods._mean(a, axis=axis, dtype=dtype,\n",
      "/home/evgen/anaconda3/lib/python3.11/site-packages/numpy/core/_methods.py:184: RuntimeWarning: invalid value encountered in divide\n",
      "  ret = um.true_divide(\n",
      "/home/evgen/mlcourse/ml-course/homeworks/assignment0_04_tree/tree.py:62: RuntimeWarning: invalid value encountered in scalar divide\n",
      "  variance = np.sum((y - np.mean(y, axis=0))**2) / np.shape(y)[0]\n",
      "/home/evgen/anaconda3/lib/python3.11/site-packages/numpy/core/fromnumeric.py:3464: RuntimeWarning: Mean of empty slice.\n",
      "  return _methods._mean(a, axis=axis, dtype=dtype,\n",
      "/home/evgen/anaconda3/lib/python3.11/site-packages/numpy/core/_methods.py:184: RuntimeWarning: invalid value encountered in divide\n",
      "  ret = um.true_divide(\n",
      "/home/evgen/mlcourse/ml-course/homeworks/assignment0_04_tree/tree.py:62: RuntimeWarning: invalid value encountered in scalar divide\n",
      "  variance = np.sum((y - np.mean(y, axis=0))**2) / np.shape(y)[0]\n",
      "/home/evgen/anaconda3/lib/python3.11/site-packages/numpy/core/fromnumeric.py:3464: RuntimeWarning: Mean of empty slice.\n",
      "  return _methods._mean(a, axis=axis, dtype=dtype,\n",
      "/home/evgen/anaconda3/lib/python3.11/site-packages/numpy/core/_methods.py:184: RuntimeWarning: invalid value encountered in divide\n",
      "  ret = um.true_divide(\n",
      "/home/evgen/mlcourse/ml-course/homeworks/assignment0_04_tree/tree.py:62: RuntimeWarning: invalid value encountered in scalar divide\n",
      "  variance = np.sum((y - np.mean(y, axis=0))**2) / np.shape(y)[0]\n",
      "/home/evgen/anaconda3/lib/python3.11/site-packages/numpy/core/fromnumeric.py:3464: RuntimeWarning: Mean of empty slice.\n",
      "  return _methods._mean(a, axis=axis, dtype=dtype,\n",
      "/home/evgen/anaconda3/lib/python3.11/site-packages/numpy/core/_methods.py:184: RuntimeWarning: invalid value encountered in divide\n",
      "  ret = um.true_divide(\n",
      "/home/evgen/mlcourse/ml-course/homeworks/assignment0_04_tree/tree.py:62: RuntimeWarning: invalid value encountered in scalar divide\n",
      "  variance = np.sum((y - np.mean(y, axis=0))**2) / np.shape(y)[0]\n",
      "/home/evgen/anaconda3/lib/python3.11/site-packages/numpy/core/fromnumeric.py:3464: RuntimeWarning: Mean of empty slice.\n",
      "  return _methods._mean(a, axis=axis, dtype=dtype,\n",
      "/home/evgen/anaconda3/lib/python3.11/site-packages/numpy/core/_methods.py:184: RuntimeWarning: invalid value encountered in divide\n",
      "  ret = um.true_divide(\n",
      "/home/evgen/mlcourse/ml-course/homeworks/assignment0_04_tree/tree.py:62: RuntimeWarning: invalid value encountered in scalar divide\n",
      "  variance = np.sum((y - np.mean(y, axis=0))**2) / np.shape(y)[0]\n",
      "/home/evgen/anaconda3/lib/python3.11/site-packages/numpy/core/fromnumeric.py:3464: RuntimeWarning: Mean of empty slice.\n",
      "  return _methods._mean(a, axis=axis, dtype=dtype,\n",
      "/home/evgen/anaconda3/lib/python3.11/site-packages/numpy/core/_methods.py:184: RuntimeWarning: invalid value encountered in divide\n",
      "  ret = um.true_divide(\n",
      "/home/evgen/mlcourse/ml-course/homeworks/assignment0_04_tree/tree.py:62: RuntimeWarning: invalid value encountered in scalar divide\n",
      "  variance = np.sum((y - np.mean(y, axis=0))**2) / np.shape(y)[0]\n",
      "/home/evgen/anaconda3/lib/python3.11/site-packages/numpy/core/fromnumeric.py:3464: RuntimeWarning: Mean of empty slice.\n",
      "  return _methods._mean(a, axis=axis, dtype=dtype,\n",
      "/home/evgen/anaconda3/lib/python3.11/site-packages/numpy/core/_methods.py:184: RuntimeWarning: invalid value encountered in divide\n",
      "  ret = um.true_divide(\n",
      "/home/evgen/mlcourse/ml-course/homeworks/assignment0_04_tree/tree.py:62: RuntimeWarning: invalid value encountered in scalar divide\n",
      "  variance = np.sum((y - np.mean(y, axis=0))**2) / np.shape(y)[0]\n",
      "/home/evgen/anaconda3/lib/python3.11/site-packages/numpy/core/fromnumeric.py:3464: RuntimeWarning: Mean of empty slice.\n",
      "  return _methods._mean(a, axis=axis, dtype=dtype,\n",
      "/home/evgen/anaconda3/lib/python3.11/site-packages/numpy/core/_methods.py:184: RuntimeWarning: invalid value encountered in divide\n",
      "  ret = um.true_divide(\n",
      "/home/evgen/mlcourse/ml-course/homeworks/assignment0_04_tree/tree.py:62: RuntimeWarning: invalid value encountered in scalar divide\n",
      "  variance = np.sum((y - np.mean(y, axis=0))**2) / np.shape(y)[0]\n",
      "/home/evgen/anaconda3/lib/python3.11/site-packages/numpy/core/fromnumeric.py:3464: RuntimeWarning: Mean of empty slice.\n",
      "  return _methods._mean(a, axis=axis, dtype=dtype,\n",
      "/home/evgen/anaconda3/lib/python3.11/site-packages/numpy/core/_methods.py:184: RuntimeWarning: invalid value encountered in divide\n",
      "  ret = um.true_divide(\n",
      "/home/evgen/mlcourse/ml-course/homeworks/assignment0_04_tree/tree.py:62: RuntimeWarning: invalid value encountered in scalar divide\n",
      "  variance = np.sum((y - np.mean(y, axis=0))**2) / np.shape(y)[0]\n",
      "/home/evgen/anaconda3/lib/python3.11/site-packages/numpy/core/fromnumeric.py:3464: RuntimeWarning: Mean of empty slice.\n",
      "  return _methods._mean(a, axis=axis, dtype=dtype,\n",
      "/home/evgen/anaconda3/lib/python3.11/site-packages/numpy/core/_methods.py:184: RuntimeWarning: invalid value encountered in divide\n",
      "  ret = um.true_divide(\n",
      "/home/evgen/mlcourse/ml-course/homeworks/assignment0_04_tree/tree.py:62: RuntimeWarning: invalid value encountered in scalar divide\n",
      "  variance = np.sum((y - np.mean(y, axis=0))**2) / np.shape(y)[0]\n",
      "/home/evgen/anaconda3/lib/python3.11/site-packages/numpy/core/fromnumeric.py:3464: RuntimeWarning: Mean of empty slice.\n",
      "  return _methods._mean(a, axis=axis, dtype=dtype,\n",
      "/home/evgen/anaconda3/lib/python3.11/site-packages/numpy/core/_methods.py:184: RuntimeWarning: invalid value encountered in divide\n",
      "  ret = um.true_divide(\n",
      "/home/evgen/mlcourse/ml-course/homeworks/assignment0_04_tree/tree.py:62: RuntimeWarning: invalid value encountered in scalar divide\n",
      "  variance = np.sum((y - np.mean(y, axis=0))**2) / np.shape(y)[0]\n",
      "/home/evgen/anaconda3/lib/python3.11/site-packages/numpy/core/fromnumeric.py:3464: RuntimeWarning: Mean of empty slice.\n",
      "  return _methods._mean(a, axis=axis, dtype=dtype,\n",
      "/home/evgen/anaconda3/lib/python3.11/site-packages/numpy/core/_methods.py:184: RuntimeWarning: invalid value encountered in divide\n",
      "  ret = um.true_divide(\n",
      "/home/evgen/mlcourse/ml-course/homeworks/assignment0_04_tree/tree.py:62: RuntimeWarning: invalid value encountered in scalar divide\n",
      "  variance = np.sum((y - np.mean(y, axis=0))**2) / np.shape(y)[0]\n",
      "/home/evgen/anaconda3/lib/python3.11/site-packages/numpy/core/fromnumeric.py:3464: RuntimeWarning: Mean of empty slice.\n",
      "  return _methods._mean(a, axis=axis, dtype=dtype,\n",
      "/home/evgen/anaconda3/lib/python3.11/site-packages/numpy/core/_methods.py:184: RuntimeWarning: invalid value encountered in divide\n",
      "  ret = um.true_divide(\n",
      "/home/evgen/mlcourse/ml-course/homeworks/assignment0_04_tree/tree.py:62: RuntimeWarning: invalid value encountered in scalar divide\n",
      "  variance = np.sum((y - np.mean(y, axis=0))**2) / np.shape(y)[0]\n",
      "/home/evgen/anaconda3/lib/python3.11/site-packages/numpy/core/fromnumeric.py:3464: RuntimeWarning: Mean of empty slice.\n",
      "  return _methods._mean(a, axis=axis, dtype=dtype,\n",
      "/home/evgen/anaconda3/lib/python3.11/site-packages/numpy/core/_methods.py:184: RuntimeWarning: invalid value encountered in divide\n",
      "  ret = um.true_divide(\n",
      "/home/evgen/mlcourse/ml-course/homeworks/assignment0_04_tree/tree.py:62: RuntimeWarning: invalid value encountered in scalar divide\n",
      "  variance = np.sum((y - np.mean(y, axis=0))**2) / np.shape(y)[0]\n",
      "/home/evgen/anaconda3/lib/python3.11/site-packages/numpy/core/fromnumeric.py:3464: RuntimeWarning: Mean of empty slice.\n",
      "  return _methods._mean(a, axis=axis, dtype=dtype,\n",
      "/home/evgen/anaconda3/lib/python3.11/site-packages/numpy/core/_methods.py:184: RuntimeWarning: invalid value encountered in divide\n",
      "  ret = um.true_divide(\n",
      "/home/evgen/mlcourse/ml-course/homeworks/assignment0_04_tree/tree.py:62: RuntimeWarning: invalid value encountered in scalar divide\n",
      "  variance = np.sum((y - np.mean(y, axis=0))**2) / np.shape(y)[0]\n",
      "/home/evgen/anaconda3/lib/python3.11/site-packages/numpy/core/fromnumeric.py:3464: RuntimeWarning: Mean of empty slice.\n",
      "  return _methods._mean(a, axis=axis, dtype=dtype,\n",
      "/home/evgen/anaconda3/lib/python3.11/site-packages/numpy/core/_methods.py:184: RuntimeWarning: invalid value encountered in divide\n",
      "  ret = um.true_divide(\n",
      "/home/evgen/mlcourse/ml-course/homeworks/assignment0_04_tree/tree.py:62: RuntimeWarning: invalid value encountered in scalar divide\n",
      "  variance = np.sum((y - np.mean(y, axis=0))**2) / np.shape(y)[0]\n",
      "/home/evgen/anaconda3/lib/python3.11/site-packages/numpy/core/fromnumeric.py:3464: RuntimeWarning: Mean of empty slice.\n",
      "  return _methods._mean(a, axis=axis, dtype=dtype,\n",
      "/home/evgen/anaconda3/lib/python3.11/site-packages/numpy/core/_methods.py:184: RuntimeWarning: invalid value encountered in divide\n",
      "  ret = um.true_divide(\n",
      "/home/evgen/mlcourse/ml-course/homeworks/assignment0_04_tree/tree.py:62: RuntimeWarning: invalid value encountered in scalar divide\n",
      "  variance = np.sum((y - np.mean(y, axis=0))**2) / np.shape(y)[0]\n",
      "/home/evgen/anaconda3/lib/python3.11/site-packages/numpy/core/fromnumeric.py:3464: RuntimeWarning: Mean of empty slice.\n",
      "  return _methods._mean(a, axis=axis, dtype=dtype,\n",
      "/home/evgen/anaconda3/lib/python3.11/site-packages/numpy/core/_methods.py:184: RuntimeWarning: invalid value encountered in divide\n",
      "  ret = um.true_divide(\n",
      "/home/evgen/mlcourse/ml-course/homeworks/assignment0_04_tree/tree.py:62: RuntimeWarning: invalid value encountered in scalar divide\n",
      "  variance = np.sum((y - np.mean(y, axis=0))**2) / np.shape(y)[0]\n",
      "/home/evgen/anaconda3/lib/python3.11/site-packages/numpy/core/fromnumeric.py:3464: RuntimeWarning: Mean of empty slice.\n",
      "  return _methods._mean(a, axis=axis, dtype=dtype,\n",
      "/home/evgen/anaconda3/lib/python3.11/site-packages/numpy/core/_methods.py:184: RuntimeWarning: invalid value encountered in divide\n",
      "  ret = um.true_divide(\n",
      "/home/evgen/mlcourse/ml-course/homeworks/assignment0_04_tree/tree.py:62: RuntimeWarning: invalid value encountered in scalar divide\n",
      "  variance = np.sum((y - np.mean(y, axis=0))**2) / np.shape(y)[0]\n",
      "/home/evgen/anaconda3/lib/python3.11/site-packages/numpy/core/fromnumeric.py:3464: RuntimeWarning: Mean of empty slice.\n",
      "  return _methods._mean(a, axis=axis, dtype=dtype,\n",
      "/home/evgen/anaconda3/lib/python3.11/site-packages/numpy/core/_methods.py:184: RuntimeWarning: invalid value encountered in divide\n",
      "  ret = um.true_divide(\n",
      "/home/evgen/mlcourse/ml-course/homeworks/assignment0_04_tree/tree.py:62: RuntimeWarning: invalid value encountered in scalar divide\n",
      "  variance = np.sum((y - np.mean(y, axis=0))**2) / np.shape(y)[0]\n",
      "/home/evgen/anaconda3/lib/python3.11/site-packages/numpy/core/fromnumeric.py:3464: RuntimeWarning: Mean of empty slice.\n",
      "  return _methods._mean(a, axis=axis, dtype=dtype,\n",
      "/home/evgen/anaconda3/lib/python3.11/site-packages/numpy/core/_methods.py:184: RuntimeWarning: invalid value encountered in divide\n",
      "  ret = um.true_divide(\n",
      "/home/evgen/mlcourse/ml-course/homeworks/assignment0_04_tree/tree.py:62: RuntimeWarning: invalid value encountered in scalar divide\n",
      "  variance = np.sum((y - np.mean(y, axis=0))**2) / np.shape(y)[0]\n",
      "/home/evgen/anaconda3/lib/python3.11/site-packages/numpy/core/fromnumeric.py:3464: RuntimeWarning: Mean of empty slice.\n",
      "  return _methods._mean(a, axis=axis, dtype=dtype,\n",
      "/home/evgen/anaconda3/lib/python3.11/site-packages/numpy/core/_methods.py:184: RuntimeWarning: invalid value encountered in divide\n",
      "  ret = um.true_divide(\n",
      "/home/evgen/mlcourse/ml-course/homeworks/assignment0_04_tree/tree.py:62: RuntimeWarning: invalid value encountered in scalar divide\n",
      "  variance = np.sum((y - np.mean(y, axis=0))**2) / np.shape(y)[0]\n",
      "/home/evgen/anaconda3/lib/python3.11/site-packages/numpy/core/fromnumeric.py:3464: RuntimeWarning: Mean of empty slice.\n",
      "  return _methods._mean(a, axis=axis, dtype=dtype,\n",
      "/home/evgen/anaconda3/lib/python3.11/site-packages/numpy/core/_methods.py:184: RuntimeWarning: invalid value encountered in divide\n",
      "  ret = um.true_divide(\n",
      "/home/evgen/mlcourse/ml-course/homeworks/assignment0_04_tree/tree.py:62: RuntimeWarning: invalid value encountered in scalar divide\n",
      "  variance = np.sum((y - np.mean(y, axis=0))**2) / np.shape(y)[0]\n",
      "/home/evgen/anaconda3/lib/python3.11/site-packages/numpy/core/fromnumeric.py:3464: RuntimeWarning: Mean of empty slice.\n",
      "  return _methods._mean(a, axis=axis, dtype=dtype,\n",
      "/home/evgen/anaconda3/lib/python3.11/site-packages/numpy/core/_methods.py:184: RuntimeWarning: invalid value encountered in divide\n",
      "  ret = um.true_divide(\n",
      "/home/evgen/mlcourse/ml-course/homeworks/assignment0_04_tree/tree.py:82: RuntimeWarning: invalid value encountered in scalar divide\n",
      "  mad_median = np.sum(np.abs(y - np.median(y, axis=0))) / np.shape(y)[0]\n",
      "/home/evgen/anaconda3/lib/python3.11/site-packages/numpy/core/fromnumeric.py:3464: RuntimeWarning: Mean of empty slice.\n",
      "  return _methods._mean(a, axis=axis, dtype=dtype,\n",
      "/home/evgen/anaconda3/lib/python3.11/site-packages/numpy/core/_methods.py:184: RuntimeWarning: invalid value encountered in divide\n",
      "  ret = um.true_divide(\n",
      "/home/evgen/mlcourse/ml-course/homeworks/assignment0_04_tree/tree.py:82: RuntimeWarning: invalid value encountered in scalar divide\n",
      "  mad_median = np.sum(np.abs(y - np.median(y, axis=0))) / np.shape(y)[0]\n",
      "/home/evgen/anaconda3/lib/python3.11/site-packages/numpy/core/fromnumeric.py:3464: RuntimeWarning: Mean of empty slice.\n",
      "  return _methods._mean(a, axis=axis, dtype=dtype,\n",
      "/home/evgen/anaconda3/lib/python3.11/site-packages/numpy/core/_methods.py:184: RuntimeWarning: invalid value encountered in divide\n",
      "  ret = um.true_divide(\n",
      "/home/evgen/mlcourse/ml-course/homeworks/assignment0_04_tree/tree.py:82: RuntimeWarning: invalid value encountered in scalar divide\n",
      "  mad_median = np.sum(np.abs(y - np.median(y, axis=0))) / np.shape(y)[0]\n",
      "/home/evgen/anaconda3/lib/python3.11/site-packages/numpy/core/fromnumeric.py:3464: RuntimeWarning: Mean of empty slice.\n",
      "  return _methods._mean(a, axis=axis, dtype=dtype,\n",
      "/home/evgen/anaconda3/lib/python3.11/site-packages/numpy/core/_methods.py:184: RuntimeWarning: invalid value encountered in divide\n",
      "  ret = um.true_divide(\n",
      "/home/evgen/mlcourse/ml-course/homeworks/assignment0_04_tree/tree.py:82: RuntimeWarning: invalid value encountered in scalar divide\n",
      "  mad_median = np.sum(np.abs(y - np.median(y, axis=0))) / np.shape(y)[0]\n",
      "/home/evgen/anaconda3/lib/python3.11/site-packages/numpy/core/fromnumeric.py:3464: RuntimeWarning: Mean of empty slice.\n",
      "  return _methods._mean(a, axis=axis, dtype=dtype,\n",
      "/home/evgen/anaconda3/lib/python3.11/site-packages/numpy/core/_methods.py:184: RuntimeWarning: invalid value encountered in divide\n",
      "  ret = um.true_divide(\n",
      "/home/evgen/mlcourse/ml-course/homeworks/assignment0_04_tree/tree.py:82: RuntimeWarning: invalid value encountered in scalar divide\n",
      "  mad_median = np.sum(np.abs(y - np.median(y, axis=0))) / np.shape(y)[0]\n",
      "/home/evgen/anaconda3/lib/python3.11/site-packages/numpy/core/fromnumeric.py:3464: RuntimeWarning: Mean of empty slice.\n",
      "  return _methods._mean(a, axis=axis, dtype=dtype,\n",
      "/home/evgen/anaconda3/lib/python3.11/site-packages/numpy/core/_methods.py:184: RuntimeWarning: invalid value encountered in divide\n",
      "  ret = um.true_divide(\n",
      "/home/evgen/mlcourse/ml-course/homeworks/assignment0_04_tree/tree.py:82: RuntimeWarning: invalid value encountered in scalar divide\n",
      "  mad_median = np.sum(np.abs(y - np.median(y, axis=0))) / np.shape(y)[0]\n",
      "/home/evgen/anaconda3/lib/python3.11/site-packages/numpy/core/fromnumeric.py:3464: RuntimeWarning: Mean of empty slice.\n",
      "  return _methods._mean(a, axis=axis, dtype=dtype,\n",
      "/home/evgen/anaconda3/lib/python3.11/site-packages/numpy/core/_methods.py:184: RuntimeWarning: invalid value encountered in divide\n",
      "  ret = um.true_divide(\n",
      "/home/evgen/mlcourse/ml-course/homeworks/assignment0_04_tree/tree.py:82: RuntimeWarning: invalid value encountered in scalar divide\n",
      "  mad_median = np.sum(np.abs(y - np.median(y, axis=0))) / np.shape(y)[0]\n",
      "/home/evgen/anaconda3/lib/python3.11/site-packages/numpy/core/fromnumeric.py:3464: RuntimeWarning: Mean of empty slice.\n",
      "  return _methods._mean(a, axis=axis, dtype=dtype,\n",
      "/home/evgen/anaconda3/lib/python3.11/site-packages/numpy/core/_methods.py:184: RuntimeWarning: invalid value encountered in divide\n",
      "  ret = um.true_divide(\n",
      "/home/evgen/mlcourse/ml-course/homeworks/assignment0_04_tree/tree.py:82: RuntimeWarning: invalid value encountered in scalar divide\n",
      "  mad_median = np.sum(np.abs(y - np.median(y, axis=0))) / np.shape(y)[0]\n",
      "/home/evgen/anaconda3/lib/python3.11/site-packages/numpy/core/fromnumeric.py:3464: RuntimeWarning: Mean of empty slice.\n",
      "  return _methods._mean(a, axis=axis, dtype=dtype,\n",
      "/home/evgen/anaconda3/lib/python3.11/site-packages/numpy/core/_methods.py:184: RuntimeWarning: invalid value encountered in divide\n",
      "  ret = um.true_divide(\n",
      "/home/evgen/mlcourse/ml-course/homeworks/assignment0_04_tree/tree.py:82: RuntimeWarning: invalid value encountered in scalar divide\n",
      "  mad_median = np.sum(np.abs(y - np.median(y, axis=0))) / np.shape(y)[0]\n",
      "/home/evgen/anaconda3/lib/python3.11/site-packages/numpy/core/fromnumeric.py:3464: RuntimeWarning: Mean of empty slice.\n",
      "  return _methods._mean(a, axis=axis, dtype=dtype,\n",
      "/home/evgen/anaconda3/lib/python3.11/site-packages/numpy/core/_methods.py:184: RuntimeWarning: invalid value encountered in divide\n",
      "  ret = um.true_divide(\n",
      "/home/evgen/mlcourse/ml-course/homeworks/assignment0_04_tree/tree.py:82: RuntimeWarning: invalid value encountered in scalar divide\n",
      "  mad_median = np.sum(np.abs(y - np.median(y, axis=0))) / np.shape(y)[0]\n",
      "/home/evgen/anaconda3/lib/python3.11/site-packages/numpy/core/fromnumeric.py:3464: RuntimeWarning: Mean of empty slice.\n",
      "  return _methods._mean(a, axis=axis, dtype=dtype,\n",
      "/home/evgen/anaconda3/lib/python3.11/site-packages/numpy/core/_methods.py:184: RuntimeWarning: invalid value encountered in divide\n",
      "  ret = um.true_divide(\n",
      "/home/evgen/mlcourse/ml-course/homeworks/assignment0_04_tree/tree.py:82: RuntimeWarning: invalid value encountered in scalar divide\n",
      "  mad_median = np.sum(np.abs(y - np.median(y, axis=0))) / np.shape(y)[0]\n",
      "/home/evgen/anaconda3/lib/python3.11/site-packages/numpy/core/fromnumeric.py:3464: RuntimeWarning: Mean of empty slice.\n",
      "  return _methods._mean(a, axis=axis, dtype=dtype,\n",
      "/home/evgen/anaconda3/lib/python3.11/site-packages/numpy/core/_methods.py:184: RuntimeWarning: invalid value encountered in divide\n",
      "  ret = um.true_divide(\n",
      "/home/evgen/mlcourse/ml-course/homeworks/assignment0_04_tree/tree.py:82: RuntimeWarning: invalid value encountered in scalar divide\n",
      "  mad_median = np.sum(np.abs(y - np.median(y, axis=0))) / np.shape(y)[0]\n",
      "/home/evgen/anaconda3/lib/python3.11/site-packages/numpy/core/fromnumeric.py:3464: RuntimeWarning: Mean of empty slice.\n",
      "  return _methods._mean(a, axis=axis, dtype=dtype,\n",
      "/home/evgen/anaconda3/lib/python3.11/site-packages/numpy/core/_methods.py:184: RuntimeWarning: invalid value encountered in divide\n",
      "  ret = um.true_divide(\n",
      "/home/evgen/mlcourse/ml-course/homeworks/assignment0_04_tree/tree.py:82: RuntimeWarning: invalid value encountered in scalar divide\n",
      "  mad_median = np.sum(np.abs(y - np.median(y, axis=0))) / np.shape(y)[0]\n",
      "/home/evgen/anaconda3/lib/python3.11/site-packages/numpy/core/fromnumeric.py:3464: RuntimeWarning: Mean of empty slice.\n",
      "  return _methods._mean(a, axis=axis, dtype=dtype,\n",
      "/home/evgen/anaconda3/lib/python3.11/site-packages/numpy/core/_methods.py:184: RuntimeWarning: invalid value encountered in divide\n",
      "  ret = um.true_divide(\n",
      "/home/evgen/mlcourse/ml-course/homeworks/assignment0_04_tree/tree.py:82: RuntimeWarning: invalid value encountered in scalar divide\n",
      "  mad_median = np.sum(np.abs(y - np.median(y, axis=0))) / np.shape(y)[0]\n",
      "/home/evgen/anaconda3/lib/python3.11/site-packages/numpy/core/fromnumeric.py:3464: RuntimeWarning: Mean of empty slice.\n",
      "  return _methods._mean(a, axis=axis, dtype=dtype,\n",
      "/home/evgen/anaconda3/lib/python3.11/site-packages/numpy/core/_methods.py:184: RuntimeWarning: invalid value encountered in divide\n",
      "  ret = um.true_divide(\n",
      "/home/evgen/mlcourse/ml-course/homeworks/assignment0_04_tree/tree.py:82: RuntimeWarning: invalid value encountered in scalar divide\n",
      "  mad_median = np.sum(np.abs(y - np.median(y, axis=0))) / np.shape(y)[0]\n",
      "/home/evgen/anaconda3/lib/python3.11/site-packages/numpy/core/fromnumeric.py:3464: RuntimeWarning: Mean of empty slice.\n",
      "  return _methods._mean(a, axis=axis, dtype=dtype,\n",
      "/home/evgen/anaconda3/lib/python3.11/site-packages/numpy/core/_methods.py:184: RuntimeWarning: invalid value encountered in divide\n",
      "  ret = um.true_divide(\n",
      "/home/evgen/mlcourse/ml-course/homeworks/assignment0_04_tree/tree.py:82: RuntimeWarning: invalid value encountered in scalar divide\n",
      "  mad_median = np.sum(np.abs(y - np.median(y, axis=0))) / np.shape(y)[0]\n",
      "/home/evgen/anaconda3/lib/python3.11/site-packages/numpy/core/fromnumeric.py:3464: RuntimeWarning: Mean of empty slice.\n",
      "  return _methods._mean(a, axis=axis, dtype=dtype,\n",
      "/home/evgen/anaconda3/lib/python3.11/site-packages/numpy/core/_methods.py:184: RuntimeWarning: invalid value encountered in divide\n",
      "  ret = um.true_divide(\n",
      "/home/evgen/mlcourse/ml-course/homeworks/assignment0_04_tree/tree.py:82: RuntimeWarning: invalid value encountered in scalar divide\n",
      "  mad_median = np.sum(np.abs(y - np.median(y, axis=0))) / np.shape(y)[0]\n",
      "/home/evgen/anaconda3/lib/python3.11/site-packages/numpy/core/fromnumeric.py:3464: RuntimeWarning: Mean of empty slice.\n",
      "  return _methods._mean(a, axis=axis, dtype=dtype,\n",
      "/home/evgen/anaconda3/lib/python3.11/site-packages/numpy/core/_methods.py:184: RuntimeWarning: invalid value encountered in divide\n",
      "  ret = um.true_divide(\n",
      "/home/evgen/mlcourse/ml-course/homeworks/assignment0_04_tree/tree.py:82: RuntimeWarning: invalid value encountered in scalar divide\n",
      "  mad_median = np.sum(np.abs(y - np.median(y, axis=0))) / np.shape(y)[0]\n",
      "/home/evgen/anaconda3/lib/python3.11/site-packages/numpy/core/fromnumeric.py:3464: RuntimeWarning: Mean of empty slice.\n",
      "  return _methods._mean(a, axis=axis, dtype=dtype,\n",
      "/home/evgen/anaconda3/lib/python3.11/site-packages/numpy/core/_methods.py:184: RuntimeWarning: invalid value encountered in divide\n",
      "  ret = um.true_divide(\n",
      "/home/evgen/mlcourse/ml-course/homeworks/assignment0_04_tree/tree.py:82: RuntimeWarning: invalid value encountered in scalar divide\n",
      "  mad_median = np.sum(np.abs(y - np.median(y, axis=0))) / np.shape(y)[0]\n",
      "/home/evgen/anaconda3/lib/python3.11/site-packages/numpy/core/fromnumeric.py:3464: RuntimeWarning: Mean of empty slice.\n",
      "  return _methods._mean(a, axis=axis, dtype=dtype,\n",
      "/home/evgen/anaconda3/lib/python3.11/site-packages/numpy/core/_methods.py:184: RuntimeWarning: invalid value encountered in divide\n",
      "  ret = um.true_divide(\n",
      "/home/evgen/mlcourse/ml-course/homeworks/assignment0_04_tree/tree.py:82: RuntimeWarning: invalid value encountered in scalar divide\n",
      "  mad_median = np.sum(np.abs(y - np.median(y, axis=0))) / np.shape(y)[0]\n",
      "/home/evgen/anaconda3/lib/python3.11/site-packages/numpy/core/fromnumeric.py:3464: RuntimeWarning: Mean of empty slice.\n",
      "  return _methods._mean(a, axis=axis, dtype=dtype,\n",
      "/home/evgen/anaconda3/lib/python3.11/site-packages/numpy/core/_methods.py:184: RuntimeWarning: invalid value encountered in divide\n",
      "  ret = um.true_divide(\n",
      "/home/evgen/mlcourse/ml-course/homeworks/assignment0_04_tree/tree.py:82: RuntimeWarning: invalid value encountered in scalar divide\n",
      "  mad_median = np.sum(np.abs(y - np.median(y, axis=0))) / np.shape(y)[0]\n",
      "/home/evgen/anaconda3/lib/python3.11/site-packages/numpy/core/fromnumeric.py:3464: RuntimeWarning: Mean of empty slice.\n",
      "  return _methods._mean(a, axis=axis, dtype=dtype,\n",
      "/home/evgen/anaconda3/lib/python3.11/site-packages/numpy/core/_methods.py:184: RuntimeWarning: invalid value encountered in divide\n",
      "  ret = um.true_divide(\n",
      "/home/evgen/mlcourse/ml-course/homeworks/assignment0_04_tree/tree.py:82: RuntimeWarning: invalid value encountered in scalar divide\n",
      "  mad_median = np.sum(np.abs(y - np.median(y, axis=0))) / np.shape(y)[0]\n",
      "/home/evgen/anaconda3/lib/python3.11/site-packages/numpy/core/fromnumeric.py:3464: RuntimeWarning: Mean of empty slice.\n",
      "  return _methods._mean(a, axis=axis, dtype=dtype,\n",
      "/home/evgen/anaconda3/lib/python3.11/site-packages/numpy/core/_methods.py:184: RuntimeWarning: invalid value encountered in divide\n",
      "  ret = um.true_divide(\n",
      "/home/evgen/mlcourse/ml-course/homeworks/assignment0_04_tree/tree.py:82: RuntimeWarning: invalid value encountered in scalar divide\n",
      "  mad_median = np.sum(np.abs(y - np.median(y, axis=0))) / np.shape(y)[0]\n",
      "/home/evgen/anaconda3/lib/python3.11/site-packages/numpy/core/fromnumeric.py:3464: RuntimeWarning: Mean of empty slice.\n",
      "  return _methods._mean(a, axis=axis, dtype=dtype,\n",
      "/home/evgen/anaconda3/lib/python3.11/site-packages/numpy/core/_methods.py:184: RuntimeWarning: invalid value encountered in divide\n",
      "  ret = um.true_divide(\n",
      "/home/evgen/mlcourse/ml-course/homeworks/assignment0_04_tree/tree.py:82: RuntimeWarning: invalid value encountered in scalar divide\n",
      "  mad_median = np.sum(np.abs(y - np.median(y, axis=0))) / np.shape(y)[0]\n",
      "/home/evgen/anaconda3/lib/python3.11/site-packages/numpy/core/fromnumeric.py:3464: RuntimeWarning: Mean of empty slice.\n",
      "  return _methods._mean(a, axis=axis, dtype=dtype,\n",
      "/home/evgen/anaconda3/lib/python3.11/site-packages/numpy/core/_methods.py:184: RuntimeWarning: invalid value encountered in divide\n",
      "  ret = um.true_divide(\n",
      "/home/evgen/mlcourse/ml-course/homeworks/assignment0_04_tree/tree.py:82: RuntimeWarning: invalid value encountered in scalar divide\n",
      "  mad_median = np.sum(np.abs(y - np.median(y, axis=0))) / np.shape(y)[0]\n",
      "/home/evgen/anaconda3/lib/python3.11/site-packages/numpy/core/fromnumeric.py:3464: RuntimeWarning: Mean of empty slice.\n",
      "  return _methods._mean(a, axis=axis, dtype=dtype,\n",
      "/home/evgen/anaconda3/lib/python3.11/site-packages/numpy/core/_methods.py:184: RuntimeWarning: invalid value encountered in divide\n",
      "  ret = um.true_divide(\n",
      "/home/evgen/mlcourse/ml-course/homeworks/assignment0_04_tree/tree.py:82: RuntimeWarning: invalid value encountered in scalar divide\n",
      "  mad_median = np.sum(np.abs(y - np.median(y, axis=0))) / np.shape(y)[0]\n",
      "/home/evgen/anaconda3/lib/python3.11/site-packages/numpy/core/fromnumeric.py:3464: RuntimeWarning: Mean of empty slice.\n",
      "  return _methods._mean(a, axis=axis, dtype=dtype,\n",
      "/home/evgen/anaconda3/lib/python3.11/site-packages/numpy/core/_methods.py:184: RuntimeWarning: invalid value encountered in divide\n",
      "  ret = um.true_divide(\n",
      "/home/evgen/mlcourse/ml-course/homeworks/assignment0_04_tree/tree.py:82: RuntimeWarning: invalid value encountered in scalar divide\n",
      "  mad_median = np.sum(np.abs(y - np.median(y, axis=0))) / np.shape(y)[0]\n",
      "/home/evgen/anaconda3/lib/python3.11/site-packages/numpy/core/fromnumeric.py:3464: RuntimeWarning: Mean of empty slice.\n",
      "  return _methods._mean(a, axis=axis, dtype=dtype,\n",
      "/home/evgen/anaconda3/lib/python3.11/site-packages/numpy/core/_methods.py:184: RuntimeWarning: invalid value encountered in divide\n",
      "  ret = um.true_divide(\n",
      "/home/evgen/mlcourse/ml-course/homeworks/assignment0_04_tree/tree.py:82: RuntimeWarning: invalid value encountered in scalar divide\n",
      "  mad_median = np.sum(np.abs(y - np.median(y, axis=0))) / np.shape(y)[0]\n",
      "/home/evgen/anaconda3/lib/python3.11/site-packages/numpy/core/fromnumeric.py:3464: RuntimeWarning: Mean of empty slice.\n",
      "  return _methods._mean(a, axis=axis, dtype=dtype,\n",
      "/home/evgen/anaconda3/lib/python3.11/site-packages/numpy/core/_methods.py:184: RuntimeWarning: invalid value encountered in divide\n",
      "  ret = um.true_divide(\n",
      "/home/evgen/mlcourse/ml-course/homeworks/assignment0_04_tree/tree.py:82: RuntimeWarning: invalid value encountered in scalar divide\n",
      "  mad_median = np.sum(np.abs(y - np.median(y, axis=0))) / np.shape(y)[0]\n",
      "/home/evgen/anaconda3/lib/python3.11/site-packages/numpy/core/fromnumeric.py:3464: RuntimeWarning: Mean of empty slice.\n",
      "  return _methods._mean(a, axis=axis, dtype=dtype,\n",
      "/home/evgen/anaconda3/lib/python3.11/site-packages/numpy/core/_methods.py:184: RuntimeWarning: invalid value encountered in divide\n",
      "  ret = um.true_divide(\n",
      "/home/evgen/mlcourse/ml-course/homeworks/assignment0_04_tree/tree.py:82: RuntimeWarning: invalid value encountered in scalar divide\n",
      "  mad_median = np.sum(np.abs(y - np.median(y, axis=0))) / np.shape(y)[0]\n",
      "/home/evgen/anaconda3/lib/python3.11/site-packages/numpy/core/fromnumeric.py:3464: RuntimeWarning: Mean of empty slice.\n",
      "  return _methods._mean(a, axis=axis, dtype=dtype,\n",
      "/home/evgen/anaconda3/lib/python3.11/site-packages/numpy/core/_methods.py:184: RuntimeWarning: invalid value encountered in divide\n",
      "  ret = um.true_divide(\n",
      "/home/evgen/mlcourse/ml-course/homeworks/assignment0_04_tree/tree.py:82: RuntimeWarning: invalid value encountered in scalar divide\n",
      "  mad_median = np.sum(np.abs(y - np.median(y, axis=0))) / np.shape(y)[0]\n",
      "/home/evgen/anaconda3/lib/python3.11/site-packages/numpy/core/fromnumeric.py:3464: RuntimeWarning: Mean of empty slice.\n",
      "  return _methods._mean(a, axis=axis, dtype=dtype,\n",
      "/home/evgen/anaconda3/lib/python3.11/site-packages/numpy/core/_methods.py:184: RuntimeWarning: invalid value encountered in divide\n",
      "  ret = um.true_divide(\n",
      "/home/evgen/mlcourse/ml-course/homeworks/assignment0_04_tree/tree.py:82: RuntimeWarning: invalid value encountered in scalar divide\n",
      "  mad_median = np.sum(np.abs(y - np.median(y, axis=0))) / np.shape(y)[0]\n",
      "/home/evgen/anaconda3/lib/python3.11/site-packages/numpy/core/fromnumeric.py:3464: RuntimeWarning: Mean of empty slice.\n",
      "  return _methods._mean(a, axis=axis, dtype=dtype,\n",
      "/home/evgen/anaconda3/lib/python3.11/site-packages/numpy/core/_methods.py:184: RuntimeWarning: invalid value encountered in divide\n",
      "  ret = um.true_divide(\n",
      "/home/evgen/mlcourse/ml-course/homeworks/assignment0_04_tree/tree.py:82: RuntimeWarning: invalid value encountered in scalar divide\n",
      "  mad_median = np.sum(np.abs(y - np.median(y, axis=0))) / np.shape(y)[0]\n",
      "/home/evgen/anaconda3/lib/python3.11/site-packages/numpy/core/fromnumeric.py:3464: RuntimeWarning: Mean of empty slice.\n",
      "  return _methods._mean(a, axis=axis, dtype=dtype,\n",
      "/home/evgen/anaconda3/lib/python3.11/site-packages/numpy/core/_methods.py:184: RuntimeWarning: invalid value encountered in divide\n",
      "  ret = um.true_divide(\n",
      "/home/evgen/mlcourse/ml-course/homeworks/assignment0_04_tree/tree.py:82: RuntimeWarning: invalid value encountered in scalar divide\n",
      "  mad_median = np.sum(np.abs(y - np.median(y, axis=0))) / np.shape(y)[0]\n",
      "/home/evgen/anaconda3/lib/python3.11/site-packages/numpy/core/fromnumeric.py:3464: RuntimeWarning: Mean of empty slice.\n",
      "  return _methods._mean(a, axis=axis, dtype=dtype,\n",
      "/home/evgen/anaconda3/lib/python3.11/site-packages/numpy/core/_methods.py:184: RuntimeWarning: invalid value encountered in divide\n",
      "  ret = um.true_divide(\n",
      "/home/evgen/mlcourse/ml-course/homeworks/assignment0_04_tree/tree.py:82: RuntimeWarning: invalid value encountered in scalar divide\n",
      "  mad_median = np.sum(np.abs(y - np.median(y, axis=0))) / np.shape(y)[0]\n",
      "/home/evgen/anaconda3/lib/python3.11/site-packages/numpy/core/fromnumeric.py:3464: RuntimeWarning: Mean of empty slice.\n",
      "  return _methods._mean(a, axis=axis, dtype=dtype,\n"
     ]
    },
    {
     "data": {
      "text/html": [
       "<style>#sk-container-id-2 {color: black;}#sk-container-id-2 pre{padding: 0;}#sk-container-id-2 div.sk-toggleable {background-color: white;}#sk-container-id-2 label.sk-toggleable__label {cursor: pointer;display: block;width: 100%;margin-bottom: 0;padding: 0.3em;box-sizing: border-box;text-align: center;}#sk-container-id-2 label.sk-toggleable__label-arrow:before {content: \"▸\";float: left;margin-right: 0.25em;color: #696969;}#sk-container-id-2 label.sk-toggleable__label-arrow:hover:before {color: black;}#sk-container-id-2 div.sk-estimator:hover label.sk-toggleable__label-arrow:before {color: black;}#sk-container-id-2 div.sk-toggleable__content {max-height: 0;max-width: 0;overflow: hidden;text-align: left;background-color: #f0f8ff;}#sk-container-id-2 div.sk-toggleable__content pre {margin: 0.2em;color: black;border-radius: 0.25em;background-color: #f0f8ff;}#sk-container-id-2 input.sk-toggleable__control:checked~div.sk-toggleable__content {max-height: 200px;max-width: 100%;overflow: auto;}#sk-container-id-2 input.sk-toggleable__control:checked~label.sk-toggleable__label-arrow:before {content: \"▾\";}#sk-container-id-2 div.sk-estimator input.sk-toggleable__control:checked~label.sk-toggleable__label {background-color: #d4ebff;}#sk-container-id-2 div.sk-label input.sk-toggleable__control:checked~label.sk-toggleable__label {background-color: #d4ebff;}#sk-container-id-2 input.sk-hidden--visually {border: 0;clip: rect(1px 1px 1px 1px);clip: rect(1px, 1px, 1px, 1px);height: 1px;margin: -1px;overflow: hidden;padding: 0;position: absolute;width: 1px;}#sk-container-id-2 div.sk-estimator {font-family: monospace;background-color: #f0f8ff;border: 1px dotted black;border-radius: 0.25em;box-sizing: border-box;margin-bottom: 0.5em;}#sk-container-id-2 div.sk-estimator:hover {background-color: #d4ebff;}#sk-container-id-2 div.sk-parallel-item::after {content: \"\";width: 100%;border-bottom: 1px solid gray;flex-grow: 1;}#sk-container-id-2 div.sk-label:hover label.sk-toggleable__label {background-color: #d4ebff;}#sk-container-id-2 div.sk-serial::before {content: \"\";position: absolute;border-left: 1px solid gray;box-sizing: border-box;top: 0;bottom: 0;left: 50%;z-index: 0;}#sk-container-id-2 div.sk-serial {display: flex;flex-direction: column;align-items: center;background-color: white;padding-right: 0.2em;padding-left: 0.2em;position: relative;}#sk-container-id-2 div.sk-item {position: relative;z-index: 1;}#sk-container-id-2 div.sk-parallel {display: flex;align-items: stretch;justify-content: center;background-color: white;position: relative;}#sk-container-id-2 div.sk-item::before, #sk-container-id-2 div.sk-parallel-item::before {content: \"\";position: absolute;border-left: 1px solid gray;box-sizing: border-box;top: 0;bottom: 0;left: 50%;z-index: -1;}#sk-container-id-2 div.sk-parallel-item {display: flex;flex-direction: column;z-index: 1;position: relative;background-color: white;}#sk-container-id-2 div.sk-parallel-item:first-child::after {align-self: flex-end;width: 50%;}#sk-container-id-2 div.sk-parallel-item:last-child::after {align-self: flex-start;width: 50%;}#sk-container-id-2 div.sk-parallel-item:only-child::after {width: 0;}#sk-container-id-2 div.sk-dashed-wrapped {border: 1px dashed gray;margin: 0 0.4em 0.5em 0.4em;box-sizing: border-box;padding-bottom: 0.4em;background-color: white;}#sk-container-id-2 div.sk-label label {font-family: monospace;font-weight: bold;display: inline-block;line-height: 1.2em;}#sk-container-id-2 div.sk-label-container {text-align: center;}#sk-container-id-2 div.sk-container {/* jupyter's `normalize.less` sets `[hidden] { display: none; }` but bootstrap.min.css set `[hidden] { display: none !important; }` so we also need the `!important` here to be able to override the default hidden behavior on the sphinx rendered scikit-learn.org. See: https://github.com/scikit-learn/scikit-learn/issues/21755 */display: inline-block !important;position: relative;}#sk-container-id-2 div.sk-text-repr-fallback {display: none;}</style><div id=\"sk-container-id-2\" class=\"sk-top-container\"><div class=\"sk-text-repr-fallback\"><pre>GridSearchCV(cv=5, estimator=DecisionTree(), n_jobs=-2,\n",
       "             param_grid={&#x27;criterion_name&#x27;: [&#x27;variance&#x27;, &#x27;mad_median&#x27;],\n",
       "                         &#x27;max_depth&#x27;: range(2, 9)},\n",
       "             scoring=&#x27;neg_mean_squared_error&#x27;)</pre><b>In a Jupyter environment, please rerun this cell to show the HTML representation or trust the notebook. <br />On GitHub, the HTML representation is unable to render, please try loading this page with nbviewer.org.</b></div><div class=\"sk-container\" hidden><div class=\"sk-item sk-dashed-wrapped\"><div class=\"sk-label-container\"><div class=\"sk-label sk-toggleable\"><input class=\"sk-toggleable__control sk-hidden--visually\" id=\"sk-estimator-id-4\" type=\"checkbox\" ><label for=\"sk-estimator-id-4\" class=\"sk-toggleable__label sk-toggleable__label-arrow\">GridSearchCV</label><div class=\"sk-toggleable__content\"><pre>GridSearchCV(cv=5, estimator=DecisionTree(), n_jobs=-2,\n",
       "             param_grid={&#x27;criterion_name&#x27;: [&#x27;variance&#x27;, &#x27;mad_median&#x27;],\n",
       "                         &#x27;max_depth&#x27;: range(2, 9)},\n",
       "             scoring=&#x27;neg_mean_squared_error&#x27;)</pre></div></div></div><div class=\"sk-parallel\"><div class=\"sk-parallel-item\"><div class=\"sk-item\"><div class=\"sk-label-container\"><div class=\"sk-label sk-toggleable\"><input class=\"sk-toggleable__control sk-hidden--visually\" id=\"sk-estimator-id-5\" type=\"checkbox\" ><label for=\"sk-estimator-id-5\" class=\"sk-toggleable__label sk-toggleable__label-arrow\">estimator: DecisionTree</label><div class=\"sk-toggleable__content\"><pre>DecisionTree()</pre></div></div></div><div class=\"sk-serial\"><div class=\"sk-item\"><div class=\"sk-estimator sk-toggleable\"><input class=\"sk-toggleable__control sk-hidden--visually\" id=\"sk-estimator-id-6\" type=\"checkbox\" ><label for=\"sk-estimator-id-6\" class=\"sk-toggleable__label sk-toggleable__label-arrow\">DecisionTree</label><div class=\"sk-toggleable__content\"><pre>DecisionTree()</pre></div></div></div></div></div></div></div></div></div></div>"
      ],
      "text/plain": [
       "GridSearchCV(cv=5, estimator=DecisionTree(), n_jobs=-2,\n",
       "             param_grid={'criterion_name': ['variance', 'mad_median'],\n",
       "                         'max_depth': range(2, 9)},\n",
       "             scoring='neg_mean_squared_error')"
      ]
     },
     "execution_count": 29,
     "metadata": {},
     "output_type": "execute_result"
    }
   ],
   "source": [
    "gs_R = GridSearchCV(DecisionTree(), param_grid=param_grid_R, cv=5, scoring='neg_mean_squared_error', n_jobs=-2)\n",
    "gs_R.fit(RX_train, Ry_train)"
   ]
  },
  {
   "cell_type": "code",
   "execution_count": 30,
   "metadata": {},
   "outputs": [
    {
     "data": {
      "text/plain": [
       "{'criterion_name': 'mad_median', 'max_depth': 5}"
      ]
     },
     "execution_count": 30,
     "metadata": {},
     "output_type": "execute_result"
    }
   ],
   "source": [
    "gs_R.best_params_"
   ]
  },
  {
   "cell_type": "code",
   "execution_count": 31,
   "metadata": {},
   "outputs": [],
   "source": [
    "assert gs_R.best_params_['criterion_name'] == 'mad_median'\n",
    "assert 3 < gs_R.best_params_['max_depth'] < 7"
   ]
  },
  {
   "cell_type": "code",
   "execution_count": 32,
   "metadata": {},
   "outputs": [],
   "source": [
    "var_scores = gs_R.cv_results_['mean_test_score'][:7]\n",
    "mad_scores = gs_R.cv_results_['mean_test_score'][7:]"
   ]
  },
  {
   "cell_type": "code",
   "execution_count": 33,
   "metadata": {},
   "outputs": [
    {
     "data": {
      "image/png": "[encoded data removed]",
      "text/plain": [
       "<Figure size 1000x800 with 1 Axes>"
      ]
     },
     "metadata": {},
     "output_type": "display_data"
    }
   ],
   "source": [
    "plt.figure(figsize=(10, 8))\n",
    "plt.title(\"The dependence of neg_mse on the depth of the tree\")\n",
    "plt.plot(np.arange(2,9), var_scores, label='variance')\n",
    "plt.plot(np.arange(2,9), mad_scores, label='mad_median')\n",
    "plt.legend(fontsize=11, loc=1)\n",
    "plt.xlabel(\"max_depth\")\n",
    "plt.ylabel('neg_mse')\n",
    "plt.show()"
   ]
  },
  {
   "cell_type": "code",
   "execution_count": 37,
   "metadata": {
    "tags": []
   },
   "outputs": [],
   "source": [
    "digits_data = load_digits().data\n",
    "digits_target = load_digits().target[:, None] # to make the targets consistent with our model interfaces\n",
    "X_train, X_test, y_train, y_test = train_test_split(digits_data, digits_target, test_size=0.2, random_state=RANDOM_STATE)"
   ]
  },
  {
   "cell_type": "code",
   "execution_count": 38,
   "metadata": {
    "tags": []
   },
   "outputs": [],
   "source": [
    "from sklearn.tree import DecisionTreeClassifier\n"
   ]
  },
  {
   "cell_type": "code",
   "execution_count": 39,
   "metadata": {},
   "outputs": [
    {
     "name": "stdout",
     "output_type": "stream",
     "text": [
      "CPU times: user 29.8 ms, sys: 0 ns, total: 29.8 ms\n",
      "Wall time: 28.3 ms\n"
     ]
    },
    {
     "data": {
      "text/html": [
       "<style>#sk-container-id-3 {color: black;}#sk-container-id-3 pre{padding: 0;}#sk-container-id-3 div.sk-toggleable {background-color: white;}#sk-container-id-3 label.sk-toggleable__label {cursor: pointer;display: block;width: 100%;margin-bottom: 0;padding: 0.3em;box-sizing: border-box;text-align: center;}#sk-container-id-3 label.sk-toggleable__label-arrow:before {content: \"▸\";float: left;margin-right: 0.25em;color: #696969;}#sk-container-id-3 label.sk-toggleable__label-arrow:hover:before {color: black;}#sk-container-id-3 div.sk-estimator:hover label.sk-toggleable__label-arrow:before {color: black;}#sk-container-id-3 div.sk-toggleable__content {max-height: 0;max-width: 0;overflow: hidden;text-align: left;background-color: #f0f8ff;}#sk-container-id-3 div.sk-toggleable__content pre {margin: 0.2em;color: black;border-radius: 0.25em;background-color: #f0f8ff;}#sk-container-id-3 input.sk-toggleable__control:checked~div.sk-toggleable__content {max-height: 200px;max-width: 100%;overflow: auto;}#sk-container-id-3 input.sk-toggleable__control:checked~label.sk-toggleable__label-arrow:before {content: \"▾\";}#sk-container-id-3 div.sk-estimator input.sk-toggleable__control:checked~label.sk-toggleable__label {background-color: #d4ebff;}#sk-container-id-3 div.sk-label input.sk-toggleable__control:checked~label.sk-toggleable__label {background-color: #d4ebff;}#sk-container-id-3 input.sk-hidden--visually {border: 0;clip: rect(1px 1px 1px 1px);clip: rect(1px, 1px, 1px, 1px);height: 1px;margin: -1px;overflow: hidden;padding: 0;position: absolute;width: 1px;}#sk-container-id-3 div.sk-estimator {font-family: monospace;background-color: #f0f8ff;border: 1px dotted black;border-radius: 0.25em;box-sizing: border-box;margin-bottom: 0.5em;}#sk-container-id-3 div.sk-estimator:hover {background-color: #d4ebff;}#sk-container-id-3 div.sk-parallel-item::after {content: \"\";width: 100%;border-bottom: 1px solid gray;flex-grow: 1;}#sk-container-id-3 div.sk-label:hover label.sk-toggleable__label {background-color: #d4ebff;}#sk-container-id-3 div.sk-serial::before {content: \"\";position: absolute;border-left: 1px solid gray;box-sizing: border-box;top: 0;bottom: 0;left: 50%;z-index: 0;}#sk-container-id-3 div.sk-serial {display: flex;flex-direction: column;align-items: center;background-color: white;padding-right: 0.2em;padding-left: 0.2em;position: relative;}#sk-container-id-3 div.sk-item {position: relative;z-index: 1;}#sk-container-id-3 div.sk-parallel {display: flex;align-items: stretch;justify-content: center;background-color: white;position: relative;}#sk-container-id-3 div.sk-item::before, #sk-container-id-3 div.sk-parallel-item::before {content: \"\";position: absolute;border-left: 1px solid gray;box-sizing: border-box;top: 0;bottom: 0;left: 50%;z-index: -1;}#sk-container-id-3 div.sk-parallel-item {display: flex;flex-direction: column;z-index: 1;position: relative;background-color: white;}#sk-container-id-3 div.sk-parallel-item:first-child::after {align-self: flex-end;width: 50%;}#sk-container-id-3 div.sk-parallel-item:last-child::after {align-self: flex-start;width: 50%;}#sk-container-id-3 div.sk-parallel-item:only-child::after {width: 0;}#sk-container-id-3 div.sk-dashed-wrapped {border: 1px dashed gray;margin: 0 0.4em 0.5em 0.4em;box-sizing: border-box;padding-bottom: 0.4em;background-color: white;}#sk-container-id-3 div.sk-label label {font-family: monospace;font-weight: bold;display: inline-block;line-height: 1.2em;}#sk-container-id-3 div.sk-label-container {text-align: center;}#sk-container-id-3 div.sk-container {/* jupyter's `normalize.less` sets `[hidden] { display: none; }` but bootstrap.min.css set `[hidden] { display: none !important; }` so we also need the `!important` here to be able to override the default hidden behavior on the sphinx rendered scikit-learn.org. See: https://github.com/scikit-learn/scikit-learn/issues/21755 */display: inline-block !important;position: relative;}#sk-container-id-3 div.sk-text-repr-fallback {display: none;}</style><div id=\"sk-container-id-3\" class=\"sk-top-container\"><div class=\"sk-text-repr-fallback\"><pre>DecisionTreeClassifier(max_depth=10)</pre><b>In a Jupyter environment, please rerun this cell to show the HTML representation or trust the notebook. <br />On GitHub, the HTML representation is unable to render, please try loading this page with nbviewer.org.</b></div><div class=\"sk-container\" hidden><div class=\"sk-item\"><div class=\"sk-estimator sk-toggleable\"><input class=\"sk-toggleable__control sk-hidden--visually\" id=\"sk-estimator-id-7\" type=\"checkbox\" checked><label for=\"sk-estimator-id-7\" class=\"sk-toggleable__label sk-toggleable__label-arrow\">DecisionTreeClassifier</label><div class=\"sk-toggleable__content\"><pre>DecisionTreeClassifier(max_depth=10)</pre></div></div></div></div></div>"
      ],
      "text/plain": [
       "DecisionTreeClassifier(max_depth=10)"
      ]
     },
     "execution_count": 39,
     "metadata": {},
     "output_type": "execute_result"
    }
   ],
   "source": [
    "%%time\n",
    "est = DecisionTreeClassifier(max_depth=10)\n",
    "est.fit(X_train, y_train)"
   ]
  },
  {
   "cell_type": "code",
   "execution_count": 40,
   "metadata": {},
   "outputs": [
    {
     "name": "stdout",
     "output_type": "stream",
     "text": [
      "CPU times: user 1min 1s, sys: 48.9 ms, total: 1min 1s\n",
      "Wall time: 1min 1s\n"
     ]
    }
   ],
   "source": [
    "%%time\n",
    "class_estimator = DecisionTree(max_depth=10, criterion_name='gini')\n",
    "class_estimator.fit(X_train, y_train)"
   ]
  },
  {
   "cell_type": "code",
   "execution_count": 42,
   "metadata": {
    "tags": []
   },
   "outputs": [
    {
     "name": "stdout",
     "output_type": "stream",
     "text": [
      "my score: 0.8638888888888889, sklearn score: 0.8527777777777777\n"
     ]
    }
   ],
   "source": [
    "pred_sk = est.predict(X_test)\n",
    "pred_my = class_estimator.predict(X_test)\n",
    "score_sk = accuracy_score(y_test, pred_sk)\n",
    "score_my = accuracy_score(y_test, pred_my)\n",
    "print(f'my score: {score_my}, sklearn score: {score_sk}')"
   ]
  },
  {
   "cell_type": "code",
   "execution_count": 43,
   "metadata": {
    "tags": []
   },
   "outputs": [
    {
     "data": {
      "text/plain": [
       "0.05883597883597888"
      ]
     },
     "execution_count": 43,
     "metadata": {},
     "output_type": "execute_result"
    }
   ],
   "source": [
    "proba_sk = est.predict_proba(X_test)\n",
    "proba_my = class_estimator.predict_proba(X_test)\n",
    "np.sum(np.abs(proba_my.mean(axis=0) - proba_sk.mean(axis=0)))"
   ]
  },
  {
   "cell_type": "code",
   "execution_count": 44,
   "metadata": {
    "tags": []
   },
   "outputs": [
    {
     "data": {
      "text/plain": [
       "array([0.08333333, 0.06686974, 0.08417747, 0.10430919, 0.14112254,\n",
       "       0.13835125, 0.11481481, 0.09545234, 0.06902739, 0.10254192])"
      ]
     },
     "execution_count": 44,
     "metadata": {},
     "output_type": "execute_result"
    }
   ],
   "source": [
    "proba_my.mean(axis=0)"
   ]
  },
  {
   "cell_type": "code",
   "execution_count": 45,
   "metadata": {
    "tags": []
   },
   "outputs": [
    {
     "data": {
      "text/plain": [
       "array([0.08055556, 0.07149937, 0.08028858, 0.10430919, 0.141731  ,\n",
       "       0.14112903, 0.09537037, 0.10722483, 0.07865702, 0.09923505])"
      ]
     },
     "execution_count": 45,
     "metadata": {},
     "output_type": "execute_result"
    }
   ],
   "source": [
    "proba_sk.mean(axis=0)"
   ]
  },
  {
   "cell_type": "code",
   "execution_count": null,
   "metadata": {},
   "outputs": [],
   "source": []
  }
 ],
 "metadata": {
  "kernelspec": {
   "display_name": "Python 3 (ipykernel)",
   "language": "python",
   "name": "python3"
  },
  "language_info": {
   "codemirror_mode": {
    "name": "ipython",
    "version": 3
   },
   "file_extension": ".py",
   "mimetype": "text/x-python",
   "name": "python",
   "nbconvert_exporter": "python",
   "pygments_lexer": "ipython3",
   "version": "3.11.4"
  }
 },
 "nbformat": 4,
 "nbformat_minor": 4
}
