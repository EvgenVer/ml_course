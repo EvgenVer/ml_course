{
  "cells": [
    {
      "cell_type": "markdown",
      "metadata": {
        "id": "QoSjPYkZMDdr"
      },
      "source": [
        "## Lab 2"
      ]
    },
    {
      "cell_type": "markdown",
      "metadata": {
        "id": "n322YjERMDdw"
      },
      "source": [
        "### Part 3. Poetry generation\n",
        "\n",
        "Let's try to generate some poetry using RNNs.\n",
        "\n",
        "You have several choices here:\n",
        "\n",
        "* The Shakespeare sonnets, file `sonnets.txt` available in the notebook directory.\n",
        "\n",
        "* Роман в стихах \"Евгений Онегин\" Александра Сергеевича Пушкина. В предобработанном виде доступен по [ссылке](https://github.com/attatrol/data_sources/blob/master/onegin.txt).\n",
        "\n",
        "* Some other text source, if it will be approved by the course staff.\n",
        "\n",
        "Text generation can be designed in several steps:\n",
        "    \n",
        "1. Data loading.\n",
        "2. Dictionary generation.\n",
        "3. Data preprocessing.\n",
        "4. Model (neural network) training.\n",
        "5. Text generation (model evaluation).\n"
      ]
    },
    {
      "cell_type": "code",
      "execution_count": 123,
      "metadata": {
        "id": "fOV6kubGMDdx"
      },
      "outputs": [],
      "source": [
        "import string\n",
        "import os\n",
        "import numpy as np\n",
        "import matplotlib.pyplot as plt\n",
        "%matplotlib inline\n",
        "import torch, torch.nn as nn\n",
        "import torch.nn.functional as F\n",
        "from IPython.display import clear_output\n",
        "from random import sample\n",
        "import re"
      ]
    },
    {
      "cell_type": "markdown",
      "metadata": {
        "id": "V8CE2fL5MDdy"
      },
      "source": [
        "### Data loading: Shakespeare"
      ]
    },
    {
      "cell_type": "markdown",
      "metadata": {
        "id": "kNnFdoisMDdz"
      },
      "source": [
        "Shakespeare sonnets are awailable at this [link](http://www.gutenberg.org/ebooks/1041?msg=welcome_stranger). In addition, they are stored in the same directory as this notebook (`sonnetes.txt`). Simple preprocessing is already done for you in the next cell: all technical info is dropped."
      ]
    },
    {
      "cell_type": "code",
      "execution_count": 111,
      "metadata": {
        "collapsed": true,
        "jupyter": {
          "outputs_hidden": true
        },
        "id": "eKYfSUt8MDdz"
      },
      "outputs": [],
      "source": [
        "#if not os.path.exists('sonnets.txt'):\n",
        "    #!wget https://github.com/EvgenVer/ml_course/tree/main/homeworks/lab02_deep_learning/sonnets.txt\n",
        "#text=[]\n",
        "\n",
        "#with open('sonnets.txt', 'r') as iofile:\n",
        "    #text.append(iofile.readlines())\n",
        "\n",
        "#TEXT_START = 45\n",
        "#TEXT_END = -368\n",
        "#text = text[TEXT_START : TEXT_END]\n",
        "#assert len(text) == 2616\""
      ]
    },
    {
      "cell_type": "markdown",
      "metadata": {
        "id": "1eIr_XZJMDd0"
      },
      "source": [
        "In opposite to the in-class practice, this time we want to predict complex text. Let's reduce the complexity of the task and lowercase all the symbols.\n",
        "\n",
        "Now variable `text` is a list of strings. Join all the strings into one and lowercase it."
      ]
    },
    {
      "cell_type": "code",
      "execution_count": 112,
      "metadata": {
        "id": "W9oeOEN3MDd0"
      },
      "outputs": [],
      "source": [
        "# Join all the strings into one and lowercase it\n",
        "# Put result into variable text.\n",
        "\n",
        "# Your great code here\n",
        "\n",
        "#assert len(text) == 100225, 'Are you sure you have concatenated all the strings?'\n",
        "#assert not any([x in set(text) for x in string.ascii_uppercase]), 'Uppercase letters are present'\n",
        "#print('OK!')"
      ]
    },
    {
      "cell_type": "markdown",
      "metadata": {
        "id": "9WbHoHjfMDd1"
      },
      "source": [
        "### Data loading: \"Евгений Онегин\"\n"
      ]
    },
    {
      "cell_type": "code",
      "execution_count": 124,
      "metadata": {
        "id": "rWlip4E6MDd1",
        "outputId": "2c7a6760-e742-4d4a-b231-88a528c482f8",
        "colab": {
          "base_uri": "https://localhost:8080/"
        }
      },
      "outputs": [
        {
          "output_type": "stream",
          "name": "stdout",
          "text": [
            "--2023-09-19 18:41:22--  https://raw.githubusercontent.com/attatrol/data_sources/master/onegin.txt\n",
            "Resolving raw.githubusercontent.com (raw.githubusercontent.com)... 185.199.108.133, 185.199.109.133, 185.199.110.133, ...\n",
            "Connecting to raw.githubusercontent.com (raw.githubusercontent.com)|185.199.108.133|:443... connected.\n",
            "HTTP request sent, awaiting response... 200 OK\n",
            "Length: 262521 (256K) [text/plain]\n",
            "Saving to: ‘onegin.txt.15’\n",
            "\n",
            "\ronegin.txt.15         0%[                    ]       0  --.-KB/s               \ronegin.txt.15       100%[===================>] 256.37K  --.-KB/s    in 0.02s   \n",
            "\n",
            "2023-09-19 18:41:22 (13.8 MB/s) - ‘onegin.txt.15’ saved [262521/262521]\n",
            "\n"
          ]
        }
      ],
      "source": [
        "!wget https://raw.githubusercontent.com/attatrol/data_sources/master/onegin.txt\n",
        "\n",
        "with open('onegin.txt', 'r') as iofile:\n",
        "    text = iofile.readlines()\n",
        "\n",
        "text = [x.replace('\\t\\t', '') for x in text]\n",
        "text = [re.sub(r'([[].+[]])', '', x) for x in text]\n",
        "text = [re.sub(r'[\\s][\\s]+', '', x) for x in text]"
      ]
    },
    {
      "cell_type": "code",
      "source": [
        "MAX_LENGTH = max(map(len, text))\n",
        "MAX_LENGTH"
      ],
      "metadata": {
        "id": "1WF8QrvEO31a",
        "outputId": "b54722cd-a07e-4cda-d515-faf41bd5f5e9",
        "colab": {
          "base_uri": "https://localhost:8080/"
        }
      },
      "execution_count": 125,
      "outputs": [
        {
          "output_type": "execute_result",
          "data": {
            "text/plain": [
              "49"
            ]
          },
          "metadata": {},
          "execution_count": 125
        }
      ]
    },
    {
      "cell_type": "markdown",
      "metadata": {
        "id": "aeEwO0IyMDd3"
      },
      "source": [
        "In opposite to the in-class practice, this time we want to predict complex text. Let's reduce the complexity of the task and lowercase all the symbols.\n",
        "\n",
        "Now variable `text` is a list of strings. Join all the strings into one and lowercase it."
      ]
    },
    {
      "cell_type": "code",
      "execution_count": 126,
      "metadata": {
        "id": "4BtNJ9aKMDd3"
      },
      "outputs": [],
      "source": [
        "# Join all the strings into one and lowercase it\n",
        "# Put result into variable text.\n",
        "\n",
        "# Your great code here\n",
        "text = ''.join(text).lower()"
      ]
    },
    {
      "cell_type": "markdown",
      "metadata": {
        "id": "YVlDg-Z7MDd4"
      },
      "source": [
        "Put all the characters, that you've seen in the text, into variable `tokens`."
      ]
    },
    {
      "cell_type": "code",
      "execution_count": 127,
      "metadata": {
        "id": "-EL68lfTMDd4",
        "outputId": "7e9076a4-8942-48e0-dc44-d766e82d650e",
        "colab": {
          "base_uri": "https://localhost:8080/"
        }
      },
      "outputs": [
        {
          "output_type": "stream",
          "name": "stdout",
          "text": [
            "num_tokens = 78\n",
            "['\\n', ' ', '!', '(', ')', ',', '-', '.', '5', ':', ';', '?', '^', 'a', 'b', 'c', 'd', 'e', 'f', 'g', 'h', 'i', 'k', 'l', 'm', 'n', 'o', 'p', 'q', 'r', 's', 't', 'u', 'v', 'w', 'x', 'y', 'z', '«', '»', 'а', 'б', 'в', 'г', 'д', 'е', 'ж', 'з', 'и', 'й', 'к', 'л', 'м', 'н', 'о', 'п', 'р', 'с', 'т', 'у', 'ф', 'х', 'ц', 'ч', 'ш', 'щ', 'ъ', 'ы', 'ь', 'э', 'ю', 'я', 'ё', '–', '—', '’', '…', '€']\n"
          ]
        }
      ],
      "source": [
        "tokens = sorted(list(set(text)))\n",
        "num_tokens = len(tokens)\n",
        "print(f'num_tokens = {num_tokens}')\n",
        "print(tokens)"
      ]
    },
    {
      "cell_type": "markdown",
      "metadata": {
        "id": "ek86m1g4MDd5"
      },
      "source": [
        "Create dictionary `token_to_idx = {<char>: <index>}` and dictionary `idx_to_token = {<index>: <char>}`"
      ]
    },
    {
      "cell_type": "code",
      "execution_count": 128,
      "metadata": {
        "collapsed": true,
        "jupyter": {
          "outputs_hidden": true
        },
        "id": "c0qeGtpkMDd5",
        "outputId": "f2960f8d-3904-411d-d5b0-ff406719b5ca",
        "colab": {
          "base_uri": "https://localhost:8080/"
        }
      },
      "outputs": [
        {
          "output_type": "stream",
          "name": "stdout",
          "text": [
            "{'\\n': 0, ' ': 1, '!': 2, '(': 3, ')': 4, ',': 5, '-': 6, '.': 7, '5': 8, ':': 9, ';': 10, '?': 11, '^': 12, 'a': 13, 'b': 14, 'c': 15, 'd': 16, 'e': 17, 'f': 18, 'g': 19, 'h': 20, 'i': 21, 'k': 22, 'l': 23, 'm': 24, 'n': 25, 'o': 26, 'p': 27, 'q': 28, 'r': 29, 's': 30, 't': 31, 'u': 32, 'v': 33, 'w': 34, 'x': 35, 'y': 36, 'z': 37, '«': 38, '»': 39, 'а': 40, 'б': 41, 'в': 42, 'г': 43, 'д': 44, 'е': 45, 'ж': 46, 'з': 47, 'и': 48, 'й': 49, 'к': 50, 'л': 51, 'м': 52, 'н': 53, 'о': 54, 'п': 55, 'р': 56, 'с': 57, 'т': 58, 'у': 59, 'ф': 60, 'х': 61, 'ц': 62, 'ч': 63, 'ш': 64, 'щ': 65, 'ъ': 66, 'ы': 67, 'ь': 68, 'э': 69, 'ю': 70, 'я': 71, 'ё': 72, '–': 73, '—': 74, '’': 75, '…': 76, '€': 77}\n",
            "{0: '\\n', 1: ' ', 2: '!', 3: '(', 4: ')', 5: ',', 6: '-', 7: '.', 8: '5', 9: ':', 10: ';', 11: '?', 12: '^', 13: 'a', 14: 'b', 15: 'c', 16: 'd', 17: 'e', 18: 'f', 19: 'g', 20: 'h', 21: 'i', 22: 'k', 23: 'l', 24: 'm', 25: 'n', 26: 'o', 27: 'p', 28: 'q', 29: 'r', 30: 's', 31: 't', 32: 'u', 33: 'v', 34: 'w', 35: 'x', 36: 'y', 37: 'z', 38: '«', 39: '»', 40: 'а', 41: 'б', 42: 'в', 43: 'г', 44: 'д', 45: 'е', 46: 'ж', 47: 'з', 48: 'и', 49: 'й', 50: 'к', 51: 'л', 52: 'м', 53: 'н', 54: 'о', 55: 'п', 56: 'р', 57: 'с', 58: 'т', 59: 'у', 60: 'ф', 61: 'х', 62: 'ц', 63: 'ч', 64: 'ш', 65: 'щ', 66: 'ъ', 67: 'ы', 68: 'ь', 69: 'э', 70: 'ю', 71: 'я', 72: 'ё', 73: '–', 74: '—', 75: '’', 76: '…', 77: '€'}\n"
          ]
        }
      ],
      "source": [
        "# dict <index>:<char>\n",
        "# Your great code here\n",
        "token_to_idx = {char: index for index, char in enumerate(tokens)}\n",
        "\n",
        "# dict <char>:<index>\n",
        "# Your great code here\n",
        "idx_to_token = {index: char for index, char in enumerate(tokens)}\n",
        "\n",
        "print(token_to_idx)\n",
        "print(idx_to_token)"
      ]
    },
    {
      "cell_type": "code",
      "source": [
        "def encod(sec):\n",
        "    encod_sec = [token_to_idx[s] for s in sec]\n",
        "    return encod_sec"
      ],
      "metadata": {
        "id": "uaov3VGCpnfi"
      },
      "execution_count": 130,
      "outputs": []
    },
    {
      "cell_type": "markdown",
      "metadata": {
        "id": "C98mClZsMDd5"
      },
      "source": [
        "*Comment: in this task we have only 38 different tokens, so let's use one-hot encoding.*"
      ]
    },
    {
      "cell_type": "markdown",
      "metadata": {
        "id": "pNJmYFncMDd6"
      },
      "source": [
        "### Building the model"
      ]
    },
    {
      "cell_type": "markdown",
      "metadata": {
        "id": "HrDGQt6aMDd6"
      },
      "source": [
        "Now we want to build and train recurrent neural net which would be able to something similar to Shakespeare's poetry.\n",
        "\n",
        "Let's use vanilla RNN, similar to the one created during the lesson."
      ]
    },
    {
      "cell_type": "code",
      "execution_count": null,
      "metadata": {
        "collapsed": true,
        "jupyter": {
          "outputs_hidden": true
        },
        "id": "EXTZJeuVMDd6"
      },
      "outputs": [],
      "source": [
        "# Your code here\n",
        "class CharRNNCell(nn.Module):\n",
        "\n",
        "    def __init__(self, num_tokens=len(tokens), embadding_size=18, rnn_num_units=128):\n",
        "\n",
        "\n"
      ]
    },
    {
      "cell_type": "code",
      "source": [],
      "metadata": {
        "id": "8RJUF4e2vNYE"
      },
      "execution_count": null,
      "outputs": []
    },
    {
      "cell_type": "markdown",
      "metadata": {
        "id": "KEUgR6WqMDd6"
      },
      "source": [
        "Plot the loss function (axis X: number of epochs, axis Y: loss function)."
      ]
    },
    {
      "cell_type": "code",
      "execution_count": null,
      "metadata": {
        "collapsed": true,
        "jupyter": {
          "outputs_hidden": true
        },
        "id": "gPgAE7XbMDd7"
      },
      "outputs": [],
      "source": [
        "# Your plot code here"
      ]
    },
    {
      "cell_type": "code",
      "execution_count": null,
      "metadata": {
        "id": "p8A-9lIAMDd7"
      },
      "outputs": [],
      "source": [
        "def generate_sample(char_rnn, seed_phrase=' Hello', max_length=MAX_LENGTH, temperature=1.0):\n",
        "    '''\n",
        "    ### Disclaimer: this is an example function for text generation.\n",
        "    ### You can either adapt it in your code or create your own function\n",
        "\n",
        "    The function generates text given a phrase of length at least SEQ_LENGTH.\n",
        "    :param seed_phrase: prefix characters. The RNN is asked to continue the phrase\n",
        "    :param max_length: maximum output length, including seed_phrase\n",
        "    :param temperature: coefficient for sampling.  higher temperature produces more chaotic outputs,\n",
        "        smaller temperature converges to the single most likely output.\n",
        "\n",
        "    Be careful with the model output. This model waits logits (not probabilities/log-probabilities)\n",
        "    of the next symbol.\n",
        "    '''\n",
        "\n",
        "    x_sequence = [token_to_id[token] for token in seed_phrase]\n",
        "    x_sequence = torch.tensor([[x_sequence]], dtype=torch.int64)\n",
        "    hid_state = char_rnn.initial_state(batch_size=1)\n",
        "\n",
        "    #feed the seed phrase, if any\n",
        "    for i in range(len(seed_phrase) - 1):\n",
        "        print(x_sequence[:, -1].shape, hid_state.shape)\n",
        "        out, hid_state = char_rnn(x_sequence[:, i], hid_state)\n",
        "\n",
        "    #start generating\n",
        "    for _ in range(max_length - len(seed_phrase)):\n",
        "        print(x_sequence.shape, x_sequence, hid_state.shape)\n",
        "        out, hid_state = char_rnn(x_sequence[:, -1], hid_state)\n",
        "        # Be really careful here with the model output\n",
        "        p_next = F.softmax(out / temperature, dim=-1).data.numpy()[0]\n",
        "\n",
        "        # sample next token and push it back into x_sequence\n",
        "        print(p_next.shape, len(tokens))\n",
        "        next_ix = np.random.choice(len(tokens), p=p_next)\n",
        "        next_ix = torch.tensor([[next_ix]], dtype=torch.int64)\n",
        "        print(x_sequence.shape, next_ix.shape)\n",
        "        x_sequence = torch.cat([x_sequence, next_ix], dim=1)\n",
        "\n",
        "    return ''.join([tokens[ix] for ix in x_sequence.data.numpy()[0]])"
      ]
    },
    {
      "cell_type": "code",
      "execution_count": null,
      "metadata": {
        "id": "0nIIExv8MDd8",
        "outputId": "6c32cf1d-b707-4eaa-c9c4-816bd47983e4"
      },
      "outputs": [
        {
          "name": "stdout",
          "output_type": "stream",
          "text": [
            "hide my will in thine?\n",
            "  shall will in of the simend that in my sime the seave the seave the sorll the soren the sange the seall seares and and the fart the wirl the seall the songh whing that thou hall will thoun the soond beare the with that sare the simest me the fart the wirl the songre the with thy seart so for shat so for do the dost the sing the sing the sing the soond canding the sack and the farling the wirl of sore sich and that with the seare the seall so fort the with the past the wirl the simen the wirl the sores the sare\n"
          ]
        }
      ],
      "source": [
        "# An example of generated text.\n",
        "# print(generate_text(length=500, temperature=0.2))"
      ]
    },
    {
      "cell_type": "code",
      "source": [
        "i = \"shall will in of the simend that in my sime the seave the seave the sorll the soren the sange the seall seares and and the fart the wirl the seall the songh whing that thou hall will thoun the soond beare the with that sare the simest me the fart the wirl the songre the with thy seart so for shat so for do the dost the sing the sing the sing the soond canding the sack and the farling the wirl of sore sich and that with the seare the seall so fort the with the past the wirl the simen the wirl the sores the sare\"\n",
        "len(i)"
      ],
      "metadata": {
        "id": "uBIpRLhmO7bY",
        "outputId": "57ef28cb-f0db-45c0-c0c4-a4ad956e83a5",
        "colab": {
          "base_uri": "https://localhost:8080/"
        }
      },
      "execution_count": 28,
      "outputs": [
        {
          "output_type": "execute_result",
          "data": {
            "text/plain": [
              "515"
            ]
          },
          "metadata": {},
          "execution_count": 28
        }
      ]
    },
    {
      "cell_type": "markdown",
      "metadata": {
        "id": "jBX5YWP4MDd9"
      },
      "source": [
        "### More poetic model\n",
        "\n",
        "Let's use LSTM instead of vanilla RNN and compare the results."
      ]
    },
    {
      "cell_type": "markdown",
      "metadata": {
        "id": "oFx80XBMMDd9"
      },
      "source": [
        "Plot the loss function of the number of epochs. Does the final loss become better?"
      ]
    },
    {
      "cell_type": "code",
      "execution_count": null,
      "metadata": {
        "collapsed": true,
        "jupyter": {
          "outputs_hidden": true
        },
        "id": "RKQv9XjvMDd-"
      },
      "outputs": [],
      "source": [
        "# Your beautiful code here"
      ]
    },
    {
      "cell_type": "markdown",
      "metadata": {
        "id": "xINqGUe_MDd-"
      },
      "source": [
        "Generate text using the trained net with different `temperature` parameter: `[0.1, 0.2, 0.5, 1.0, 2.0]`.\n",
        "\n",
        "Evaluate the results visually, try to interpret them."
      ]
    },
    {
      "cell_type": "code",
      "execution_count": null,
      "metadata": {
        "collapsed": true,
        "jupyter": {
          "outputs_hidden": true
        },
        "id": "09BWQP-cMDd-"
      },
      "outputs": [],
      "source": [
        "# Text generation with different temperature values here"
      ]
    },
    {
      "cell_type": "markdown",
      "metadata": {
        "id": "Z8Gl05e4MDd_"
      },
      "source": [
        "### Saving and loading models"
      ]
    },
    {
      "cell_type": "markdown",
      "metadata": {
        "id": "CbPvwIEZMDd_"
      },
      "source": [
        "Save the model to the disk, then load it and generate text. Examples are available [here](https://pytorch.org/tutorials/beginner/saving_loading_models.html])."
      ]
    },
    {
      "cell_type": "code",
      "execution_count": null,
      "metadata": {
        "collapsed": true,
        "jupyter": {
          "outputs_hidden": true
        },
        "id": "K6sbGyvVMDd_"
      },
      "outputs": [],
      "source": [
        "# Saving and loading code here"
      ]
    },
    {
      "cell_type": "markdown",
      "metadata": {
        "id": "mkUb5VkSMDeA"
      },
      "source": [
        "### References\n",
        "1. <a href='http://karpathy.github.io/2015/05/21/rnn-effectiveness/'> Andrew Karpathy blog post about RNN. </a>\n",
        "There are several examples of genration: Shakespeare texts, Latex formulas, Linux Sourse Code and children names.\n",
        "2. <a href='https://github.com/karpathy/char-rnn'> Repo with char-rnn code </a>\n",
        "3. Cool repo with PyTorch examples: [link](https://github.com/spro/practical-pytorch`)"
      ]
    }
  ],
  "metadata": {
    "anaconda-cloud": {},
    "kernelspec": {
      "display_name": "Python 3",
      "name": "python3"
    },
    "language_info": {
      "codemirror_mode": {
        "name": "ipython",
        "version": 3
      },
      "file_extension": ".py",
      "mimetype": "text/x-python",
      "name": "python",
      "nbconvert_exporter": "python",
      "pygments_lexer": "ipython3",
      "version": "3.11.4"
    },
    "colab": {
      "provenance": [],
      "gpuType": "T4"
    },
    "accelerator": "GPU"
  },
  "nbformat": 4,
  "nbformat_minor": 0
}