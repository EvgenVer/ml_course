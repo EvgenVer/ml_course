{
  "cells": [
    {
      "cell_type": "markdown",
      "metadata": {
        "id": "QoSjPYkZMDdr"
      },
      "source": [
        "## Lab 2"
      ]
    },
    {
      "cell_type": "markdown",
      "metadata": {
        "id": "n322YjERMDdw"
      },
      "source": [
        "### Part 3. Poetry generation\n",
        "\n",
        "Let's try to generate some poetry using RNNs.\n",
        "\n",
        "You have several choices here:\n",
        "\n",
        "* The Shakespeare sonnets, file `sonnets.txt` available in the notebook directory.\n",
        "\n",
        "* Роман в стихах \"Евгений Онегин\" Александра Сергеевича Пушкина. В предобработанном виде доступен по [ссылке](https://github.com/attatrol/data_sources/blob/master/onegin.txt).\n",
        "\n",
        "* Some other text source, if it will be approved by the course staff.\n",
        "\n",
        "Text generation can be designed in several steps:\n",
        "    \n",
        "1. Data loading.\n",
        "2. Dictionary generation.\n",
        "3. Data preprocessing.\n",
        "4. Model (neural network) training.\n",
        "5. Text generation (model evaluation).\n"
      ]
    },
    {
      "cell_type": "code",
      "execution_count": 2,
      "metadata": {
        "id": "fOV6kubGMDdx"
      },
      "outputs": [],
      "source": [
        "import string\n",
        "import os\n",
        "import numpy as np\n",
        "import matplotlib.pyplot as plt\n",
        "%matplotlib inline\n",
        "import torch, torch.nn as nn\n",
        "import torch.nn.functional as F\n",
        "from IPython.display import clear_output\n",
        "from random import sample\n",
        "import re"
      ]
    },
    {
      "cell_type": "markdown",
      "metadata": {
        "id": "V8CE2fL5MDdy"
      },
      "source": [
        "### Data loading: Shakespeare"
      ]
    },
    {
      "cell_type": "markdown",
      "metadata": {
        "id": "kNnFdoisMDdz"
      },
      "source": [
        "Shakespeare sonnets are awailable at this [link](http://www.gutenberg.org/ebooks/1041?msg=welcome_stranger). In addition, they are stored in the same directory as this notebook (`sonnetes.txt`). Simple preprocessing is already done for you in the next cell: all technical info is dropped."
      ]
    },
    {
      "cell_type": "code",
      "execution_count": 3,
      "metadata": {
        "collapsed": true,
        "jupyter": {
          "outputs_hidden": true
        },
        "id": "eKYfSUt8MDdz"
      },
      "outputs": [],
      "source": [
        "#if not os.path.exists('sonnets.txt'):\n",
        "    #!wget https://github.com/EvgenVer/ml_course/tree/main/homeworks/lab02_deep_learning/sonnets.txt\n",
        "#text=[]\n",
        "\n",
        "#with open('sonnets.txt', 'r') as iofile:\n",
        "    #text.append(iofile.readlines())\n",
        "\n",
        "#TEXT_START = 45\n",
        "#TEXT_END = -368\n",
        "#text = text[TEXT_START : TEXT_END]\n",
        "#assert len(text) == 2616\""
      ]
    },
    {
      "cell_type": "markdown",
      "metadata": {
        "id": "1eIr_XZJMDd0"
      },
      "source": [
        "In opposite to the in-class practice, this time we want to predict complex text. Let's reduce the complexity of the task and lowercase all the symbols.\n",
        "\n",
        "Now variable `text` is a list of strings. Join all the strings into one and lowercase it."
      ]
    },
    {
      "cell_type": "code",
      "execution_count": 3,
      "metadata": {
        "id": "W9oeOEN3MDd0"
      },
      "outputs": [],
      "source": [
        "# Join all the strings into one and lowercase it\n",
        "# Put result into variable text.\n",
        "\n",
        "# Your great code here\n",
        "\n",
        "#assert len(text) == 100225, 'Are you sure you have concatenated all the strings?'\n",
        "#assert not any([x in set(text) for x in string.ascii_uppercase]), 'Uppercase letters are present'\n",
        "#print('OK!')"
      ]
    },
    {
      "cell_type": "markdown",
      "metadata": {
        "id": "9WbHoHjfMDd1"
      },
      "source": [
        "### Data loading: \"Евгений Онегин\"\n"
      ]
    },
    {
      "cell_type": "code",
      "execution_count": 4,
      "metadata": {
        "id": "rWlip4E6MDd1",
        "outputId": "bc01b155-95f4-4422-d89e-fa7a058f6a34",
        "colab": {
          "base_uri": "https://localhost:8080/"
        }
      },
      "outputs": [
        {
          "output_type": "stream",
          "name": "stdout",
          "text": [
            "--2023-09-22 18:10:51--  https://raw.githubusercontent.com/attatrol/data_sources/master/onegin.txt\n",
            "Resolving raw.githubusercontent.com (raw.githubusercontent.com)... 185.199.108.133, 185.199.109.133, 185.199.110.133, ...\n",
            "Connecting to raw.githubusercontent.com (raw.githubusercontent.com)|185.199.108.133|:443... connected.\n",
            "HTTP request sent, awaiting response... 200 OK\n",
            "Length: 262521 (256K) [text/plain]\n",
            "Saving to: ‘onegin.txt’\n",
            "\n",
            "\ronegin.txt            0%[                    ]       0  --.-KB/s               \ronegin.txt          100%[===================>] 256.37K  --.-KB/s    in 0.008s  \n",
            "\n",
            "2023-09-22 18:10:51 (31.4 MB/s) - ‘onegin.txt’ saved [262521/262521]\n",
            "\n"
          ]
        },
        {
          "output_type": "stream",
          "name": "stderr",
          "text": [
            "<ipython-input-4-3b953e2e93b9>:7: FutureWarning: Possible nested set at position 2\n",
            "  text = [re.sub(r'([[].+[]])', '', x) for x in text]\n"
          ]
        }
      ],
      "source": [
        "!wget https://raw.githubusercontent.com/attatrol/data_sources/master/onegin.txt\n",
        "\n",
        "with open('onegin.txt', 'r') as iofile:\n",
        "    text = iofile.readlines()\n",
        "\n",
        "text = [x.replace('\\t\\t', '') for x in text]\n",
        "text = [re.sub(r'([[].+[]])', '', x) for x in text]\n",
        "text = [re.sub(r'[\\s][\\s]+', '', x) for x in text]"
      ]
    },
    {
      "cell_type": "code",
      "source": [
        "MAX_LENGTH = max(map(len, text))\n",
        "MAX_LENGTH"
      ],
      "metadata": {
        "id": "1WF8QrvEO31a",
        "outputId": "070049b8-d0c5-4f27-9e5b-151320828a14",
        "colab": {
          "base_uri": "https://localhost:8080/"
        }
      },
      "execution_count": 5,
      "outputs": [
        {
          "output_type": "execute_result",
          "data": {
            "text/plain": [
              "49"
            ]
          },
          "metadata": {},
          "execution_count": 5
        }
      ]
    },
    {
      "cell_type": "code",
      "source": [
        "len(text)"
      ],
      "metadata": {
        "id": "HTY-f2SX3IKl",
        "outputId": "986dce6d-16c5-4208-9f69-24822ea31a2e",
        "colab": {
          "base_uri": "https://localhost:8080/"
        }
      },
      "execution_count": 6,
      "outputs": [
        {
          "output_type": "execute_result",
          "data": {
            "text/plain": [
              "7088"
            ]
          },
          "metadata": {},
          "execution_count": 6
        }
      ]
    },
    {
      "cell_type": "markdown",
      "metadata": {
        "id": "aeEwO0IyMDd3"
      },
      "source": [
        "In opposite to the in-class practice, this time we want to predict complex text. Let's reduce the complexity of the task and lowercase all the symbols.\n",
        "\n",
        "Now variable `text` is a list of strings. Join all the strings into one and lowercase it."
      ]
    },
    {
      "cell_type": "code",
      "execution_count": 7,
      "metadata": {
        "id": "4BtNJ9aKMDd3"
      },
      "outputs": [],
      "source": [
        "# Join all the strings into one and lowercase it\n",
        "# Put result into variable text.\n",
        "\n",
        "# Your great code here\n",
        "text = ''.join(text).lower()"
      ]
    },
    {
      "cell_type": "markdown",
      "metadata": {
        "id": "YVlDg-Z7MDd4"
      },
      "source": [
        "Put all the characters, that you've seen in the text, into variable `tokens`."
      ]
    },
    {
      "cell_type": "code",
      "execution_count": 8,
      "metadata": {
        "id": "-EL68lfTMDd4",
        "outputId": "0f232c04-6236-4a4c-9116-a6aeaa679f35",
        "colab": {
          "base_uri": "https://localhost:8080/"
        }
      },
      "outputs": [
        {
          "output_type": "stream",
          "name": "stdout",
          "text": [
            "num_tokens = 78\n",
            "['\\n', ' ', '!', '(', ')', ',', '-', '.', '5', ':', ';', '?', '^', 'a', 'b', 'c', 'd', 'e', 'f', 'g', 'h', 'i', 'k', 'l', 'm', 'n', 'o', 'p', 'q', 'r', 's', 't', 'u', 'v', 'w', 'x', 'y', 'z', '«', '»', 'а', 'б', 'в', 'г', 'д', 'е', 'ж', 'з', 'и', 'й', 'к', 'л', 'м', 'н', 'о', 'п', 'р', 'с', 'т', 'у', 'ф', 'х', 'ц', 'ч', 'ш', 'щ', 'ъ', 'ы', 'ь', 'э', 'ю', 'я', 'ё', '–', '—', '’', '…', '€']\n"
          ]
        }
      ],
      "source": [
        "tokens = sorted(list(set(text)))\n",
        "num_tokens = len(tokens)\n",
        "print(f'num_tokens = {num_tokens}')\n",
        "print(tokens)"
      ]
    },
    {
      "cell_type": "markdown",
      "metadata": {
        "id": "ek86m1g4MDd5"
      },
      "source": [
        "Create dictionary `token_to_idx = {<char>: <index>}` and dictionary `idx_to_token = {<index>: <char>}`"
      ]
    },
    {
      "cell_type": "code",
      "execution_count": 9,
      "metadata": {
        "collapsed": true,
        "jupyter": {
          "outputs_hidden": true
        },
        "id": "c0qeGtpkMDd5",
        "outputId": "cedac641-ae43-46aa-fb26-36192d2a9fcc",
        "colab": {
          "base_uri": "https://localhost:8080/"
        }
      },
      "outputs": [
        {
          "output_type": "stream",
          "name": "stdout",
          "text": [
            "{'\\n': 0, ' ': 1, '!': 2, '(': 3, ')': 4, ',': 5, '-': 6, '.': 7, '5': 8, ':': 9, ';': 10, '?': 11, '^': 12, 'a': 13, 'b': 14, 'c': 15, 'd': 16, 'e': 17, 'f': 18, 'g': 19, 'h': 20, 'i': 21, 'k': 22, 'l': 23, 'm': 24, 'n': 25, 'o': 26, 'p': 27, 'q': 28, 'r': 29, 's': 30, 't': 31, 'u': 32, 'v': 33, 'w': 34, 'x': 35, 'y': 36, 'z': 37, '«': 38, '»': 39, 'а': 40, 'б': 41, 'в': 42, 'г': 43, 'д': 44, 'е': 45, 'ж': 46, 'з': 47, 'и': 48, 'й': 49, 'к': 50, 'л': 51, 'м': 52, 'н': 53, 'о': 54, 'п': 55, 'р': 56, 'с': 57, 'т': 58, 'у': 59, 'ф': 60, 'х': 61, 'ц': 62, 'ч': 63, 'ш': 64, 'щ': 65, 'ъ': 66, 'ы': 67, 'ь': 68, 'э': 69, 'ю': 70, 'я': 71, 'ё': 72, '–': 73, '—': 74, '’': 75, '…': 76, '€': 77}\n",
            "{0: '\\n', 1: ' ', 2: '!', 3: '(', 4: ')', 5: ',', 6: '-', 7: '.', 8: '5', 9: ':', 10: ';', 11: '?', 12: '^', 13: 'a', 14: 'b', 15: 'c', 16: 'd', 17: 'e', 18: 'f', 19: 'g', 20: 'h', 21: 'i', 22: 'k', 23: 'l', 24: 'm', 25: 'n', 26: 'o', 27: 'p', 28: 'q', 29: 'r', 30: 's', 31: 't', 32: 'u', 33: 'v', 34: 'w', 35: 'x', 36: 'y', 37: 'z', 38: '«', 39: '»', 40: 'а', 41: 'б', 42: 'в', 43: 'г', 44: 'д', 45: 'е', 46: 'ж', 47: 'з', 48: 'и', 49: 'й', 50: 'к', 51: 'л', 52: 'м', 53: 'н', 54: 'о', 55: 'п', 56: 'р', 57: 'с', 58: 'т', 59: 'у', 60: 'ф', 61: 'х', 62: 'ц', 63: 'ч', 64: 'ш', 65: 'щ', 66: 'ъ', 67: 'ы', 68: 'ь', 69: 'э', 70: 'ю', 71: 'я', 72: 'ё', 73: '–', 74: '—', 75: '’', 76: '…', 77: '€'}\n"
          ]
        }
      ],
      "source": [
        "# dict <index>:<char>\n",
        "# Your great code here\n",
        "token_to_idx = {char: index for index, char in enumerate(tokens)}\n",
        "\n",
        "# dict <char>:<index>\n",
        "# Your great code here\n",
        "idx_to_token = {index: char for index, char in enumerate(tokens)}\n",
        "\n",
        "print(token_to_idx)\n",
        "print(idx_to_token)"
      ]
    },
    {
      "cell_type": "code",
      "source": [
        "def encod(sec):\n",
        "    encod_sec = [token_to_idx[s] for s in sec]\n",
        "    return encod_sec"
      ],
      "metadata": {
        "id": "uaov3VGCpnfi"
      },
      "execution_count": 10,
      "outputs": []
    },
    {
      "cell_type": "code",
      "source": [
        "batch = encod(text[:128])\n",
        "embed = nn.Embedding(78, 20)\n",
        "res = embed(torch.LongTensor(batch))\n",
        "res.size(0)"
      ],
      "metadata": {
        "id": "RNI_mhkaqF-i",
        "outputId": "39cae562-63fd-47b0-909f-9324d774761a",
        "colab": {
          "base_uri": "https://localhost:8080/"
        }
      },
      "execution_count": 11,
      "outputs": [
        {
          "output_type": "execute_result",
          "data": {
            "text/plain": [
              "128"
            ]
          },
          "metadata": {},
          "execution_count": 11
        }
      ]
    },
    {
      "cell_type": "code",
      "source": [
        "device = 'cuda:0' if torch.cuda.is_available() else 'cpu'\n",
        "device"
      ],
      "metadata": {
        "colab": {
          "base_uri": "https://localhost:8080/",
          "height": 35
        },
        "id": "G2MUdf3EtAvI",
        "outputId": "10367440-d135-4790-d0ff-8ea1d2f27b61"
      },
      "execution_count": 12,
      "outputs": [
        {
          "output_type": "execute_result",
          "data": {
            "text/plain": [
              "'cpu'"
            ],
            "application/vnd.google.colaboratory.intrinsic+json": {
              "type": "string"
            }
          },
          "metadata": {},
          "execution_count": 12
        }
      ]
    },
    {
      "cell_type": "markdown",
      "metadata": {
        "id": "C98mClZsMDd5"
      },
      "source": [
        "*Comment: in this task we have only 38 different tokens, so let's use one-hot encoding.*"
      ]
    },
    {
      "cell_type": "markdown",
      "metadata": {
        "id": "pNJmYFncMDd6"
      },
      "source": [
        "### Building the model"
      ]
    },
    {
      "cell_type": "markdown",
      "metadata": {
        "id": "HrDGQt6aMDd6"
      },
      "source": [
        "Now we want to build and train recurrent neural net which would be able to something similar to Shakespeare's poetry.\n",
        "\n",
        "Let's use vanilla RNN, similar to the one created during the lesson."
      ]
    },
    {
      "cell_type": "code",
      "execution_count": 13,
      "metadata": {
        "collapsed": true,
        "jupyter": {
          "outputs_hidden": true
        },
        "id": "EXTZJeuVMDd6"
      },
      "outputs": [],
      "source": [
        "# Your code here\n",
        "class CharRNNCell(nn.Module):\n",
        "\n",
        "    def __init__(self, num_tokens=len(tokens), embedding_size=18, rnn_num_units=128):\n",
        "        super(self.__class__,self).__init__()\n",
        "        self.num_units = rnn_num_units\n",
        "        self.embedding = nn.Embedding(num_tokens, embedding_size)\n",
        "        self.rnn_update = nn.Linear(embedding_size + rnn_num_units, rnn_num_units)\n",
        "        self.rnn_to_logits = nn.Linear(rnn_num_units, num_tokens)\n",
        "\n",
        "    def forward(self, x, h_prev):\n",
        "        x_emb = self.embedding(x)\n",
        "        x_and_h = torch.cat([x_emb, h_prev], dim=-1)\n",
        "        h_next = torch.tanh(self.rnn_update(x_and_h))\n",
        "\n",
        "        assert h_next.size() == h_prev.size()\n",
        "\n",
        "        logits = self.rnn_to_logits(h_next)\n",
        "\n",
        "        return h_next, logits\n",
        "\n",
        "    def initial_state(self, batch_size):\n",
        "        return torch.zeros(batch_size, self.num_units, requires_grad=True)\n",
        "\n",
        "\n"
      ]
    },
    {
      "cell_type": "code",
      "source": [
        "def rnn_loop(char_rnn, batch_ix):\n",
        "    batch_size = batch_ix.size(0)\n",
        "    hid_state = char_rnn.initial_state(batch_size).to(device)\n",
        "    logits = []\n",
        "\n",
        "    for x_t in batch_ix.transpose(0,1):\n",
        "        hid_state, logits_next = char_rnn(x_t, hid_state)\n",
        "        logits.append(logits_next)\n",
        "\n",
        "    return torch.stack(logits, dim=1)"
      ],
      "metadata": {
        "id": "8RJUF4e2vNYE"
      },
      "execution_count": 14,
      "outputs": []
    },
    {
      "cell_type": "code",
      "source": [
        "#char_rnn = CharRNNCell()\n",
        "#batch_ix = encod(text[:128])\n",
        "#batch_ix = torch.tensor(batch_ix, dtype=torch.int64)\n",
        "#batch_ix = batch_ix.view(1,128)\n",
        "#logit_seq = rnn_loop(char_rnn, batch_ix)\n",
        "#print(batch_ix[:, 1:].size())\n",
        "#print(logit_seq.size())\n",
        "#print(logit_seq[:, :-1].size())\n",
        "#print(batch_ix[:,1:].size())"
      ],
      "metadata": {
        "id": "IwrK0GQwgrYt"
      },
      "execution_count": 15,
      "outputs": []
    },
    {
      "cell_type": "markdown",
      "metadata": {
        "id": "KEUgR6WqMDd6"
      },
      "source": [
        "Plot the loss function (axis X: number of epochs, axis Y: loss function)."
      ]
    },
    {
      "cell_type": "code",
      "execution_count": 16,
      "metadata": {
        "collapsed": true,
        "jupyter": {
          "outputs_hidden": true
        },
        "id": "gPgAE7XbMDd7"
      },
      "outputs": [],
      "source": [
        "# Your plot code here\n",
        "char_rnn = CharRNNCell().to(device)\n",
        "opt = torch.optim.Adam(char_rnn.parameters())\n",
        "loss_func = nn.CrossEntropyLoss()\n",
        "\n",
        "loss_history = []\n",
        "n_epochs = 100\n",
        "batch_size = 256\n"
      ]
    },
    {
      "cell_type": "code",
      "source": [
        "for ep in range(n_epochs):\n",
        "    ep_loss = []\n",
        "    for i in range(len(text) % batch_size):\n",
        "        start_batch = np.random.randint(0, len(text)-batch_size-1)\n",
        "        batch = encod(text[start_batch:start_batch+batch_size])\n",
        "        batch = torch.tensor(batch, dtype=torch.int64)\n",
        "        batch = batch.view(1, batch_size)\n",
        "        batch = batch.to(device)\n",
        "\n",
        "        logits_seq = rnn_loop(char_rnn, batch)\n",
        "\n",
        "        pred_logits = logits_seq[:, :-1]\n",
        "        actual_next_tokens = batch[:, 1:]\n",
        "\n",
        "        loss = loss_func(\n",
        "            pred_logits.reshape((-1, num_tokens)),\n",
        "            actual_next_tokens.reshape(-1)\n",
        "        )\n",
        "\n",
        "        loss.backward()\n",
        "        opt.step()\n",
        "        opt.zero_grad()\n",
        "\n",
        "        ep_loss.append(loss.item())\n",
        "\n",
        "    loss_history.append(np.mean(ep_loss))\n",
        "\n",
        "    clear_output(True)\n",
        "    plt.plot(loss_history,label='loss')\n",
        "    plt.legend()\n",
        "    plt.show()\n",
        "\n",
        "\n",
        "assert np.mean(loss_history[:10]) > np.mean(loss_history[-10:]), \"RNN didn't converge.\"\n",
        "\n",
        "\n"
      ],
      "metadata": {
        "id": "Un8tfSuFq3uY",
        "colab": {
          "base_uri": "https://localhost:8080/",
          "height": 430
        },
        "outputId": "cc084fa9-7b59-4e31-c484-b443d58b5029"
      },
      "execution_count": 17,
      "outputs": [
        {
          "output_type": "display_data",
          "data": {
            "text/plain": [
              "<Figure size 640x480 with 1 Axes>"
            ],
            "image/png": "[encoded data removed]"
          },
          "metadata": {}
        }
      ]
    },
    {
      "cell_type": "code",
      "execution_count": 18,
      "metadata": {
        "id": "p8A-9lIAMDd7"
      },
      "outputs": [],
      "source": [
        "def generate_sample(char_rnn, seed_phrase='Герой', max_length=MAX_LENGTH, temperature=1.0):\n",
        "    '''\n",
        "    ### Disclaimer: this is an example function for text generation.\n",
        "    ### You can either adapt it in your code or create your own function\n",
        "\n",
        "    The function generates text given a phrase of length at least SEQ_LENGTH.\n",
        "    :param seed_phrase: prefix characters. The RNN is asked to continue the phrase\n",
        "    :param max_length: maximum output length, including seed_phrase\n",
        "    :param temperature: coefficient for sampling.  higher temperature produces more chaotic outputs,\n",
        "        smaller temperature converges to the single most likely output.\n",
        "\n",
        "    Be careful with the model output. This model waits logits (not probabilities/log-probabilities)\n",
        "    of the next symbol.\n",
        "    '''\n",
        "\n",
        "    x_sequence = [token_to_idx[token] for token in seed_phrase]\n",
        "    x_sequence = torch.tensor([x_sequence], dtype=torch.int64).to(device)\n",
        "    hid_state = char_rnn.initial_state(batch_size=1).to(device)\n",
        "\n",
        "    #feed the seed phrase, if any\n",
        "    for i in range(len(seed_phrase) - 1):\n",
        "        #print(x_sequence[:, -1].shape, hid_state.shape)\n",
        "        hid_state, out = char_rnn(x_sequence[:, i], hid_state)\n",
        "\n",
        "    #start generating\n",
        "    for _ in range(max_length - len(seed_phrase)):\n",
        "        #print(x_sequence.shape, x_sequence, hid_state.shape)\n",
        "        hid_state, out = char_rnn(x_sequence[:, -1], hid_state)\n",
        "        # Be really careful here with the model output\n",
        "        p_next = F.softmax(out / temperature, dim=-1).to('cpu').data.numpy()[0]\n",
        "\n",
        "        # sample next token and push it back into x_sequence\n",
        "        #print(p_next.shape, len(tokens))\n",
        "        next_ix = np.random.choice(len(tokens), p=p_next)\n",
        "        next_ix = torch.tensor([[next_ix]], dtype=torch.int64).to(device)\n",
        "        #print(x_sequence.shape, next_ix.shape)\n",
        "        x_sequence = torch.cat([x_sequence, next_ix], dim=1)\n",
        "\n",
        "    return ''.join([tokens[ix] for ix in x_sequence.to('cpu').data.numpy()[0]])"
      ]
    },
    {
      "cell_type": "code",
      "execution_count": 19,
      "metadata": {
        "id": "0nIIExv8MDd8",
        "outputId": "5b1341db-824d-4f66-9e21-ebfee3f44e21",
        "colab": {
          "base_uri": "https://localhost:8080/"
        }
      },
      "outputs": [
        {
          "output_type": "stream",
          "name": "stdout",
          "text": [
            "герой делу стариньем\n",
            "не друг летовно уж стельным;\n",
            "вдруг поднем веререй нас оскавить?\n",
            "но вертину свои полно,\n",
            "к стужет межденной красный,\n",
            "и мой не страней молодной\n",
            "славля не разность от сада\n",
            "и верник мезденой в нашей дерей\n",
            "и верно сварок и в нас не моей,\n",
            "кровины весная кладней,\n",
            "но как глята с сердце славой\n",
            "на цол: на умин и сужда.\n",
            "старый не вках и собой.\n",
            "\n",
            "\n",
            "\n",
            "xxvi\n",
            "\n",
            "богутной когородною странье,\n",
            "когда в оставать на света\n",
            "на славно старить не воле\n",
            "слезанной по видей брещений\n",
            "сого не круг он.\n",
            "\n",
            "\n",
            "\n",
            "xxii\n",
            "\n",
            "когорок в собой покреми, вот речей.\n",
            "еще в том облаждет ее старит,\n",
            "верно стариком и в ваш подна\n",
            "татьяна пред вечельной не сталатный\n",
            "и применский молодой,\n",
            "на должне ветренно слезой,\n",
            "и то в ей не блестной\n"
          ]
        }
      ],
      "source": [
        "print(generate_sample(char_rnn=char_rnn, seed_phrase='герой', max_length=700, temperature=0.5))"
      ]
    },
    {
      "cell_type": "code",
      "source": [
        "class CharRNNLoop(nn.Module):\n",
        "    def __init__(self, num_tokens=num_tokens, emb_size=18, rnn_num_units=128):\n",
        "        super(self.__class__, self).__init__()\n",
        "        self.train = True\n",
        "        self.emb = nn.Embedding(num_tokens, emb_size)\n",
        "        self.rnn = nn.RNN(input_size=emb_size,\n",
        "                          hidden_size=rnn_num_units,\n",
        "                          batch_first=True,\n",
        "                          num_layers=2)\n",
        "        self.hid_to_logits = nn.Linear(rnn_num_units, num_tokens)\n",
        "\n",
        "    def forward(self, x, hid_state=None):\n",
        "        if self.train:\n",
        "            h_seq, _ = self.rnn(self.emb(x))\n",
        "            next_logits = self.hid_to_logits(h_seq)\n",
        "            return next_logits\n",
        "        else:\n",
        "            h_seq, hid_state = self.rnn(self.emb(x), hid_state)\n",
        "            next_logits = self.hid_to_logits(h_seq)\n",
        "            return next_logits, hid_state\n",
        "\n",
        "model = CharRNNLoop().to(device)\n",
        "opt = torch.optim.Adam(model.parameters())\n",
        "loss_func = nn.CrossEntropyLoss()\n",
        "loss_history = []\n",
        "n_epochs = 100\n",
        "batch_size = 256\n",
        "\n"
      ],
      "metadata": {
        "id": "OQ1Cqy6529oJ"
      },
      "execution_count": 34,
      "outputs": []
    },
    {
      "cell_type": "code",
      "source": [
        "model.train = True\n",
        "for ep in range(n_epochs):\n",
        "    ep_loss = []\n",
        "    for i in range(len(text) % batch_size):\n",
        "        start_batch = np.random.randint(0, len(text)-batch_size-1)\n",
        "        #start_batch = i * batch_size\n",
        "        batch = encod(text[start_batch:start_batch+batch_size])\n",
        "        batch = torch.tensor(batch, dtype=torch.int64)\n",
        "        batch = batch.view(1, batch_size)\n",
        "        batch = batch.to(device)\n",
        "\n",
        "        logits_seq = model(batch)\n",
        "\n",
        "        pred_logits = logits_seq[:, :-1]\n",
        "        actual_next_tokens = batch[:, 1:]\n",
        "\n",
        "\n",
        "        loss = loss_func(\n",
        "            pred_logits.reshape((-1, num_tokens)),\n",
        "            actual_next_tokens.reshape(-1)\n",
        "        )\n",
        "\n",
        "        loss.backward()\n",
        "        opt.step()\n",
        "        opt.zero_grad()\n",
        "\n",
        "        ep_loss.append(loss.item())\n",
        "\n",
        "    loss_history.append(np.mean(ep_loss))\n",
        "\n",
        "    clear_output(True)\n",
        "    plt.plot(loss_history,label='loss')\n",
        "    plt.legend()\n",
        "    plt.show()\n",
        "\n",
        "assert np.mean(loss_history[:10]) > np.mean(loss_history[-10:]), \"RNN didn't converge.\""
      ],
      "metadata": {
        "colab": {
          "base_uri": "https://localhost:8080/",
          "height": 430
        },
        "id": "TyrxT66OJ5yu",
        "outputId": "951094e3-ec1f-43e3-9d62-b300716d91d5"
      },
      "execution_count": 35,
      "outputs": [
        {
          "output_type": "display_data",
          "data": {
            "text/plain": [
              "<Figure size 640x480 with 1 Axes>"
            ],
            "image/png": "[encoded data removed]"
          },
          "metadata": {}
        }
      ]
    },
    {
      "cell_type": "code",
      "source": [
        "def generate_sample(model, max_length, seed_phrase='Герой', temperature=1.0):\n",
        "\n",
        "    model.train = False\n",
        "\n",
        "    x_sequence = [token_to_idx[token] for token in seed_phrase]\n",
        "    x_sequence = torch.tensor([x_sequence], dtype=torch.int64).to(device)\n",
        "\n",
        "    #feed the seed phrase, if any\n",
        "    hid_state = None\n",
        "    for i in range(len(seed_phrase) - 1):\n",
        "        _, hid_state = model(x_sequence[:, i], hid_state)\n",
        "\n",
        "    #start generating\n",
        "    for _ in range(max_length - len(seed_phrase)):\n",
        "        out, hid_state = model(x_sequence[:, -1], hid_state)\n",
        "        p_next = F.softmax(out / temperature, dim=-1).to('cpu').data.numpy()[0]\n",
        "\n",
        "        # sample next token and push it back into x_sequence\n",
        "        next_ix = np.random.choice(len(tokens), p=p_next)\n",
        "        next_ix = torch.tensor([[next_ix]], dtype=torch.int64).to(device)\n",
        "        x_sequence = torch.cat([x_sequence, next_ix], dim=1)\n",
        "\n",
        "    return ''.join([tokens[ix] for ix in x_sequence.to('cpu').data.numpy()[0]])"
      ],
      "metadata": {
        "id": "rZ3HTvMZNg-Y"
      },
      "execution_count": 36,
      "outputs": []
    },
    {
      "cell_type": "code",
      "source": [
        "print(generate_sample(model, max_length=700, seed_phrase='мой дядя самых честных правил', temperature=0.5))"
      ],
      "metadata": {
        "id": "oelnqjC_P3Cj",
        "outputId": "316e565c-ddfb-4cb5-e7eb-85aaa33fa284",
        "colab": {
          "base_uri": "https://localhost:8080/"
        }
      },
      "execution_count": 37,
      "outputs": [
        {
          "output_type": "stream",
          "name": "stdout",
          "text": [
            "мой дядя самых честных правила?»\n",
            "еще но в ней он он молча,\n",
            "в глуши с ним скрыла мой.\n",
            "\n",
            "\n",
            "\n",
            "xxvii\n",
            "\n",
            "и восподной заметит а страд.\n",
            "\n",
            "\n",
            "\n",
            "xxi\n",
            "\n",
            "но покойной и в глушать,\n",
            "и с нам поворотило отот\n",
            "с ним сталом ворвенные меня,\n",
            "в перемет не хоть в солной.\n",
            "\n",
            "\n",
            "\n",
            "xii\n",
            "\n",
            "как убором молчался на сторон.\n",
            "с колетой взор и постеренье,\n",
            "что полные страда люблю.\n",
            "\n",
            "\n",
            "\n",
            "xxxi\n",
            "\n",
            "в койных своей сердца сторон,\n",
            "он свои страстных сводилась,\n",
            "в ней стольно запред неволе\n",
            "и татьяна по мне струдает\n",
            "и сердца постеленье,\n",
            "ужель поками расселенье,\n",
            "но только в романилась сон,\n",
            "и был не вновь почелованье\n",
            "в сем на взор в послушный звучный,\n",
            "я после я расках разумный стучит,\n",
            "когда приятнице в семья\n",
            "к беревно летильный спорой\n",
            "и в осьзоркала свой модной\n"
          ]
        }
      ]
    },
    {
      "cell_type": "code",
      "source": [],
      "metadata": {
        "id": "rCYYuz-yoMwX"
      },
      "execution_count": null,
      "outputs": []
    },
    {
      "cell_type": "markdown",
      "metadata": {
        "id": "jBX5YWP4MDd9"
      },
      "source": [
        "### More poetic model\n",
        "\n",
        "Let's use LSTM instead of vanilla RNN and compare the results."
      ]
    },
    {
      "cell_type": "markdown",
      "metadata": {
        "id": "oFx80XBMMDd9"
      },
      "source": [
        "Plot the loss function of the number of epochs. Does the final loss become better?"
      ]
    },
    {
      "cell_type": "code",
      "execution_count": 16,
      "metadata": {
        "collapsed": true,
        "jupyter": {
          "outputs_hidden": true
        },
        "id": "RKQv9XjvMDd-"
      },
      "outputs": [],
      "source": [
        "# LSTM\n",
        "class CharLSTMLoop(nn.Module):\n",
        "    def __init__(self, num_tokens=num_tokens, emb_size=18, num_units=128):\n",
        "        super(self.__class__, self).__init__()\n",
        "        self.train = True\n",
        "        self.emb = nn.Embedding(num_tokens, emb_size)\n",
        "        self.lstm = nn.LSTM(input_size=emb_size,\n",
        "                          hidden_size=num_units,\n",
        "                          batch_first=True,\n",
        "                          num_layers=2)\n",
        "        self.hid_to_logits = nn.Linear(num_units, num_tokens)\n",
        "\n",
        "    def forward(self, x, hid_state=None):\n",
        "        if self.train:\n",
        "            h_seq, _ = self.lstm(self.emb(x))\n",
        "            next_logits = self.hid_to_logits(h_seq)\n",
        "            return next_logits\n",
        "        else:\n",
        "            h_seq, hid_state = self.lstm(self.emb(x), hid_state)\n",
        "            next_logits = self.hid_to_logits(h_seq)\n",
        "            return next_logits, hid_state\n",
        "\n",
        "model = CharLSTMLoop().to(device)\n",
        "opt = torch.optim.Adam(model.parameters())\n",
        "loss_func = nn.CrossEntropyLoss()\n",
        "loss_history = []\n",
        "n_epochs = 100\n",
        "batch_size = 256"
      ]
    },
    {
      "cell_type": "code",
      "source": [
        "model.train = True\n",
        "for ep in range(n_epochs):\n",
        "    ep_loss = []\n",
        "    for i in range(len(text) % batch_size):\n",
        "        start_batch = np.random.randint(0, len(text)-batch_size-1)\n",
        "        #start_batch = i * batch_size\n",
        "        batch = encod(text[start_batch:start_batch+batch_size])\n",
        "        batch = torch.tensor(batch, dtype=torch.int64)\n",
        "        batch = batch.view(1, batch_size)\n",
        "        batch = batch.to(device)\n",
        "\n",
        "        logits_seq = model(batch)\n",
        "\n",
        "        pred_logits = logits_seq[:, :-1]\n",
        "        actual_next_tokens = batch[:, 1:]\n",
        "\n",
        "\n",
        "        loss = loss_func(\n",
        "            pred_logits.reshape((-1, num_tokens)),\n",
        "            actual_next_tokens.reshape(-1)\n",
        "        )\n",
        "\n",
        "        loss.backward()\n",
        "        opt.step()\n",
        "        opt.zero_grad()\n",
        "\n",
        "        ep_loss.append(loss.item())\n",
        "\n",
        "    loss_history.append(np.mean(ep_loss))\n",
        "\n",
        "    clear_output(True)\n",
        "    plt.plot(loss_history,label='loss')\n",
        "    plt.legend()\n",
        "    plt.show()\n",
        "\n",
        "assert np.mean(loss_history[:10]) > np.mean(loss_history[-10:]), \"RNN didn't converge.\""
      ],
      "metadata": {
        "colab": {
          "base_uri": "https://localhost:8080/",
          "height": 430
        },
        "id": "i0DMvk0f0VQ6",
        "outputId": "b3b16473-5a3d-406d-b235-0288f68d0b57"
      },
      "execution_count": 17,
      "outputs": [
        {
          "output_type": "display_data",
          "data": {
            "text/plain": [
              "<Figure size 640x480 with 1 Axes>"
            ],
            "image/png": "[encoded data removed]"
          },
          "metadata": {}
        }
      ]
    },
    {
      "cell_type": "code",
      "source": [
        "def generate_sample(model, max_length, seed_phrase='Герой', temperature=1.0):\n",
        "\n",
        "    model.train = False\n",
        "\n",
        "    x_sequence = [token_to_idx[token] for token in seed_phrase]\n",
        "    x_sequence = torch.tensor([x_sequence], dtype=torch.int64).to(device)\n",
        "\n",
        "    #feed the seed phrase, if any\n",
        "    hid_state = None\n",
        "    for i in range(len(seed_phrase) - 1):\n",
        "        _, hid_state = model(x_sequence[:, i], hid_state)\n",
        "\n",
        "    #start generating\n",
        "    for _ in range(max_length - len(seed_phrase)):\n",
        "        out, hid_state = model(x_sequence[:, -1], hid_state)\n",
        "        p_next = F.softmax(out / temperature, dim=-1).to('cpu').data.numpy()[0]\n",
        "\n",
        "        # sample next token and push it back into x_sequence\n",
        "        next_ix = np.random.choice(len(tokens), p=p_next)\n",
        "        next_ix = torch.tensor([[next_ix]], dtype=torch.int64).to(device)\n",
        "        x_sequence = torch.cat([x_sequence, next_ix], dim=1)\n",
        "\n",
        "    return ''.join([tokens[ix] for ix in x_sequence.to('cpu').data.numpy()[0]])"
      ],
      "metadata": {
        "id": "TpsqMQtN1S65"
      },
      "execution_count": 18,
      "outputs": []
    },
    {
      "cell_type": "markdown",
      "metadata": {
        "id": "xINqGUe_MDd-"
      },
      "source": [
        "Generate text using the trained net with different `temperature` parameter: `[0.1, 0.2, 0.5, 1.0, 2.0]`.\n",
        "\n",
        "Evaluate the results visually, try to interpret them."
      ]
    },
    {
      "cell_type": "code",
      "execution_count": 19,
      "metadata": {
        "collapsed": true,
        "jupyter": {
          "outputs_hidden": true
        },
        "id": "09BWQP-cMDd-",
        "colab": {
          "base_uri": "https://localhost:8080/"
        },
        "outputId": "fe0e8b90-9d66-462a-f895-196eb196b204"
      },
      "outputs": [
        {
          "output_type": "stream",
          "name": "stdout",
          "text": [
            "==============================Temperature: 0.1 + \"=\"*30\n",
            "мой дядя самых честных правил\n",
            "и в сердце простит полный друг,\n",
            "и в сердце простит он своей,\n",
            "и в сердце простали с ней своей\n",
            "порой пострать он странный странный,\n",
            "и вот пострете своей своей,\n",
            "и все волнит он с ней своей,\n",
            "и в сердце полно простались,\n",
            "и в сердце простит он своей,\n",
            "и в сердце полный своей с\n",
            "==============================Temperature: 0.2 + \"=\"*30\n",
            "мой дядя самых честных правил\n",
            "и пострете в ней сердце своей,\n",
            "постала с постали с пострече,\n",
            "и в душе предметельный долод,\n",
            "и вот под ней сердце молоды,\n",
            "под ней сердце своей своей;\n",
            "он в собрасти своей поэта\n",
            "и слышали в сам он полет,\n",
            "и в сердце простались в пострам\n",
            "и странный пред ней своей полный,\n",
            "и в \n",
            "==============================Temperature: 0.5 + \"=\"*30\n",
            "мой дядя самых честных правил\n",
            "прости под нем свой со мой.\n",
            "не была полу, лицо молод,\n",
            "с краслась долости живать,\n",
            "чтоб на буль в попречной простал,\n",
            "и слестит из видела свой.\n",
            "\n",
            "\n",
            "\n",
            "xviii\n",
            "\n",
            "и вот и слово двори и срог,\n",
            "он вот обедный седели сперь,\n",
            "как нет, ни световые свой,\n",
            "отенько пострел подибушка\n",
            "и сердце \n",
            "==============================Temperature: 1.0 + \"=\"*30\n",
            "мой дядя самых честных правил\n",
            "дасты рукаму его вотерже,\n",
            "как черчи, плетный избудкой\n",
            "не поэтой, хлаблостью велам,\n",
            "сейдром\n",
            "не тона милых окных стут;\n",
            "примит. —\n",
            "я бизни моды тайно, ревлесь,\n",
            "какаци пере домгла пого,\n",
            "и отдев руды скибек встрат\n",
            "бывало от ввездистве пиет\n",
            "мучалась рождал (не шустьа, мосен\n",
            "и \n",
            "==============================Temperature: 2.0 + \"=\"*30\n",
            "мой дядя самых честных правил\n",
            "ванас лощтели… dузовыя,\n",
            "хтруцо: хордца, кхотжойу спех;ь…; првла.\n",
            "нивно, –\n",
            "таз… штоибе…ь!, пасто, молтоным\n",
            "дотой. – та^даодтю,» к:r мода!\n",
            "тl^oеожyюю мозорой рбадам.);.; в сомампу?:\n",
            "хотьллю бы!-драге риецой;f;\n",
            "илсечыа хобазанмяу\n",
            "обигйди; фозaочьгано,!г,\n",
            "в хирблеет симтада\n"
          ]
        }
      ],
      "source": [
        "# Text generation with different temperature values here\n",
        "temperature = [0.1, 0.2, 0.5, 1.0, 2.0]\n",
        "for i in temperature:\n",
        "    print('='*30 + f'Temperature: {i} + \"=\"*30')\n",
        "    print(generate_sample(model, max_length=300, seed_phrase='мой дядя самых честных правил\\n', temperature=i))\n"
      ]
    },
    {
      "cell_type": "markdown",
      "metadata": {
        "id": "Z8Gl05e4MDd_"
      },
      "source": [
        "### Saving and loading models"
      ]
    },
    {
      "cell_type": "markdown",
      "metadata": {
        "id": "CbPvwIEZMDd_"
      },
      "source": [
        "Save the model to the disk, then load it and generate text. Examples are available [here](https://pytorch.org/tutorials/beginner/saving_loading_models.html])."
      ]
    },
    {
      "cell_type": "code",
      "execution_count": 20,
      "metadata": {
        "collapsed": true,
        "jupyter": {
          "outputs_hidden": true
        },
        "id": "K6sbGyvVMDd_"
      },
      "outputs": [],
      "source": [
        "# Saving and loading code here\n",
        "def save_checkpoint(checkpoint_path, model, optimizer):\n",
        "    state = {\n",
        "        'state_dict': model.state_dict(),\n",
        "        'optimizer' : optimizer.state_dict()}\n",
        "    torch.save(state, checkpoint_path)\n",
        "    print('model saved to %s' % checkpoint_path)\n",
        "def load_checkpoint(checkpoint_path, model, optimizer):\n",
        "    state = torch.load(checkpoint_path)\n",
        "    model.load_state_dict(state['state_dict'])\n",
        "    optimizer.load_state_dict(state['optimizer'])\n",
        "    print('model loaded from %s' % checkpoint_path)"
      ]
    },
    {
      "cell_type": "code",
      "source": [
        "save_checkpoint('./LSTM-model.pth', model, opt)"
      ],
      "metadata": {
        "id": "bOEli2HQES07",
        "outputId": "1ce617e6-cc74-438d-863e-fa384462ebea",
        "colab": {
          "base_uri": "https://localhost:8080/"
        }
      },
      "execution_count": 21,
      "outputs": [
        {
          "output_type": "stream",
          "name": "stdout",
          "text": [
            "model saved to ./LSTM-model.pth\n"
          ]
        }
      ]
    },
    {
      "cell_type": "code",
      "source": [
        "model = CharLSTMLoop().to(device)\n",
        "opt = torch.optim.Adam(model.parameters())\n",
        "loss_func = nn.CrossEntropyLoss()\n",
        "loss_history = []\n",
        "n_epochs = 200\n",
        "batch_size = 256"
      ],
      "metadata": {
        "id": "5PPGhRXoEzPU"
      },
      "execution_count": 22,
      "outputs": []
    },
    {
      "cell_type": "code",
      "source": [
        "load_checkpoint('./LSTM-model.pth', model, opt)"
      ],
      "metadata": {
        "id": "EFuAuqfAFCeT",
        "outputId": "049f81dc-4569-42eb-8316-abd0df1c1e76",
        "colab": {
          "base_uri": "https://localhost:8080/"
        }
      },
      "execution_count": 23,
      "outputs": [
        {
          "output_type": "stream",
          "name": "stdout",
          "text": [
            "model loaded from ./LSTM-model.pth\n"
          ]
        }
      ]
    },
    {
      "cell_type": "code",
      "source": [
        "temperature = [0.1, 0.2, 0.5, 1.0, 2.0]\n",
        "for i in temperature:\n",
        "    print('='*30 + f'Temperature: {i} + \"=\"*30')\n",
        "    print(generate_sample(model, max_length=300, seed_phrase='мой дядя самых честных правил\\n', temperature=i))"
      ],
      "metadata": {
        "id": "0nc0jz8HFPVS",
        "outputId": "abb690fb-6adf-4982-d144-e9b0d348626b",
        "colab": {
          "base_uri": "https://localhost:8080/"
        }
      },
      "execution_count": 24,
      "outputs": [
        {
          "output_type": "stream",
          "name": "stdout",
          "text": [
            "==============================Temperature: 0.1 + \"=\"*30\n",
            "мой дядя самых честных правил\n",
            "и в сердце молодой страстей\n",
            "и в только своей последа\n",
            "и в странный прости своей странный,\n",
            "и вот постретельный своей,\n",
            "и весельный простали в семь\n",
            "и в сердце простали в сердце молод,\n",
            "и в сердце простит он своей,\n",
            "и вот подругой своей своей,\n",
            "и в сердце молоды простить,\n",
            "и в т\n",
            "==============================Temperature: 0.2 + \"=\"*30\n",
            "мой дядя самых честных правил\n",
            "и вот от ней соседели в том\n",
            "веселый в своей соседе,\n",
            "полный своей соседет.\n",
            "\n",
            "\n",
            "\n",
            "xxxiii\n",
            "\n",
            "и в солова с ней сердце с ней.\n",
            "\n",
            "\n",
            "\n",
            "xxxvi\n",
            "\n",
            "но так межда молодой страсть,\n",
            "и страстей постретельный друг,\n",
            "и в ней постретя полетельный,\n",
            "и вы сладкой раздели вот\n",
            "и вот не пострах и простала\n",
            "\n",
            "==============================Temperature: 0.5 + \"=\"*30\n",
            "мой дядя самых честных правил\n",
            "не пострых упоровеньем сладит,\n",
            "и за ней собрали весели\n",
            "постала с пострахи мне верты,\n",
            "весь душу предело я стречь\n",
            "и суждений порой построк,\n",
            "жевать умел ей заметра,\n",
            "и отворной в своей скоко;\n",
            "но предла сердце пред ней, на слуша\n",
            "ее соседь и страной страсть\n",
            "он вот усмерять ве\n",
            "==============================Temperature: 1.0 + \"=\"*30\n",
            "мой дядя самых честных правил\n",
            "на вестрей перемянин угланье\n",
            "ее едвова моду, надтом.\n",
            "\n",
            "\n",
            "\n",
            "xl\n",
            "\n",
            "отвять ознаки москво желят;\n",
            "то лубой они мель жирцений!\n",
            "и, умовала ны, мы те лит…\n",
            "но я своей. взирыв не свет,\n",
            "как истимались его отрасть)\n",
            "а потяъминает\n",
            "мечтее с ним желах непетух,\n",
            "зиру ир солгнованья своль,\n",
            "хот\n",
            "==============================Temperature: 2.0 + \"=\"*30\n",
            "мой дядя самых честных правил\n",
            "егу потимяц); зд.)й\n",
            "лцне, юнимии;мечио» лотеd.\n",
            "гратнес:ьяй в? нейей качтемя\n",
            "жывеннех сщото б рык бльхую…я,\n",
            "яркцо и бырльчах, двворяе;\n",
            "плисонив илго, едет.». ччяс: \n",
            "фноа:-трыя цваепрят;\n",
            "вездоё,). ядылойр опкор,,)п не:)!nцу.…\n",
            "я» от кнк.»;\n",
            "(штпочтеусь сердетухскавую»;\n",
            "–ы? \n"
          ]
        }
      ]
    },
    {
      "cell_type": "markdown",
      "metadata": {
        "id": "mkUb5VkSMDeA"
      },
      "source": [
        "### References\n",
        "1. <a href='http://karpathy.github.io/2015/05/21/rnn-effectiveness/'> Andrew Karpathy blog post about RNN. </a>\n",
        "There are several examples of genration: Shakespeare texts, Latex formulas, Linux Sourse Code and children names.\n",
        "2. <a href='https://github.com/karpathy/char-rnn'> Repo with char-rnn code </a>\n",
        "3. Cool repo with PyTorch examples: [link](https://github.com/spro/practical-pytorch`)"
      ]
    }
  ],
  "metadata": {
    "anaconda-cloud": {},
    "kernelspec": {
      "display_name": "Python 3",
      "name": "python3"
    },
    "language_info": {
      "codemirror_mode": {
        "name": "ipython",
        "version": 3
      },
      "file_extension": ".py",
      "mimetype": "text/x-python",
      "name": "python",
      "nbconvert_exporter": "python",
      "pygments_lexer": "ipython3",
      "version": "3.11.4"
    },
    "colab": {
      "provenance": [],
      "gpuType": "T4"
    },
    "accelerator": "GPU"
  },
  "nbformat": 4,
  "nbformat_minor": 0
}