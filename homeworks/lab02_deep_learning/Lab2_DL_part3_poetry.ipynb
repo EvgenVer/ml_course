{
  "cells": [
    {
      "cell_type": "markdown",
      "metadata": {
        "id": "QoSjPYkZMDdr"
      },
      "source": [
        "## Lab 2"
      ]
    },
    {
      "cell_type": "markdown",
      "metadata": {
        "id": "n322YjERMDdw"
      },
      "source": [
        "### Part 3. Poetry generation\n",
        "\n",
        "Let's try to generate some poetry using RNNs.\n",
        "\n",
        "You have several choices here:\n",
        "\n",
        "* The Shakespeare sonnets, file `sonnets.txt` available in the notebook directory.\n",
        "\n",
        "* Роман в стихах \"Евгений Онегин\" Александра Сергеевича Пушкина. В предобработанном виде доступен по [ссылке](https://github.com/attatrol/data_sources/blob/master/onegin.txt).\n",
        "\n",
        "* Some other text source, if it will be approved by the course staff.\n",
        "\n",
        "Text generation can be designed in several steps:\n",
        "    \n",
        "1. Data loading.\n",
        "2. Dictionary generation.\n",
        "3. Data preprocessing.\n",
        "4. Model (neural network) training.\n",
        "5. Text generation (model evaluation).\n"
      ]
    },
    {
      "cell_type": "code",
      "execution_count": 1,
      "metadata": {
        "id": "fOV6kubGMDdx"
      },
      "outputs": [],
      "source": [
        "import string\n",
        "import os\n",
        "import numpy as np\n",
        "import matplotlib.pyplot as plt\n",
        "%matplotlib inline\n",
        "import torch, torch.nn as nn\n",
        "import torch.nn.functional as F\n",
        "from IPython.display import clear_output\n",
        "from random import sample\n",
        "import re"
      ]
    },
    {
      "cell_type": "markdown",
      "metadata": {
        "id": "V8CE2fL5MDdy"
      },
      "source": [
        "### Data loading: Shakespeare"
      ]
    },
    {
      "cell_type": "markdown",
      "metadata": {
        "id": "kNnFdoisMDdz"
      },
      "source": [
        "Shakespeare sonnets are awailable at this [link](http://www.gutenberg.org/ebooks/1041?msg=welcome_stranger). In addition, they are stored in the same directory as this notebook (`sonnetes.txt`). Simple preprocessing is already done for you in the next cell: all technical info is dropped."
      ]
    },
    {
      "cell_type": "code",
      "execution_count": null,
      "metadata": {
        "collapsed": true,
        "jupyter": {
          "outputs_hidden": true
        },
        "id": "eKYfSUt8MDdz"
      },
      "outputs": [],
      "source": [
        "#if not os.path.exists('sonnets.txt'):\n",
        "    #!wget https://github.com/EvgenVer/ml_course/tree/main/homeworks/lab02_deep_learning/sonnets.txt\n",
        "#text=[]\n",
        "\n",
        "#with open('sonnets.txt', 'r') as iofile:\n",
        "    #text.append(iofile.readlines())\n",
        "\n",
        "#TEXT_START = 45\n",
        "#TEXT_END = -368\n",
        "#text = text[TEXT_START : TEXT_END]\n",
        "#assert len(text) == 2616\""
      ]
    },
    {
      "cell_type": "markdown",
      "metadata": {
        "id": "1eIr_XZJMDd0"
      },
      "source": [
        "In opposite to the in-class practice, this time we want to predict complex text. Let's reduce the complexity of the task and lowercase all the symbols.\n",
        "\n",
        "Now variable `text` is a list of strings. Join all the strings into one and lowercase it."
      ]
    },
    {
      "cell_type": "code",
      "execution_count": null,
      "metadata": {
        "id": "W9oeOEN3MDd0"
      },
      "outputs": [],
      "source": [
        "# Join all the strings into one and lowercase it\n",
        "# Put result into variable text.\n",
        "\n",
        "# Your great code here\n",
        "\n",
        "#assert len(text) == 100225, 'Are you sure you have concatenated all the strings?'\n",
        "#assert not any([x in set(text) for x in string.ascii_uppercase]), 'Uppercase letters are present'\n",
        "#print('OK!')"
      ]
    },
    {
      "cell_type": "markdown",
      "metadata": {
        "id": "9WbHoHjfMDd1"
      },
      "source": [
        "### Data loading: \"Евгений Онегин\"\n"
      ]
    },
    {
      "cell_type": "code",
      "execution_count": 2,
      "metadata": {
        "id": "rWlip4E6MDd1",
        "outputId": "376fdfcc-9563-486c-8da3-2970fd362183",
        "colab": {
          "base_uri": "https://localhost:8080/"
        }
      },
      "outputs": [
        {
          "output_type": "stream",
          "name": "stdout",
          "text": [
            "--2023-09-22 11:28:44--  https://raw.githubusercontent.com/attatrol/data_sources/master/onegin.txt\n",
            "Resolving raw.githubusercontent.com (raw.githubusercontent.com)... 185.199.108.133, 185.199.109.133, 185.199.110.133, ...\n",
            "Connecting to raw.githubusercontent.com (raw.githubusercontent.com)|185.199.108.133|:443... connected.\n",
            "HTTP request sent, awaiting response... 200 OK\n",
            "Length: 262521 (256K) [text/plain]\n",
            "Saving to: ‘onegin.txt’\n",
            "\n",
            "\ronegin.txt            0%[                    ]       0  --.-KB/s               \ronegin.txt          100%[===================>] 256.37K  --.-KB/s    in 0.04s   \n",
            "\n",
            "2023-09-22 11:28:45 (6.48 MB/s) - ‘onegin.txt’ saved [262521/262521]\n",
            "\n"
          ]
        },
        {
          "output_type": "stream",
          "name": "stderr",
          "text": [
            "<ipython-input-2-3b953e2e93b9>:7: FutureWarning: Possible nested set at position 2\n",
            "  text = [re.sub(r'([[].+[]])', '', x) for x in text]\n"
          ]
        }
      ],
      "source": [
        "!wget https://raw.githubusercontent.com/attatrol/data_sources/master/onegin.txt\n",
        "\n",
        "with open('onegin.txt', 'r') as iofile:\n",
        "    text = iofile.readlines()\n",
        "\n",
        "text = [x.replace('\\t\\t', '') for x in text]\n",
        "text = [re.sub(r'([[].+[]])', '', x) for x in text]\n",
        "text = [re.sub(r'[\\s][\\s]+', '', x) for x in text]"
      ]
    },
    {
      "cell_type": "code",
      "source": [
        "MAX_LENGTH = max(map(len, text))\n",
        "MAX_LENGTH"
      ],
      "metadata": {
        "id": "1WF8QrvEO31a",
        "outputId": "6c79491b-d0f7-4b2b-fc17-1df2f676ef64",
        "colab": {
          "base_uri": "https://localhost:8080/"
        }
      },
      "execution_count": 3,
      "outputs": [
        {
          "output_type": "execute_result",
          "data": {
            "text/plain": [
              "49"
            ]
          },
          "metadata": {},
          "execution_count": 3
        }
      ]
    },
    {
      "cell_type": "code",
      "source": [
        "len(text)"
      ],
      "metadata": {
        "id": "HTY-f2SX3IKl",
        "outputId": "90abb2a8-288f-47b4-bf6d-d6b3966a1e87",
        "colab": {
          "base_uri": "https://localhost:8080/"
        }
      },
      "execution_count": 4,
      "outputs": [
        {
          "output_type": "execute_result",
          "data": {
            "text/plain": [
              "7088"
            ]
          },
          "metadata": {},
          "execution_count": 4
        }
      ]
    },
    {
      "cell_type": "markdown",
      "metadata": {
        "id": "aeEwO0IyMDd3"
      },
      "source": [
        "In opposite to the in-class practice, this time we want to predict complex text. Let's reduce the complexity of the task and lowercase all the symbols.\n",
        "\n",
        "Now variable `text` is a list of strings. Join all the strings into one and lowercase it."
      ]
    },
    {
      "cell_type": "code",
      "execution_count": 5,
      "metadata": {
        "id": "4BtNJ9aKMDd3"
      },
      "outputs": [],
      "source": [
        "# Join all the strings into one and lowercase it\n",
        "# Put result into variable text.\n",
        "\n",
        "# Your great code here\n",
        "text = ''.join(text).lower()"
      ]
    },
    {
      "cell_type": "markdown",
      "metadata": {
        "id": "YVlDg-Z7MDd4"
      },
      "source": [
        "Put all the characters, that you've seen in the text, into variable `tokens`."
      ]
    },
    {
      "cell_type": "code",
      "execution_count": 6,
      "metadata": {
        "id": "-EL68lfTMDd4",
        "outputId": "3aa9d4fc-c694-4005-b235-3b3ee7f5632c",
        "colab": {
          "base_uri": "https://localhost:8080/"
        }
      },
      "outputs": [
        {
          "output_type": "stream",
          "name": "stdout",
          "text": [
            "num_tokens = 78\n",
            "['\\n', ' ', '!', '(', ')', ',', '-', '.', '5', ':', ';', '?', '^', 'a', 'b', 'c', 'd', 'e', 'f', 'g', 'h', 'i', 'k', 'l', 'm', 'n', 'o', 'p', 'q', 'r', 's', 't', 'u', 'v', 'w', 'x', 'y', 'z', '«', '»', 'а', 'б', 'в', 'г', 'д', 'е', 'ж', 'з', 'и', 'й', 'к', 'л', 'м', 'н', 'о', 'п', 'р', 'с', 'т', 'у', 'ф', 'х', 'ц', 'ч', 'ш', 'щ', 'ъ', 'ы', 'ь', 'э', 'ю', 'я', 'ё', '–', '—', '’', '…', '€']\n"
          ]
        }
      ],
      "source": [
        "tokens = sorted(list(set(text)))\n",
        "num_tokens = len(tokens)\n",
        "print(f'num_tokens = {num_tokens}')\n",
        "print(tokens)"
      ]
    },
    {
      "cell_type": "markdown",
      "metadata": {
        "id": "ek86m1g4MDd5"
      },
      "source": [
        "Create dictionary `token_to_idx = {<char>: <index>}` and dictionary `idx_to_token = {<index>: <char>}`"
      ]
    },
    {
      "cell_type": "code",
      "execution_count": 7,
      "metadata": {
        "collapsed": true,
        "jupyter": {
          "outputs_hidden": true
        },
        "id": "c0qeGtpkMDd5",
        "outputId": "173f2db6-d004-4491-c42d-418a137cda01",
        "colab": {
          "base_uri": "https://localhost:8080/"
        }
      },
      "outputs": [
        {
          "output_type": "stream",
          "name": "stdout",
          "text": [
            "{'\\n': 0, ' ': 1, '!': 2, '(': 3, ')': 4, ',': 5, '-': 6, '.': 7, '5': 8, ':': 9, ';': 10, '?': 11, '^': 12, 'a': 13, 'b': 14, 'c': 15, 'd': 16, 'e': 17, 'f': 18, 'g': 19, 'h': 20, 'i': 21, 'k': 22, 'l': 23, 'm': 24, 'n': 25, 'o': 26, 'p': 27, 'q': 28, 'r': 29, 's': 30, 't': 31, 'u': 32, 'v': 33, 'w': 34, 'x': 35, 'y': 36, 'z': 37, '«': 38, '»': 39, 'а': 40, 'б': 41, 'в': 42, 'г': 43, 'д': 44, 'е': 45, 'ж': 46, 'з': 47, 'и': 48, 'й': 49, 'к': 50, 'л': 51, 'м': 52, 'н': 53, 'о': 54, 'п': 55, 'р': 56, 'с': 57, 'т': 58, 'у': 59, 'ф': 60, 'х': 61, 'ц': 62, 'ч': 63, 'ш': 64, 'щ': 65, 'ъ': 66, 'ы': 67, 'ь': 68, 'э': 69, 'ю': 70, 'я': 71, 'ё': 72, '–': 73, '—': 74, '’': 75, '…': 76, '€': 77}\n",
            "{0: '\\n', 1: ' ', 2: '!', 3: '(', 4: ')', 5: ',', 6: '-', 7: '.', 8: '5', 9: ':', 10: ';', 11: '?', 12: '^', 13: 'a', 14: 'b', 15: 'c', 16: 'd', 17: 'e', 18: 'f', 19: 'g', 20: 'h', 21: 'i', 22: 'k', 23: 'l', 24: 'm', 25: 'n', 26: 'o', 27: 'p', 28: 'q', 29: 'r', 30: 's', 31: 't', 32: 'u', 33: 'v', 34: 'w', 35: 'x', 36: 'y', 37: 'z', 38: '«', 39: '»', 40: 'а', 41: 'б', 42: 'в', 43: 'г', 44: 'д', 45: 'е', 46: 'ж', 47: 'з', 48: 'и', 49: 'й', 50: 'к', 51: 'л', 52: 'м', 53: 'н', 54: 'о', 55: 'п', 56: 'р', 57: 'с', 58: 'т', 59: 'у', 60: 'ф', 61: 'х', 62: 'ц', 63: 'ч', 64: 'ш', 65: 'щ', 66: 'ъ', 67: 'ы', 68: 'ь', 69: 'э', 70: 'ю', 71: 'я', 72: 'ё', 73: '–', 74: '—', 75: '’', 76: '…', 77: '€'}\n"
          ]
        }
      ],
      "source": [
        "# dict <index>:<char>\n",
        "# Your great code here\n",
        "token_to_idx = {char: index for index, char in enumerate(tokens)}\n",
        "\n",
        "# dict <char>:<index>\n",
        "# Your great code here\n",
        "idx_to_token = {index: char for index, char in enumerate(tokens)}\n",
        "\n",
        "print(token_to_idx)\n",
        "print(idx_to_token)"
      ]
    },
    {
      "cell_type": "code",
      "source": [
        "def encod(sec):\n",
        "    encod_sec = [token_to_idx[s] for s in sec]\n",
        "    return encod_sec"
      ],
      "metadata": {
        "id": "uaov3VGCpnfi"
      },
      "execution_count": 8,
      "outputs": []
    },
    {
      "cell_type": "code",
      "source": [
        "batch = encod(text[:128])\n",
        "embed = nn.Embedding(78, 20)\n",
        "res = embed(torch.LongTensor(batch))\n",
        "res.size(0)"
      ],
      "metadata": {
        "id": "RNI_mhkaqF-i",
        "outputId": "b9b07079-15aa-483b-816a-2a3191d9bfa5",
        "colab": {
          "base_uri": "https://localhost:8080/"
        }
      },
      "execution_count": 9,
      "outputs": [
        {
          "output_type": "execute_result",
          "data": {
            "text/plain": [
              "128"
            ]
          },
          "metadata": {},
          "execution_count": 9
        }
      ]
    },
    {
      "cell_type": "code",
      "source": [
        "device = 'cuda:0' if torch.cuda.is_available() else 'cpu'\n",
        "device"
      ],
      "metadata": {
        "colab": {
          "base_uri": "https://localhost:8080/",
          "height": 35
        },
        "id": "G2MUdf3EtAvI",
        "outputId": "c6c98fd5-191e-4f7d-fb9c-bbd8b88102dd"
      },
      "execution_count": 10,
      "outputs": [
        {
          "output_type": "execute_result",
          "data": {
            "text/plain": [
              "'cuda:0'"
            ],
            "application/vnd.google.colaboratory.intrinsic+json": {
              "type": "string"
            }
          },
          "metadata": {},
          "execution_count": 10
        }
      ]
    },
    {
      "cell_type": "markdown",
      "metadata": {
        "id": "C98mClZsMDd5"
      },
      "source": [
        "*Comment: in this task we have only 38 different tokens, so let's use one-hot encoding.*"
      ]
    },
    {
      "cell_type": "markdown",
      "metadata": {
        "id": "pNJmYFncMDd6"
      },
      "source": [
        "### Building the model"
      ]
    },
    {
      "cell_type": "markdown",
      "metadata": {
        "id": "HrDGQt6aMDd6"
      },
      "source": [
        "Now we want to build and train recurrent neural net which would be able to something similar to Shakespeare's poetry.\n",
        "\n",
        "Let's use vanilla RNN, similar to the one created during the lesson."
      ]
    },
    {
      "cell_type": "code",
      "execution_count": 11,
      "metadata": {
        "collapsed": true,
        "jupyter": {
          "outputs_hidden": true
        },
        "id": "EXTZJeuVMDd6"
      },
      "outputs": [],
      "source": [
        "# Your code here\n",
        "class CharRNNCell(nn.Module):\n",
        "\n",
        "    def __init__(self, num_tokens=len(tokens), embedding_size=18, rnn_num_units=128):\n",
        "        super(self.__class__,self).__init__()\n",
        "        self.num_units = rnn_num_units\n",
        "        self.embedding = nn.Embedding(num_tokens, embedding_size)\n",
        "        self.rnn_update = nn.Linear(embedding_size + rnn_num_units, rnn_num_units)\n",
        "        self.rnn_to_logits = nn.Linear(rnn_num_units, num_tokens)\n",
        "\n",
        "    def forward(self, x, h_prev):\n",
        "        x_emb = self.embedding(x)\n",
        "        x_and_h = torch.cat([x_emb, h_prev], dim=-1)\n",
        "        h_next = torch.tanh(self.rnn_update(x_and_h))\n",
        "\n",
        "        assert h_next.size() == h_prev.size()\n",
        "\n",
        "        logits = self.rnn_to_logits(h_next)\n",
        "\n",
        "        return h_next, logits\n",
        "\n",
        "    def initial_state(self, batch_size):\n",
        "        return torch.zeros(batch_size, self.num_units, requires_grad=True)\n",
        "\n",
        "\n"
      ]
    },
    {
      "cell_type": "code",
      "source": [
        "def rnn_loop(char_rnn, batch_ix):\n",
        "    batch_size = batch_ix.size(0)\n",
        "    hid_state = char_rnn.initial_state(batch_size).to(device)\n",
        "    logits = []\n",
        "\n",
        "    for x_t in batch_ix.transpose(0,1):\n",
        "        hid_state, logits_next = char_rnn(x_t, hid_state)\n",
        "        logits.append(logits_next)\n",
        "\n",
        "    return torch.stack(logits, dim=1)"
      ],
      "metadata": {
        "id": "8RJUF4e2vNYE"
      },
      "execution_count": 12,
      "outputs": []
    },
    {
      "cell_type": "code",
      "source": [
        "#char_rnn = CharRNNCell()\n",
        "#batch_ix = encod(text[:128])\n",
        "#batch_ix = torch.tensor(batch_ix, dtype=torch.int64)\n",
        "#batch_ix = batch_ix.view(1,128)\n",
        "#logit_seq = rnn_loop(char_rnn, batch_ix)\n",
        "#print(batch_ix[:, 1:].size())\n",
        "#print(logit_seq.size())\n",
        "#print(logit_seq[:, :-1].size())\n",
        "#print(batch_ix[:,1:].size())"
      ],
      "metadata": {
        "id": "IwrK0GQwgrYt"
      },
      "execution_count": null,
      "outputs": []
    },
    {
      "cell_type": "markdown",
      "metadata": {
        "id": "KEUgR6WqMDd6"
      },
      "source": [
        "Plot the loss function (axis X: number of epochs, axis Y: loss function)."
      ]
    },
    {
      "cell_type": "code",
      "execution_count": 13,
      "metadata": {
        "collapsed": true,
        "jupyter": {
          "outputs_hidden": true
        },
        "id": "gPgAE7XbMDd7"
      },
      "outputs": [],
      "source": [
        "# Your plot code here\n",
        "char_rnn = CharRNNCell().to(device)\n",
        "opt = torch.optim.Adam(char_rnn.parameters())\n",
        "loss_func = nn.CrossEntropyLoss()\n",
        "\n",
        "loss_history = []\n",
        "n_epochs = 100\n",
        "batch_size = 256\n"
      ]
    },
    {
      "cell_type": "code",
      "source": [
        "for ep in range(n_epochs):\n",
        "    ep_loss = []\n",
        "    for i in range(len(text) % batch_size):\n",
        "        start_batch = np.random.randint(0, len(text)-batch_size-1)\n",
        "        batch = encod(text[start_batch:start_batch+batch_size])\n",
        "        batch = torch.tensor(batch, dtype=torch.int64)\n",
        "        batch = batch.view(1, batch_size)\n",
        "        batch = batch.to(device)\n",
        "\n",
        "        logits_seq = rnn_loop(char_rnn, batch)\n",
        "\n",
        "        pred_logits = logits_seq[:, :-1]\n",
        "        actual_next_tokens = batch[:, 1:]\n",
        "\n",
        "        loss = loss_func(\n",
        "            pred_logits.reshape((-1, num_tokens)),\n",
        "            actual_next_tokens.reshape(-1)\n",
        "        )\n",
        "\n",
        "        loss.backward()\n",
        "        opt.step()\n",
        "        opt.zero_grad()\n",
        "\n",
        "        ep_loss.append(loss.item())\n",
        "\n",
        "    loss_history.append(np.mean(ep_loss))\n",
        "\n",
        "    clear_output(True)\n",
        "    plt.plot(loss_history,label='loss')\n",
        "    plt.legend()\n",
        "    plt.show()\n",
        "\n",
        "\n",
        "assert np.mean(loss_history[:10]) > np.mean(loss_history[-10:]), \"RNN didn't converge.\"\n",
        "\n",
        "\n"
      ],
      "metadata": {
        "id": "Un8tfSuFq3uY",
        "colab": {
          "base_uri": "https://localhost:8080/",
          "height": 430
        },
        "outputId": "65831ee5-c3d6-4b98-ef68-995067b6810d"
      },
      "execution_count": 14,
      "outputs": [
        {
          "output_type": "display_data",
          "data": {
            "text/plain": [
              "<Figure size 640x480 with 1 Axes>"
            ],
            "image/png": "[encoded data removed]"
          },
          "metadata": {}
        }
      ]
    },
    {
      "cell_type": "code",
      "execution_count": 16,
      "metadata": {
        "id": "p8A-9lIAMDd7"
      },
      "outputs": [],
      "source": [
        "def generate_sample(char_rnn, seed_phrase='Герой', max_length=MAX_LENGTH, temperature=1.0):\n",
        "    '''\n",
        "    ### Disclaimer: this is an example function for text generation.\n",
        "    ### You can either adapt it in your code or create your own function\n",
        "\n",
        "    The function generates text given a phrase of length at least SEQ_LENGTH.\n",
        "    :param seed_phrase: prefix characters. The RNN is asked to continue the phrase\n",
        "    :param max_length: maximum output length, including seed_phrase\n",
        "    :param temperature: coefficient for sampling.  higher temperature produces more chaotic outputs,\n",
        "        smaller temperature converges to the single most likely output.\n",
        "\n",
        "    Be careful with the model output. This model waits logits (not probabilities/log-probabilities)\n",
        "    of the next symbol.\n",
        "    '''\n",
        "\n",
        "    x_sequence = [token_to_idx[token] for token in seed_phrase]\n",
        "    x_sequence = torch.tensor([x_sequence], dtype=torch.int64).to(device)\n",
        "    hid_state = char_rnn.initial_state(batch_size=1).to(device)\n",
        "\n",
        "    #feed the seed phrase, if any\n",
        "    for i in range(len(seed_phrase) - 1):\n",
        "        #print(x_sequence[:, -1].shape, hid_state.shape)\n",
        "        hid_state, out = char_rnn(x_sequence[:, i], hid_state)\n",
        "\n",
        "    #start generating\n",
        "    for _ in range(max_length - len(seed_phrase)):\n",
        "        #print(x_sequence.shape, x_sequence, hid_state.shape)\n",
        "        hid_state, out = char_rnn(x_sequence[:, -1], hid_state)\n",
        "        # Be really careful here with the model output\n",
        "        p_next = F.softmax(out / temperature, dim=-1).to('cpu').data.numpy()[0]\n",
        "\n",
        "        # sample next token and push it back into x_sequence\n",
        "        #print(p_next.shape, len(tokens))\n",
        "        next_ix = np.random.choice(len(tokens), p=p_next)\n",
        "        next_ix = torch.tensor([[next_ix]], dtype=torch.int64).to(device)\n",
        "        #print(x_sequence.shape, next_ix.shape)\n",
        "        x_sequence = torch.cat([x_sequence, next_ix], dim=1)\n",
        "\n",
        "    return ''.join([tokens[ix] for ix in x_sequence.to('cpu').data.numpy()[0]])"
      ]
    },
    {
      "cell_type": "code",
      "execution_count": 17,
      "metadata": {
        "id": "0nIIExv8MDd8",
        "outputId": "48377c88-68d1-4228-fdae-2e61fbc5728f",
        "colab": {
          "base_uri": "https://localhost:8080/"
        }
      },
      "outputs": [
        {
          "output_type": "stream",
          "name": "stdout",
          "text": [
            "герой не назам\n",
            "и своей под на время скучка,\n",
            "в она страсти спера\n",
            "и слады с отразный умет.\n",
            "\n",
            "\n",
            "\n",
            "xxxii\n",
            "\n",
            "в каждала старинный,\n",
            "и взоро с нам обеденье,\n",
            "в бредь он груши было с отрустый изменьем\n",
            "он подалить молодой,\n",
            "предленный устала всё жел.\n",
            "\n",
            "\n",
            "\n",
            "xxi\n",
            "\n",
            "у нас онегин он она\n",
            "и стало в татьяна с гостит,\n",
            "не приветь об не замернилась\n",
            "на смеда в тем она садай\n",
            "но под не своей странной\n",
            "засерду на сердце может.\n",
            "\n",
            "\n",
            "\n",
            "xxii\n",
            "\n",
            "и страстой ображда,\n",
            "в столи, как постола печальной\n",
            "и страсти всего подруга\n",
            "следный ланять ставал\n",
            "его татьяна в доли не сотранил\n",
            "с печальных следа,\n",
            "и том был с ней и даней\n",
            "не друг, в их не по своей ней\n",
            "ней тем поэта ображенный,\n",
            "он гнать любива с ней гробранной\n",
            "душала в нет бруский пора.\n",
            "онегин он \n"
          ]
        }
      ],
      "source": [
        "print(generate_sample(char_rnn=char_rnn, seed_phrase='герой', max_length=700, temperature=0.5))"
      ]
    },
    {
      "cell_type": "code",
      "source": [
        "class CharRNNLoop(nn.Module):\n",
        "    def __init__(self, num_tokens=num_tokens, emb_size=18, rnn_num_units=128):\n",
        "        super(self.__class__, self).__init__()\n",
        "        self.train = True\n",
        "        self.emb = nn.Embedding(num_tokens, emb_size)\n",
        "        self.rnn = nn.RNN(input_size=emb_size,\n",
        "                          hidden_size=rnn_num_units,\n",
        "                          batch_first=True)\n",
        "        self.hid_to_logits = nn.Linear(rnn_num_units, num_tokens)\n",
        "\n",
        "    def forward(self, x, hid_state=None):\n",
        "        if self.train:\n",
        "            h_seq, _ = self.rnn(self.emb(x))\n",
        "            next_logits = self.hid_to_logits(h_seq)\n",
        "            return next_logits\n",
        "        else:\n",
        "            h_seq, hid_state = self.rnn(self.emb(x), hid_state)\n",
        "            next_logits = self.hid_to_logits(h_seq)\n",
        "            return next_logits, hid_state\n",
        "\n",
        "model = CharRNNLoop().to(device)\n",
        "opt = torch.optim.Adam(model.parameters())\n",
        "loss_func = nn.CrossEntropyLoss()\n",
        "loss_history = []\n",
        "n_epochs = 100\n",
        "batch_size = 256\n",
        "\n"
      ],
      "metadata": {
        "id": "OQ1Cqy6529oJ"
      },
      "execution_count": 27,
      "outputs": []
    },
    {
      "cell_type": "code",
      "source": [
        "model.train = True\n",
        "for ep in range(n_epochs):\n",
        "    ep_loss = []\n",
        "    for i in range(len(text) % batch_size):\n",
        "        start_batch = np.random.randint(0, len(text)-batch_size-1)\n",
        "        batch = encod(text[start_batch:start_batch+batch_size])\n",
        "        batch = torch.tensor(batch, dtype=torch.int64)\n",
        "        batch = batch.view(1, batch_size)\n",
        "        batch = batch.to(device)\n",
        "\n",
        "        logits_seq = model(batch)\n",
        "\n",
        "        pred_logits = logits_seq[:, :-1]\n",
        "        actual_next_tokens = batch[:, 1:]\n",
        "\n",
        "\n",
        "        loss = loss_func(\n",
        "            pred_logits.reshape((-1, num_tokens)),\n",
        "            actual_next_tokens.reshape(-1)\n",
        "        )\n",
        "\n",
        "        loss.backward()\n",
        "        opt.step()\n",
        "        opt.zero_grad()\n",
        "\n",
        "        ep_loss.append(loss.item())\n",
        "\n",
        "    loss_history.append(np.mean(ep_loss))\n",
        "\n",
        "    clear_output(True)\n",
        "    plt.plot(loss_history,label='loss')\n",
        "    plt.legend()\n",
        "    plt.show()\n",
        "\n",
        "assert np.mean(loss_history[:10]) > np.mean(loss_history[-10:]), \"RNN didn't converge.\""
      ],
      "metadata": {
        "colab": {
          "base_uri": "https://localhost:8080/",
          "height": 430
        },
        "id": "TyrxT66OJ5yu",
        "outputId": "c1cc0a44-4e01-4f2e-cea3-3680ad3d348c"
      },
      "execution_count": 29,
      "outputs": [
        {
          "output_type": "display_data",
          "data": {
            "text/plain": [
              "<Figure size 640x480 with 1 Axes>"
            ],
            "image/png": "[encoded data removed]"
          },
          "metadata": {}
        }
      ]
    },
    {
      "cell_type": "code",
      "source": [
        "def generate_sample(model, max_length, seed_phrase='Герой', temperature=1.0):\n",
        "\n",
        "    model.train = False\n",
        "\n",
        "    x_sequence = [token_to_idx[token] for token in seed_phrase]\n",
        "    x_sequence = torch.tensor([x_sequence], dtype=torch.int64).to(device)\n",
        "\n",
        "    #feed the seed phrase, if any\n",
        "    hid_state = None\n",
        "    for i in range(len(seed_phrase) - 1):\n",
        "        _, hid_state = model(x_sequence[:, i], hid_state)\n",
        "\n",
        "    #start generating\n",
        "    for _ in range(max_length - len(seed_phrase)):\n",
        "        out, hid_state = model(x_sequence[:, -1], hid_state)\n",
        "        p_next = F.softmax(out / temperature, dim=-1).to('cpu').data.numpy()[0]\n",
        "\n",
        "        # sample next token and push it back into x_sequence\n",
        "        next_ix = np.random.choice(len(tokens), p=p_next)\n",
        "        next_ix = torch.tensor([[next_ix]], dtype=torch.int64).to(device)\n",
        "        x_sequence = torch.cat([x_sequence, next_ix], dim=1)\n",
        "\n",
        "    return ''.join([tokens[ix] for ix in x_sequence.to('cpu').data.numpy()[0]])"
      ],
      "metadata": {
        "id": "rZ3HTvMZNg-Y"
      },
      "execution_count": 30,
      "outputs": []
    },
    {
      "cell_type": "code",
      "source": [
        "print(generate_sample(model, max_length=700, seed_phrase='дядя', temperature=0.5))"
      ],
      "metadata": {
        "id": "oelnqjC_P3Cj",
        "outputId": "bf8270dc-5618-45f7-d052-1d8302945ba7",
        "colab": {
          "base_uri": "https://localhost:8080/"
        }
      },
      "execution_count": 38,
      "outputs": [
        {
          "output_type": "stream",
          "name": "stdout",
          "text": [
            "дядя сердце так приретал\n",
            "и себя теперь и вычей там\n",
            "верем страсти молтали занет.\n",
            "посевой был с тайный мого была.\n",
            "\n",
            "\n",
            "\n",
            "xxxii\n",
            "\n",
            "всё должен света так и светей,\n",
            "весел помоб онегин души друзья,\n",
            "с ней оторасна сосегов,\n",
            "и весноски с поспетил свется,\n",
            "с ней сердце, постара смот добе\n",
            "правосновый стали уж говольно,\n",
            "так, на модный, приятный мой отом,\n",
            "и мог и сместа покорные свет\n",
            "уж вольбом с как мой не просточенья,\n",
            "старинит, он порок забли сад,\n",
            "и под одет не сображен!» —\n",
            "«честа принять он сердце пона воскровый,\n",
            "так там он и в начененный мого,\n",
            "так поэта под постали празванье\n",
            "и начаспились простоком,\n",
            "просто пред мой послихал\n",
            "мого как подруги не приходит светь\n",
            "потом на моять она судина,\n",
            "как и сонец не примедны\n"
          ]
        }
      ]
    },
    {
      "cell_type": "markdown",
      "metadata": {
        "id": "jBX5YWP4MDd9"
      },
      "source": [
        "### More poetic model\n",
        "\n",
        "Let's use LSTM instead of vanilla RNN and compare the results."
      ]
    },
    {
      "cell_type": "markdown",
      "metadata": {
        "id": "oFx80XBMMDd9"
      },
      "source": [
        "Plot the loss function of the number of epochs. Does the final loss become better?"
      ]
    },
    {
      "cell_type": "code",
      "execution_count": null,
      "metadata": {
        "collapsed": true,
        "jupyter": {
          "outputs_hidden": true
        },
        "id": "RKQv9XjvMDd-"
      },
      "outputs": [],
      "source": [
        "# Your beautiful code here"
      ]
    },
    {
      "cell_type": "markdown",
      "metadata": {
        "id": "xINqGUe_MDd-"
      },
      "source": [
        "Generate text using the trained net with different `temperature` parameter: `[0.1, 0.2, 0.5, 1.0, 2.0]`.\n",
        "\n",
        "Evaluate the results visually, try to interpret them."
      ]
    },
    {
      "cell_type": "code",
      "execution_count": null,
      "metadata": {
        "collapsed": true,
        "jupyter": {
          "outputs_hidden": true
        },
        "id": "09BWQP-cMDd-"
      },
      "outputs": [],
      "source": [
        "# Text generation with different temperature values here"
      ]
    },
    {
      "cell_type": "markdown",
      "metadata": {
        "id": "Z8Gl05e4MDd_"
      },
      "source": [
        "### Saving and loading models"
      ]
    },
    {
      "cell_type": "markdown",
      "metadata": {
        "id": "CbPvwIEZMDd_"
      },
      "source": [
        "Save the model to the disk, then load it and generate text. Examples are available [here](https://pytorch.org/tutorials/beginner/saving_loading_models.html])."
      ]
    },
    {
      "cell_type": "code",
      "execution_count": null,
      "metadata": {
        "collapsed": true,
        "jupyter": {
          "outputs_hidden": true
        },
        "id": "K6sbGyvVMDd_"
      },
      "outputs": [],
      "source": [
        "# Saving and loading code here"
      ]
    },
    {
      "cell_type": "markdown",
      "metadata": {
        "id": "mkUb5VkSMDeA"
      },
      "source": [
        "### References\n",
        "1. <a href='http://karpathy.github.io/2015/05/21/rnn-effectiveness/'> Andrew Karpathy blog post about RNN. </a>\n",
        "There are several examples of genration: Shakespeare texts, Latex formulas, Linux Sourse Code and children names.\n",
        "2. <a href='https://github.com/karpathy/char-rnn'> Repo with char-rnn code </a>\n",
        "3. Cool repo with PyTorch examples: [link](https://github.com/spro/practical-pytorch`)"
      ]
    }
  ],
  "metadata": {
    "anaconda-cloud": {},
    "kernelspec": {
      "display_name": "Python 3",
      "name": "python3"
    },
    "language_info": {
      "codemirror_mode": {
        "name": "ipython",
        "version": 3
      },
      "file_extension": ".py",
      "mimetype": "text/x-python",
      "name": "python",
      "nbconvert_exporter": "python",
      "pygments_lexer": "ipython3",
      "version": "3.11.4"
    },
    "colab": {
      "provenance": [],
      "gpuType": "T4"
    },
    "accelerator": "GPU"
  },
  "nbformat": 4,
  "nbformat_minor": 0
}